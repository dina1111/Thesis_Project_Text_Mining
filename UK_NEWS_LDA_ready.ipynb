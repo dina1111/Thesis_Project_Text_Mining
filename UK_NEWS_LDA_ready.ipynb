{
 "cells": [
  {
   "cell_type": "code",
   "execution_count": 2,
   "metadata": {},
   "outputs": [],
   "source": [
    "import pandas as pd\n",
    "from sklearn.feature_extraction.text import TfidfVectorizer,CountVectorizer\n",
    "from sklearn.decomposition import LatentDirichletAllocation\n",
    "from datetime import datetime\n",
    "import numpy as np\n",
    "from sklearn.preprocessing import LabelEncoder\n",
    "from tmtoolkit.topicmod.evaluate import metric_coherence_gensim\n",
    "import pyLDAvis\n",
    "import pyLDAvis.sklearn"
   ]
  },
  {
   "cell_type": "code",
   "execution_count": 3,
   "metadata": {},
   "outputs": [],
   "source": [
    "import warnings\n",
    "warnings.filterwarnings(\"ignore\")"
   ]
  },
  {
   "cell_type": "code",
   "execution_count": 4,
   "metadata": {},
   "outputs": [],
   "source": [
    "UK_News = pd.read_pickle(r'UK_News_Modif1_labels_new.df')"
   ]
  },
  {
   "cell_type": "markdown",
   "metadata": {},
   "source": [
    "# LDA "
   ]
  },
  {
   "cell_type": "markdown",
   "metadata": {},
   "source": [
    "### Data embedding "
   ]
  },
  {
   "cell_type": "code",
   "execution_count": 5,
   "metadata": {},
   "outputs": [],
   "source": [
    "# this TfidfVectorizer has been used for embedding tweets when has been\n",
    "# performed by setting use_idf to 'False' or to 'True' depending of on which kind of embedding want to use\n",
    "tfidf_UKNews_LDA = TfidfVectorizer(tokenizer=lambda x: x,\n",
    "                                   preprocessor=lambda x: x,\n",
    "                                   min_df=0,max_df=1.0,use_idf=False,\n",
    "                                   smooth_idf=False) \n",
    "#fit the TfidfVectorizer on tokens and get Document frequency matrix\n",
    "dtm_UKNews_LDA = tfidf_UKNews_LDA.fit_transform(UK_News['Tweets_C_tok12'])\n"
   ]
  },
  {
   "cell_type": "code",
   "execution_count": 14,
   "metadata": {},
   "outputs": [
    {
     "name": "stdout",
     "output_type": "stream",
     "text": [
      "The shape of Document Term Matrix is: (105622, 4352)\n"
     ]
    }
   ],
   "source": [
    "print('The shape of Document Term Matrix is:',dtm_UKNews_LDA.shape)"
   ]
  },
  {
   "cell_type": "code",
   "execution_count": 11,
   "metadata": {},
   "outputs": [
    {
     "name": "stdout",
     "output_type": "stream",
     "text": [
      "Nr of unique words is 4352 or Nr of words into the vocabulary is 4352\n"
     ]
    }
   ],
   "source": [
    "print('Nr of unique words is',len(tfidf_UKNews_LDA.get_feature_names()),'or Nr of words into the vocabulary is',len(tfidf_UKNews_LDA.vocabulary_))"
   ]
  },
  {
   "cell_type": "code",
   "execution_count": null,
   "metadata": {},
   "outputs": [],
   "source": [
    "# Define CountVectorizer \n",
    "countV_UKNews_LDA= CountVectorizer(tokenizer=lambda x: x,preprocessor=lambda x: x,min_df=0,max_df=1.0, )\n",
    "#Fitting CountVectorizer on tokens and get the data matrix\n",
    "countV_Fit_UKNews_LDA = countV_UKNews_LDA.fit_transform(UK_News['Tweets_C_tok12'])"
   ]
  },
  {
   "cell_type": "code",
   "execution_count": 400,
   "metadata": {},
   "outputs": [
    {
     "name": "stdout",
     "output_type": "stream",
     "text": [
      "Sparsicity:  0.17394811840113522 %\n"
     ]
    }
   ],
   "source": [
    "data_dense = dtm_UKNews_LDA.todense()\n",
    "#Since most cells in this matrix will be zero, I am interested in knowing what percentage of cells contain non-zero values\n",
    "# Compute Sparsicity = Percentage of Non-Zero cells\n",
    "print(\"Sparsicity: \", ((data_dense > 0).sum()/data_dense.size)*100, \"%\")"
   ]
  },
  {
   "cell_type": "markdown",
   "metadata": {},
   "source": [
    "### LDA clustering model "
   ]
  },
  {
   "cell_type": "markdown",
   "metadata": {},
   "source": [
    "Have been performed:\n",
    "<br>\n",
    "- LDA with use_idf and smooth_idf =True \n",
    "- LDA with use_idf and smooth_idf =False \n",
    "- LDA with CountVectorizer \n",
    "<br>\n",
    "Each of these  models have been performed with 'n_components' parameter with several values: 13,14,15 and 16. \n",
    "<br> \n",
    "The ouput of the follwing cells are referingt to the last LDA model configuration that has been run"
   ]
  },
  {
   "cell_type": "code",
   "execution_count": 7,
   "metadata": {},
   "outputs": [],
   "source": [
    "#Define LDA model \n",
    "#the follwoing code has been used for each LDA configuration by changing\n",
    "#n_components parameter.\n",
    "LDA_skl = LatentDirichletAllocation(n_components=14,random_state=11,\n",
    "                                    max_iter=100,max_doc_update_iter=1000,\n",
    "                                    n_jobs=-1) "
   ]
  },
  {
   "cell_type": "code",
   "execution_count": 8,
   "metadata": {},
   "outputs": [],
   "source": [
    "# Fitting the LDA model on embedded data \n",
    "LDA_skl.fit(dtm_UKNews_LDA ) \n",
    "topics_LDA_skl = LDA_skl.transform(dtm_UKNews_LDA)"
   ]
  },
  {
   "cell_type": "code",
   "execution_count": 631,
   "metadata": {},
   "outputs": [],
   "source": [
    "# assigning LDA cluster to each tweet\n",
    "UK_News['LDA_skl Topic'] = topics_LDA_skl.argmax(axis=1) "
   ]
  },
  {
   "cell_type": "code",
   "execution_count": 446,
   "metadata": {},
   "outputs": [
    {
     "name": "stdout",
     "output_type": "stream",
     "text": [
      "THE TOP 15 WORDS FOR TOPIC #0\n",
      "['man', 'protester', 'anti', 'podcast', 'french', 'listen', 'officer', 'trump', 'people', 'protest', 'black', 'attack', 'white', 'house', 'police']\n",
      "\n",
      "\n",
      "THE TOP 15 WORDS FOR TOPIC #1\n",
      "['presidential', 'poll', 'result', 'campaign', 'america', 'state', 'vote', 'president', 'win', 'joe', 'donald', 'usa', 'biden', 'election', 'trump']\n",
      "\n",
      "\n",
      "THE TOP 15 WORDS FOR TOPIC #2\n",
      "['local', 'christmas', 'pm', 'area', 'national', 'secretary', 'burley', 'kay', 'government', 'rule', 'england', 'restriction', 'tier', 'coronavirus', 'lockdown']\n",
      "\n",
      "\n",
      "THE TOP 15 WORDS FOR TOPIC #3\n",
      "['court', 'boy', 'girl', 'meghan', 'life', 'care', 'son', 'die', 'family', 'baby', 'man', 'mum', 'old', 'home', 'woman']\n",
      "\n",
      "\n",
      "THE TOP 15 WORDS FOR TOPIC #4\n",
      "['uk', 'sell', 'spend', 'bn', 'sale', 'food', 'cut', 'company', 'dollar', 'pay', 'job', 'million', 'money', 'christmas', 'pound']\n",
      "\n",
      "\n",
      "THE TOP 15 WORDS FOR TOPIC #5\n",
      "['william', 'series', 'harry', 'film', 'kate', 'crown', 'princess', 'die', 'love', 'fan', 'queen', 'royal', 'prince', 'star', 'celebrity']\n",
      "\n",
      "\n",
      "THE TOP 15 WORDS FOR TOPIC #6\n",
      "['worker', 'suspect', 'pfizer', 'police', 'ex', 'shoot', 'dead', 'north', 'murder', 'man', 'charge', 'south', 'rishi', 'sunak', 'celebrity']\n",
      "\n",
      "\n",
      "THE TOP 15 WORDS FOR TOPIC #7\n",
      "['economy', 'plan', 'trade', 'prime', 'crisis', 'britain', 'minister', 'warn', 'union', 'deal', 'european', 'brexit', 'uk', 'johnson', 'boris']\n",
      "\n",
      "\n",
      "THE TOP 15 WORDS FOR TOPIC #8\n",
      "['message', 'mike', 'kamala', 'spark', 'meal', 'wear', 'harris', 'debate', 'medium', 'post', 'social', 'mask', 'free', 'child', 'school']\n",
      "\n",
      "\n",
      "THE TOP 15 WORDS FOR TOPIC #9\n",
      "['liverpool', 'london', 'rescue', 'car', 'premier', 'win', 'united', 'manchester', 'man', 'fire', 'football', 'league', 'city', 'world', 'sport']\n",
      "\n",
      "\n",
      "THE TOP 15 WORDS FOR TOPIC #10\n",
      "['report', 'accuse', 'keir', 'mp', 'tory', 'politic', 'starmer', 'war', 'law', 'student', 'leader', 'right', 'government', 'labour', 'party']\n",
      "\n",
      "\n",
      "THE TOP 15 WORDS FOR TOPIC #11\n",
      "['pier', 'maradona', 'morgan', 'loss', 'weekend', 'flight', 'warning', 'cancel', 'dog', 'uk', 'air', 'holiday', 'football', 'game', 'travel']\n",
      "\n",
      "\n",
      "THE TOP 15 WORDS FOR TOPIC #12\n",
      "['nhs', 'number', 'positive', 'percentage', 'hospital', 'health', 'rise', 'death', 'pandemic', 'people', 'uk', 'case', 'test', 'vaccine', 'coronavirus']\n",
      "\n",
      "\n"
     ]
    }
   ],
   "source": [
    "for index,topic in enumerate(LDA_skl.components_):  \n",
    "    print(f'THE TOP 15 WORDS FOR TOPIC #{index}')\n",
    "    print([countV_UKNews_LDA.get_feature_names()[i] for i in topic.argsort()[-15:]])\n",
    "    print('\\n')"
   ]
  },
  {
   "cell_type": "markdown",
   "metadata": {},
   "source": [
    "### Models coherence scores\n",
    "Once a certain LDA model configuration has been run then the coherence score for each of them has been computed and taken note of the values since each LDA model configuration has been run one at time by changing and using the appropriate model variables and parameters values."
   ]
  },
  {
   "cell_type": "code",
   "execution_count": 633,
   "metadata": {},
   "outputs": [
    {
     "data": {
      "text/plain": [
       "0.7646429214383883"
      ]
     },
     "execution_count": 633,
     "metadata": {},
     "output_type": "execute_result"
    }
   ],
   "source": [
    "#countV_UKNews_LDA  countV_Fit_UKNews_LDA \n",
    "metric_coherence_gensim(measure='c_v', #u_mass, c_v\n",
    "                        top_n=20, return_mean=True, #return_coh_model=False\n",
    "                        topic_word_distrib=LDA_skl.components_, \n",
    "                        dtm=dtm_UKNews_LDA,  \n",
    "                        vocab=np.array([x for x in tfidf_UKNews_LDA.vocabulary_.keys()]), \n",
    "                       texts=UK_News['Tweets_C_tok12'].values)\n"
   ]
  },
  {
   "cell_type": "markdown",
   "metadata": {},
   "source": [
    "#### Notes of coherence\n",
    "1) with 15 clusters: 0.74(with idf=True), 0.75 (with idf=False),0.76 (with CountVect)\n",
    "<br>\n",
    "2) with 14 clusters: 0.76(with idf=True), 0.765(with idf=False),0.769 (with CountVect)\n",
    "<br>\n",
    "3) with 13 clusters: 0.76 (with idf=True), 0.77(with idf=False), 0.763 (with CountVect)\n",
    "<br>\n",
    "4) with 16 clusters: 0.75(with idf=True), 0.75(with idf=False), 0.754 (with CountVect)"
   ]
  },
  {
   "cell_type": "markdown",
   "metadata": {},
   "source": [
    "### LDA clusters and clusters words relevance Visualization"
   ]
  },
  {
   "cell_type": "code",
   "execution_count": 9,
   "metadata": {},
   "outputs": [],
   "source": [
    "pyLDAvis.enable_notebook()"
   ]
  },
  {
   "cell_type": "code",
   "execution_count": null,
   "metadata": {
    "scrolled": false
   },
   "outputs": [],
   "source": [
    "dash = pyLDAvis.sklearn.prepare(LDA_skl, dtm_UKNews_LDA, tfidf_UKNews_LDA,mds='tsne', sort_topics=False) #mds='mmds' , mds='tsne'\n",
    "dash"
   ]
  },
  {
   "cell_type": "markdown",
   "metadata": {},
   "source": [
    "# Models Validation process\n",
    "For each LDA model configuration have been examined each cluster most relevant words and based of such examination each cluster has been assigned to a topic label. During such process have been taken notes about cluster topics.\n",
    "<br>\n",
    "During the labeling process were used the following labels:\n",
    "<br>\n",
    "(since these labels, except 'other Labels', are the labels used during the human labeling of a sample of tweets)\n",
    "<br>\n",
    "Label1-covid, health\n",
    "<br>\n",
    "Labe2-election, usa, trump, biden,usa politics\n",
    "<br>\n",
    "Label3- crimes\n",
    "<br>\n",
    "Label4-royals\n",
    "<br>\n",
    "Label4_2-celebrity\n",
    "<br>\n",
    "Label5-not used. Wanted to be used for 'Life&People' topic but because of time consuming of the labeling process at the end it was not used but in the future can be used for such \n",
    "topic\n",
    "<br>\n",
    "Label6- sport\n",
    "<br>\n",
    "Label7-brexit\n",
    "<br>\n",
    "Label8-space\n",
    "<br>\n",
    "Label8_2-tech, digital companies. It has been calles 8_2 instead of just 9 because during \n",
    "the labeling process initially there was some indecision if to put it together with Label8\n",
    "<br>\n",
    "Label9-politics\n",
    "<br>\n",
    "Label10-economy, financial, markets\n",
    "<br>\n",
    "Label11-not used, the same as fo Label5 \n",
    "<br>\n",
    "Label12- international affairs, war, conflicts\n",
    "<br>\n",
    "Label13- meteo, environment conditions \n",
    "<br>\n",
    "Plus 'other Labels' if other topics emerged or merge topics if they are emerged into a single cluster\n",
    "\n"
   ]
  },
  {
   "cell_type": "markdown",
   "metadata": {},
   "source": [
    "#### Labeling LDA with idf=True and 13 clusters"
   ]
  },
  {
   "cell_type": "code",
   "execution_count": 636,
   "metadata": {},
   "outputs": [],
   "source": [
    "#UK_News.insert(34, \"LDA_skl Topic13 Label\", \" \")\n",
    "labels_true15=['Label1','Label2','Label3','Label4','Label4_2','Label6','Label7','Label8','Label8_2,Label10','Label9']\n",
    "labels_lda15=[2,          1,       0,      5,        8,           9,        7,        3,     4,                10]\n",
    "#cluster 10 mixed, politics, crimes\n",
    "#cluster 11 mostly about crime but also weather is whole included in it, label13 will not be considered\n",
    "#label10 about economy is inside cluster 4 and 10, it is not well defined, label10 and 8_2 will be taken together as a cluster\n",
    "#label 12 can not be related to a cluster so will not be considerated as cluster\n",
    "for i, j in zip(labels_lda15, labels_true15):\n",
    "    UK_News.loc[UK_News['LDA_skl Topic13'] == i, ['LDA_skl Topic13 Label']] =j\n",
    "labels_true25=['Label1','Label3','Label1']\n",
    "labels_lda25=[6,11,12]\n",
    "for i, j in zip(labels_lda25, labels_true25):\n",
    "    UK_News.loc[UK_News['LDA_skl Topic13'] == i, ['LDA_skl Topic13 Label']] =j"
   ]
  },
  {
   "cell_type": "markdown",
   "metadata": {},
   "source": [
    "#### Labeling LDA with idf=True and 16 clusters"
   ]
  },
  {
   "cell_type": "code",
   "execution_count": 617,
   "metadata": {},
   "outputs": [],
   "source": [
    "#UK_News.insert(33, \"LDA_skl Topic16 Label\", \" \")\n",
    "labels_true14=['Label1','Label2','Label3','Label4','Label4_2','Label6','Label7','Label8_2','Label9','Label10','Label12','Label13','Mix']\n",
    "labels_lda14=[2,          1,       14,      5,        8,           9,        7,        4,     10,      13,       3,       11 ,0]\n",
    "#cluster 0 mixed\n",
    "#cluster 3 mixed: space, nuclear, royals, is not clear let assign it to label 12 while label8 is not cosidered\n",
    "#cluster 11 mixed about crime and weather\n",
    "for i, j in zip(labels_lda14, labels_true14):\n",
    "    UK_News.loc[UK_News['LDA_skl Topic16'] == i, ['LDA_skl Topic16 Label']] =j\n",
    "labels_true24=['Label1','Label1','Label3']\n",
    "labels_lda24=[6,12,15]\n",
    "for i, j in zip(labels_lda24, labels_true24):\n",
    "    UK_News.loc[UK_News['LDA_skl Topic16'] == i, ['LDA_skl Topic16 Label']] =j"
   ]
  },
  {
   "cell_type": "markdown",
   "metadata": {},
   "source": [
    "#### Labeling LDA with idf=True and 14 clusters"
   ]
  },
  {
   "cell_type": "code",
   "execution_count": 603,
   "metadata": {},
   "outputs": [],
   "source": [
    "#UK_News.insert(32, \"LDA_skl Topic14 Label\", \" \")\n",
    "labels_true13=['Label1','Label2','Label3','Label4','Label4_2','Label6','Label7','Label8_2','Label9','Label10','Label12','Label13']\n",
    "labels_lda13=[12,          0,       3,      5,      8,           9,        7,        4,       10,      13,       1,        11  ]\n",
    "#cluster 6 mix crime and vaccine\n",
    "#label8 about space is into cluster 3 that is about crime mostly so label8 will not be considered \n",
    "for i, j in zip(labels_lda13, labels_true13):\n",
    "    UK_News.loc[UK_News['LDA_skl Topic14'] == i, ['LDA_skl Topic14 Label']] =j\n",
    "#'Label9' -> in 10 plus 2 \n",
    "labels_true23=['Label1','Label3']\n",
    "labels_lda23=[2,6]\n",
    "for i, j in zip(labels_lda23, labels_true23):\n",
    "    UK_News.loc[UK_News['LDA_skl Topic14'] == i, ['LDA_skl Topic14 Label']] =j"
   ]
  },
  {
   "cell_type": "markdown",
   "metadata": {},
   "source": [
    "#### Labeling LDA with idf=True and 15 clusters"
   ]
  },
  {
   "cell_type": "code",
   "execution_count": 234,
   "metadata": {},
   "outputs": [],
   "source": [
    "#UK_News.insert(23, \"LDA_skl Topic15 Label\", \" \")\n",
    "labels_true1=['Label1','Label2','Label3','Label4','Label4_2','Label6','Label7','Label8','Label8_2','Label9','Label10','Label13']\n",
    "labels_lda1=[6,           1,       14,      5,      8,        9,        7,        3,         4,         10 ,      13,         11  ]\n",
    "for i, j in zip(labels_lda1, labels_true1):\n",
    "    UK_News.loc[UK_News['LDA_skl Topic15'] == i, ['LDA_skl Topic15 Label']] =j\n",
    "#'Label3'->14 plus 9 plus \n",
    "#'Label4'->5 plus 3; 'Label4_2'->8 plus 5\n",
    "#'Label8' ->3 (in the cluster that is mix a bit of celeb/royal, space, international affairs/conflicts, eviroment events but seems the topic space is all included here and not splitted among other cluters too)\n",
    "# so Label8 will not be assigned as cluster \n",
    "#'Label8_2' -> 4 and (a bit the term technology in 6)\n",
    "#'Label9' -> in 10 plus 2 \n",
    "labels_true2=['Label2','Label1', 'Label1']\n",
    "labels_lda2=[0,2,12]\n",
    "for i, j in zip(labels_lda2, labels_true2):\n",
    "    UK_News.loc[UK_News['LDA_skl Topic15'] == i, ['LDA_skl Topic15 Label']] =j"
   ]
  },
  {
   "cell_type": "markdown",
   "metadata": {},
   "source": [
    "#### Labeling LDA with idf=False and 16 clusters"
   ]
  },
  {
   "cell_type": "code",
   "execution_count": 588,
   "metadata": {},
   "outputs": [],
   "source": [
    "#UK_News.insert(31, \"LDA_skl_False_idf Topic16 Label\", \" \")\n",
    "labels_true8=['Label1','Label2','Label3','Label4','Label4_2','Label6','Label7','Label8_2','Label9','Label10','Label13']\n",
    "labels_lda8=[    2,         1,       6,      3,       5,        9,        7,         4,      10,      13,        11      ]\n",
    "#clsuter 3 about royals plus space(secondary according to top words)\n",
    "#cluster 8 pretty mixed\n",
    "#cluster 11 pretty mixed but for sure almost all about weather is in it\n",
    "for i, j in zip(labels_lda8, labels_true8):\n",
    "    UK_News.loc[UK_News['LDA_skl_False_idf Topic16'] == i, ['LDA_skl_False_idf Topic16 Label']] =j\n",
    "\n",
    "labels_true88=['Label2','Label4_2','Label1','Label3','Label1']\n",
    "labels_lda88=[0,8,12,14,15]\n",
    "for i, j in zip(labels_lda88, labels_true88):\n",
    "    UK_News.loc[UK_News['LDA_skl_False_idf Topic16'] == i, ['LDA_skl_False_idf Topic16 Label']] =j"
   ]
  },
  {
   "cell_type": "markdown",
   "metadata": {},
   "source": [
    "#### Labeling LDA with idf=False and 13 clusters"
   ]
  },
  {
   "cell_type": "code",
   "execution_count": 563,
   "metadata": {},
   "outputs": [],
   "source": [
    "#UK_News.insert(30, \"LDA_skl_False_idf Topic13 Label\", \" \")\n",
    "labels_true7=['Label1','Label2','Label3','Label4,Label4_2','Label6','Label7','Label8','Label8_2,Label10','Label9','Label12','Label13']\n",
    "labels_lda7=[    2,         1,       6,      5,               9,        7,       3,          4,            10,         0,      11      ]\n",
    "#cluster 3 pretty mixe: space, life, negative/bad news\n",
    "#cluster 7 about brexit but also vaccine, plus economy\n",
    "#cluster 8 pretty mix about life and usa politics election\n",
    "#cluster 11 about holiday and weather and other\n",
    "#cluster 4 about companies and also financials, label8_2 and 10 are kespt together\n",
    "for i, j in zip(labels_lda7, labels_true7):\n",
    "    UK_News.loc[UK_News['LDA_skl_False_idf Topic13'] == i, ['LDA_skl_False_idf Topic13 Label']] =j\n",
    "\n",
    "labels_true77=['Label2','Label1']\n",
    "labels_lda77=[8,12]\n",
    "for i, j in zip(labels_lda77, labels_true77):\n",
    "    UK_News.loc[UK_News['LDA_skl_False_idf Topic13'] == i, ['LDA_skl_False_idf Topic13 Label']] =j"
   ]
  },
  {
   "cell_type": "markdown",
   "metadata": {},
   "source": [
    "#### Labeling LDA with idf=False and 14 clusters"
   ]
  },
  {
   "cell_type": "code",
   "execution_count": 543,
   "metadata": {},
   "outputs": [],
   "source": [
    "#UK_News.insert(29, \"LDA_skl_False_idf Topic14 Label\", \" \")\n",
    "labels_true7=['Label1','Label2','Label3','Label4,Label4_2','Label6','Label7','Label8','Label8_2','Label9','Label10','Label12','Label13']\n",
    "labels_lda7=[    2,         0,       6,      5,               9,        7,       3,          4,      10,      13,         1,      11      ]\n",
    "#cluster 3 pretty mixed - life, crime, space \n",
    "#cluster5 is about royals but also celebrities so will be kept together label4 and 4_2\n",
    "for i, j in zip(labels_lda7, labels_true7):\n",
    "    UK_News.loc[UK_News['LDA_skl_False_idf Topic14'] == i, ['LDA_skl_False_idf Topic14 Label']] =j\n",
    "labels_true77=['Label1','Label4,Label4_2']\n",
    "labels_lda77=[12,8]\n",
    "for i, j in zip(labels_lda77, labels_true77):\n",
    "    UK_News.loc[UK_News['LDA_skl_False_idf Topic14'] == i, ['LDA_skl_False_idf Topic14 Label']] =j"
   ]
  },
  {
   "cell_type": "markdown",
   "metadata": {},
   "source": [
    "#### Labeling LDA with idf=False and 15 clusters"
   ]
  },
  {
   "cell_type": "code",
   "execution_count": 148,
   "metadata": {},
   "outputs": [],
   "source": [
    "\n",
    "labels_true11=['Label1','Label2','Label3','Label4','Label4_2','Label6','Label7','Label8_2','Label9','Label10','Label13']\n",
    "labels_lda11=[12, 1, 14,  3,  5, 9, 7,  4, 10 , 13,   11  ]\n",
    "for i, j in zip(labels_lda11, labels_true11):\n",
    "    UK_News.loc[UK_News['LDA_skl_False_idf Topic15'] == i, ['LDA_skl_False_idf Topic15 Label']] =j\n",
    "#'Label1'->12 plus 2  #'Label2'->1 plus 0\n",
    "#'Label3' -> 14 puls 6\n",
    "#Label8->no cluster well defined, it is into cluster 3 that speaks about celebrities mostly\n",
    "### ATTETION: IN CLUSTER 6 THERE ARE LABELS 3 AND 12 #Label12-> XX  so i will keep only label 3 for clusters 6 and 14 while the label 12\n",
    "#can not be well definded as cluster.\n",
    "# IN CLUSTER 3 THERE ARE MANILY LABEL4 BUT ALSO LABEL8, we will keep only label4 for cluster 3 while label8 can not be well defined as \n",
    "#cluster\n",
    "labels_true22=['Label2','Label1','Label3','Label_people_life' ]\n",
    "labels_lda22=[0,2,6,8]\n",
    "for i, j in zip(labels_lda22, labels_true22):\n",
    "    UK_News.loc[UK_News['LDA_skl_False_idf Topic15'] == i, ['LDA_skl_False_idf Topic15 Label']] =j\n"
   ]
  },
  {
   "cell_type": "markdown",
   "metadata": {},
   "source": [
    "#### Labeling LDA with CountVect and 16 clusters"
   ]
  },
  {
   "cell_type": "code",
   "execution_count": 504,
   "metadata": {},
   "outputs": [],
   "source": [
    "#UK_News.insert(28, \"LDA_skl_CountV Topic16 Label\", \" \")\n",
    "labels_true6=['Label1','Label2','Label3','Label4','Label4_2','Label6','Label7','Label8_2','Label9','Label10','Label13','Life_schoolMix']\n",
    "labels_lda6=[    2,         1,       14,      3,       5,        9,        7,        4,      10 ,      13,          11,     8 ]\n",
    "#cluster 0 pretty mixed\n",
    "#cluster 3 about royals, plus space, plus others\n",
    "#cluster 4 about economy, companies, tech companies, sells\n",
    "#cluster 10 about politics, then about international issues and also about crime\n",
    "#cluster 11 pretty mixed including weather\n",
    "for i, j in zip(labels_lda6, labels_true6):\n",
    "    UK_News.loc[UK_News['LDA_skl_CountV Topic16'] == i, ['LDA_skl_CountV Topic16 Label']] =j\n",
    "labels_true6=['Label4_2','Label1','Life_schoolMix','Label1']\n",
    "labels_lda6=[6,12,0,15]\n",
    "for i, j in zip(labels_lda6, labels_true6):\n",
    "    UK_News.loc[UK_News['LDA_skl_CountV Topic16'] == i, ['LDA_skl_CountV Topic16 Label']] =j"
   ]
  },
  {
   "cell_type": "markdown",
   "metadata": {},
   "source": [
    "#### Labeling LDA with CountVect and 13 clusters"
   ]
  },
  {
   "cell_type": "code",
   "execution_count": 471,
   "metadata": {},
   "outputs": [],
   "source": [
    "#UK_News.insert(27, \"LDA_skl_CountV Topic13 Label\", \" \")\n",
    "labels_true5=['Label1','Label2','Label3','Label4,Label4_2','Label6','Label7','Label8','Label8_2,Label10','Label9','Label13','Life_schoolMix']\n",
    "labels_lda5=[    2,         1,       0,      5,               9,        7,      3,         4,              10 ,         11,     8 ]\n",
    "# Cluster 0 very mixed\n",
    "# Cluster 3 is about life and space\n",
    "# Cluster 4 is about economy and tech companies will put label8_2 and label10 together for cluster 4\n",
    "# Cluster 5 is about royals plus celebrity: Label4 and 4_2 together\n",
    "# Cluster 6 is pretty mixed\n",
    "# Cluster 7 is pretty mixed: brexit, politics, economy, international issues. The \n",
    "# So Label7 cluster 7 , while  label12 will not be considered since it can not be related to a cluster in a \"evident way\"\n",
    "# Cluster 11 is pretty mixed: travel,sport, weather,  ecc\n",
    "for i, j in zip(labels_lda5, labels_true5):\n",
    "    UK_News.loc[UK_News['LDA_skl_CountV Topic13'] == i, ['LDA_skl_CountV Topic13 Label']] =j\n",
    "labels_true5=['Label3','Label1']\n",
    "labels_lda5=[6,12]\n",
    "for i, j in zip(labels_lda5, labels_true5):\n",
    "    UK_News.loc[UK_News['LDA_skl_CountV Topic13'] == i, ['LDA_skl_CountV Topic13 Label']] =j"
   ]
  },
  {
   "cell_type": "markdown",
   "metadata": {},
   "source": [
    "#### Labeling LDA with CountVect and 14 clusters"
   ]
  },
  {
   "cell_type": "code",
   "execution_count": 423,
   "metadata": {},
   "outputs": [],
   "source": [
    "#UK_News.insert(26, \"LDA_skl_CountV Topic14 Label\", \" \")\n",
    "labels_true4=['Label1','Label2','Label3','Label4,Label4_2','Label6','Label7','Label8','Label8_2','Label9, Label12','Label10','Label13','Life_schoolMix']\n",
    "labels_lda4=[    2,         0,       6,      5,               9,        7,        3,         4,      10 ,            13,         11 ,  8 ]\n",
    "#Label8 is abuout life and space\n",
    "#Label7 about brexit plus politics\n",
    "#Life_schoolMix for cluster 8\n",
    "# Cluster 10 contains both label10 and 12 about politics and world conflicts\n",
    "# Cluster 5 contains bothe label4 and 4_2, \n",
    "for i, j in zip(labels_lda4, labels_true4):\n",
    "    UK_News.loc[UK_News['LDA_skl_CountV Topic14'] == i, ['LDA_skl_CountV Topic14 Label']] =j\n",
    "labels_true33=['Label2','Label1']\n",
    "labels_lda33=[1,12]\n",
    "for i, j in zip(labels_lda33, labels_true33):\n",
    "    UK_News.loc[UK_News['LDA_skl_CountV Topic14'] == i, ['LDA_skl_CountV Topic14 Label']] =j"
   ]
  },
  {
   "cell_type": "markdown",
   "metadata": {},
   "source": [
    "#### Labeling LDA with CountVect and 15 clusters"
   ]
  },
  {
   "cell_type": "code",
   "execution_count": 406,
   "metadata": {},
   "outputs": [],
   "source": [
    "#UK_News.insert(25, \"LDA_skl_CountV Topic15 Label\", \" \")\n",
    "labels_true3=['Label1','Label2','Label3','Label4','Label4_2','Label6','Label7','Label_life','Label8_2','Label9','Label10','Label13']\n",
    "labels_lda3=[2,           1,       14,      3,      5,        0,        7,        8,         4,         10 ,      13,         11  ]\n",
    "for i, j in zip(labels_lda3, labels_true3):\n",
    "    UK_News.loc[UK_News['LDA_skl_CountV Topic15'] == i, ['LDA_skl_CountV Topic15 Label']] =j\n",
    "labels_true33=['Label1','Label3','Label12']\n",
    "labels_lda33=[12,6,9]\n",
    "for i, j in zip(labels_lda33, labels_true33):\n",
    "    UK_News.loc[UK_News['LDA_skl_CountV Topic15'] == i, ['LDA_skl_CountV Topic15 Label']] =j"
   ]
  },
  {
   "cell_type": "code",
   "execution_count": 676,
   "metadata": {},
   "outputs": [],
   "source": [
    "#Save dataset with new columns labels\n",
    "#UK_News.to_pickle('UK_News_LDA_labels.df')"
   ]
  },
  {
   "cell_type": "markdown",
   "metadata": {},
   "source": [
    "# Accuracy - F1 score "
   ]
  },
  {
   "cell_type": "code",
   "execution_count": 637,
   "metadata": {},
   "outputs": [],
   "source": [
    "#Subset only the tweets that have 'True Topic' label that represent the \n",
    "#human assigned label.\n",
    "UK_News_V = UK_News.loc[UK_News['True Topic'] != '']"
   ]
  },
  {
   "cell_type": "markdown",
   "metadata": {},
   "source": [
    "### LDA with idf=True "
   ]
  },
  {
   "cell_type": "code",
   "execution_count": 526,
   "metadata": {},
   "outputs": [
    {
     "name": "stdout",
     "output_type": "stream",
     "text": [
      "Accuracy with idf=True 15 Clusters: 65.62 %\n",
      "F1 Score: 61.86 %\n"
     ]
    }
   ],
   "source": [
    "data_classes_true=['Label1','Label2','Label3','Label4','Label4_2','Label6','Label7','Label8','Label8_2','Label9','Label10','Label12','Label13']\n",
    "data_classes_true_nr=[1,2,3,4,5,6,7, 8,9,10,11,  12,13]\n",
    "d_true= dict(zip(data_classes_true, data_classes_true_nr))\n",
    "labels_true_nr=UK_News_V['True Topic'].map(d_true, na_action='ignore')\n",
    "data_classes_lda1_15=['Label1','Label2','Label3','Label4','Label4_2','Label6','Label7','Label8','Label8_2','Label9','Label10','Label13']\n",
    "data_classes_lda1_15_nr=[1,2,3,4,5,6,7,8,9,10,11, 13]\n",
    "d_lda1_15 = dict(zip(data_classes_lda1_15, data_classes_lda1_15_nr))\n",
    "labels_lda1_15_nr=UK_News_V['LDA_skl Topic15 Label'].map(d_lda1_15, na_action='ignore')\n",
    "from sklearn.metrics import f1_score, accuracy_score\n",
    "print(\"Accuracy with idf=True 15 Clusters:\",round(accuracy_score(list(labels_true_nr),list(labels_lda1_15_nr),  normalize=True)*100,2),\"%\")\n",
    "print(\"F1 Score:\",round(f1_score(list(labels_true_nr),list(labels_lda1_15_nr),  average='weighted')*100,2),\"%\")"
   ]
  },
  {
   "cell_type": "code",
   "execution_count": 606,
   "metadata": {},
   "outputs": [
    {
     "name": "stdout",
     "output_type": "stream",
     "text": [
      "Accuracy with idf=True 14 Clusters: 68.63 %\n",
      "F1 Score: 66.74 %\n"
     ]
    }
   ],
   "source": [
    "data_classes_true0=['Label1','Label2','Label3','Label4','Label4_2','Label6','Label7','Label8','Label8_2','Label9','Label10','Label12','Label13']\n",
    "data_classes_true_nr0=[1,      2,       3,       4,        5,        6,         7,       8,      9,        10,      11,       12,       13]\n",
    "d_true0= dict(zip(data_classes_true0, data_classes_true_nr0))\n",
    "labels_true_nr0=UK_News_V['True Topic'].map(d_true0, na_action='ignore')\n",
    "data_classes_lda1_14=['Label1','Label2','Label3','Label4','Label4_2','Label6','Label7','Label8_2','Label9','Label10','Label12','Label13']\n",
    "data_classes_lda1_14_nr=[1,      2,        3,      4,        5,        6,        7,         9,          10,     11,     12,         13]\n",
    "d_lda1_14 = dict(zip(data_classes_lda1_14, data_classes_lda1_14_nr))\n",
    "labels_lda1_14_nr=UK_News_V['LDA_skl Topic14 Label'].map(d_lda1_14, na_action='ignore')\n",
    "print(\"Accuracy with idf=True 14 Clusters:\",round(accuracy_score(list(labels_true_nr0),list(labels_lda1_14_nr),  normalize=True)*100,2),\"%\")\n",
    "print(\"F1 Score:\",round(f1_score(list(labels_true_nr0),list(labels_lda1_14_nr),  average='weighted')*100,2),\"%\")"
   ]
  },
  {
   "cell_type": "code",
   "execution_count": 620,
   "metadata": {},
   "outputs": [
    {
     "name": "stdout",
     "output_type": "stream",
     "text": [
      "Accuracy with idf=True 16 Clusters: 63.21 %\n",
      "F1 Score: 61.65 %\n"
     ]
    }
   ],
   "source": [
    "data_classes_true00=['Label1','Label2','Label3','Label4','Label4_2','Label6','Label7','Label8','Label8_2','Label9','Label10','Label12','Label13']\n",
    "data_classes_true_nr00=[1,      2,       3,       4,        5,        6,         7,       8,      9,        10,      11,       12,       13]\n",
    "d_true00= dict(zip(data_classes_true00, data_classes_true_nr00))\n",
    "labels_true_nr00=UK_News_V['True Topic'].map(d_true00, na_action='ignore')\n",
    "data_classes_lda1_16=['Label1','Label2','Label3','Label4','Label4_2','Label6','Label7','Label8_2','Label9','Label10','Label12','Label13','Mix']\n",
    "data_classes_lda1_16_nr=[1,      2,        3,      4,        5,        6,        7,         9,          10,     11,     12,         13,  14]\n",
    "d_lda1_16 = dict(zip(data_classes_lda1_16, data_classes_lda1_16_nr))\n",
    "labels_lda1_16_nr=UK_News_V['LDA_skl Topic16 Label'].map(d_lda1_16, na_action='ignore')\n",
    "print(\"Accuracy with idf=True 16 Clusters:\",round(accuracy_score(list(labels_true_nr00),list(labels_lda1_16_nr),  normalize=True)*100,2),\"%\")\n",
    "print(\"F1 Score:\",round(f1_score(list(labels_true_nr00),list(labels_lda1_16_nr),  average='weighted')*100,2),\"%\")"
   ]
  },
  {
   "cell_type": "code",
   "execution_count": 640,
   "metadata": {},
   "outputs": [
    {
     "name": "stdout",
     "output_type": "stream",
     "text": [
      "Accuracy with idf=True 13 Clusters: 58.17 %\n",
      "F1 Score: 52.99 %\n"
     ]
    }
   ],
   "source": [
    "data_classes_true01=['Label1','Label2','Label3','Label4','Label4_2','Label6','Label7','Label8','Label8_2','Label9','Label10','Label12','Label13']\n",
    "data_classes_true_nr01=[1,      2,       3,       4,        5,        6,         7,       8,      9,        10,      9,       12,       13]\n",
    "d_true01= dict(zip(data_classes_true01, data_classes_true_nr01))\n",
    "labels_true_nr01=UK_News_V['True Topic'].map(d_true01, na_action='ignore')\n",
    "data_classes_lda1_13=['Label1','Label2','Label3','Label4','Label4_2','Label6','Label7','Label8','Label8_2,Label10','Label9']\n",
    "data_classes_lda1_13_nr=[1,      2,        3,      4,        5,        6,        7,        8,          9,          10,]\n",
    "d_lda1_13 = dict(zip(data_classes_lda1_13, data_classes_lda1_13_nr))\n",
    "labels_lda1_13_nr=UK_News_V['LDA_skl Topic13 Label'].map(d_lda1_13, na_action='ignore')\n",
    "print(\"Accuracy with idf=True 13 Clusters:\",round(accuracy_score(list(labels_true_nr01),list(labels_lda1_13_nr),normalize=True)*100,2),\"%\")\n",
    "print(\"F1 Score:\",round(f1_score(list(labels_true_nr01),list(labels_lda1_13_nr),average='weighted')*100,2),\"%\")"
   ]
  },
  {
   "cell_type": "markdown",
   "metadata": {},
   "source": [
    "### LDA with idf=False "
   ]
  },
  {
   "cell_type": "code",
   "execution_count": 525,
   "metadata": {},
   "outputs": [
    {
     "name": "stdout",
     "output_type": "stream",
     "text": [
      "Accuracy with idf=False 15 Clusters: 74.86 %\n",
      "F1 Score: 71.18 %\n"
     ]
    }
   ],
   "source": [
    "data_classes_lda2_15=['Label1','Label2','Label3','Label4','Label4_2','Label6','Label7','Label8_2','Label9','Label10','Label13','Label_people_life']\n",
    "data_classes_lda2_15_nr=[1,2,3,4,5,6,7,9,10,11,13,14]\n",
    "d_lda2_15 = dict(zip(data_classes_lda2_15, data_classes_lda2_15_nr))\n",
    "labels_lda2_15_nr=UK_News_V['LDA_skl_False_idf Topic15 Label'].map(d_lda2_15, na_action='ignore')\n",
    "print(\"Accuracy with idf=False 15 Clusters:\",round(accuracy_score(list(labels_true_nr),list(labels_lda2_15_nr) )*100,2),\"%\") #,  normalize=True\n",
    "print(\"F1 Score:\",round(f1_score(list(labels_true_nr),list(labels_lda2_15_nr),average='weighted')*100,2),\"%\") #, "
   ]
  },
  {
   "cell_type": "code",
   "execution_count": 546,
   "metadata": {},
   "outputs": [
    {
     "name": "stdout",
     "output_type": "stream",
     "text": [
      "Accuracy with idf=False 14 Clusters: 83.61 %\n",
      "F1 Score: 83.63 %\n"
     ]
    }
   ],
   "source": [
    "data_classes_true5=['Label1','Label2','Label3','Label4','Label4_2','Label6','Label7','Label8','Label8_2','Label9','Label10','Label12','Label13']\n",
    "data_classes_true_nr5=[1,       2,      3,       4,        4,         6,       7,       8,       9,         10,      11,        12,   13]\n",
    "d_true5= dict(zip(data_classes_true5, data_classes_true_nr5))\n",
    "labels_true_nr5=(UK_News_V['True Topic'].map(d_true5, na_action='ignore')).astype(int)\n",
    "data_classes_lda2_14=['Label1','Label2','Label3','Label4,Label4_2','Label6','Label7','Label8','Label8_2','Label9','Label10','Label12','Label13']\n",
    "data_classes_lda2_14_nr=[1,       2,       3,        4,               6,         7,     8,       9,       10,      11,         12,    13, ]\n",
    "d_lda2_14 = dict(zip(data_classes_lda2_14, data_classes_lda2_14_nr))\n",
    "labels_lda2_14_nr=UK_News_V['LDA_skl_False_idf Topic14 Label'].map(d_lda2_14, na_action='ignore')\n",
    "print(\"Accuracy with idf=False 14 Clusters:\",round(accuracy_score(list(labels_true_nr5),list(labels_lda2_14_nr) )*100,2),\"%\") #,  normalize=True\n",
    "print(\"F1 Score:\",round(f1_score(list(labels_true_nr5),list(labels_lda2_14_nr),average='weighted')*100,2),\"%\") #,  "
   ]
  },
  {
   "cell_type": "code",
   "execution_count": 589,
   "metadata": {},
   "outputs": [
    {
     "name": "stdout",
     "output_type": "stream",
     "text": [
      "Accuracy with idf=False 13 Clusters: 78.76 %\n",
      "F1 Score: 78.5 %\n"
     ]
    }
   ],
   "source": [
    "data_classes_true6=['Label1','Label2','Label3','Label4','Label4_2','Label6','Label7','Label8','Label8_2','Label9','Label10','Label12','Label13']\n",
    "data_classes_true_nr6=[1,       2,      3,       4,        4,         6,       7,       8,       9,         10,      9,        12,   13]\n",
    "d_true6= dict(zip(data_classes_true6, data_classes_true_nr6))\n",
    "labels_true_nr6=(UK_News_V['True Topic'].map(d_true6, na_action='ignore')).astype(int)\n",
    "data_classes_lda2_13=['Label1','Label2','Label3','Label4,Label4_2','Label6','Label7','Label8','Label8_2,Label10','Label9','Label12','Label13']\n",
    "data_classes_lda2_13_nr=[1,       2,       3,        4,               6,         7,     8,       9,                10,         12,    13, ]\n",
    "d_lda2_13 = dict(zip(data_classes_lda2_13, data_classes_lda2_13_nr))\n",
    "labels_lda2_13_nr=UK_News_V['LDA_skl_False_idf Topic13 Label'].map(d_lda2_13, na_action='ignore')\n",
    "print(\"Accuracy with idf=False 13 Clusters:\",round(accuracy_score(list(labels_true_nr6),list(labels_lda2_13_nr) )*100,2),\"%\") #,  normalize=True\n",
    "print(\"F1 Score:\",round(f1_score(list(labels_true_nr6),list(labels_lda2_13_nr),average='weighted')*100,2),\"%\") #,  "
   ]
  },
  {
   "cell_type": "code",
   "execution_count": 592,
   "metadata": {},
   "outputs": [
    {
     "name": "stdout",
     "output_type": "stream",
     "text": [
      "Accuracy with idf=False 16 Clusters: 69.65 %\n",
      "F1 Score: 65.3 %\n"
     ]
    }
   ],
   "source": [
    "data_classes_true7=['Label1','Label2','Label3','Label4','Label4_2','Label6','Label7','Label8','Label8_2','Label9','Label10','Label12','Label13']\n",
    "data_classes_true_nr7=[1,       2,      3,       4,        5,         6,       7,       8,       9,         10,      11,        12,   13]\n",
    "d_true7= dict(zip(data_classes_true7, data_classes_true_nr7))\n",
    "labels_true_nr7=(UK_News_V['True Topic'].map(d_true7, na_action='ignore')).astype(int)\n",
    "data_classes_lda2_16=['Label1','Label2','Label3','Label4','Label4_2','Label6','Label7','Label8_2','Label9','Label10','Label13']\n",
    "data_classes_lda2_16_nr=[1,       2,       3,        4,      5 ,        6,         7,      9,         10,    11,        13, ]\n",
    "d_lda2_16 = dict(zip(data_classes_lda2_16, data_classes_lda2_16_nr))\n",
    "labels_lda2_16_nr=UK_News_V['LDA_skl_False_idf Topic16 Label'].map(d_lda2_16, na_action='ignore')\n",
    "print(\"Accuracy with idf=False 16 Clusters:\",round(accuracy_score(list(labels_true_nr7),list(labels_lda2_16_nr) )*100,2),\"%\") #,  normalize=True\n",
    "print(\"F1 Score:\",round(f1_score(list(labels_true_nr7),list(labels_lda2_16_nr),average='weighted')*100,2),\"%\") #,  "
   ]
  },
  {
   "cell_type": "markdown",
   "metadata": {},
   "source": [
    "### LDA with CountVectorizer"
   ]
  },
  {
   "cell_type": "code",
   "execution_count": 590,
   "metadata": {},
   "outputs": [
    {
     "name": "stdout",
     "output_type": "stream",
     "text": [
      "Accuracy with CountV 13 Clusters: 74.52 %\n",
      "F1 Score: 72.64 %\n"
     ]
    }
   ],
   "source": [
    "data_classes_true3=['Label1','Label2','Label3','Label4','Label4_2','Label6','Label7','Label8','Label8_2','Label9','Label10','Label12','Label13']\n",
    "data_classes_true_nr3=[1,       2,      3,       4,        4,         6,       7,       8,       9,         10,      9,         11,     13]\n",
    "d_true3= dict(zip(data_classes_true3, data_classes_true_nr3))\n",
    "labels_true_nr3=(UK_News_V['True Topic'].map(d_true3, na_action='ignore'))\n",
    "data_classes_lda3_13=['Label1','Label2','Label3','Label4,Label4_2','Label6','Label7','Label8','Label8_2,Label10','Label9','Label13','Life_schoolMix']\n",
    "data_classes_lda3_13_nr=[1,       2,       3,        4,               6,         7,       8,        9,               10,        13,        14]\n",
    "d_lda3_13 = dict(zip(data_classes_lda3_13, data_classes_lda3_13_nr))\n",
    "labels_lda3_13_nr=UK_News_V['LDA_skl_CountV Topic13 Label'].map(d_lda3_13, na_action='ignore')\n",
    "print(\"Accuracy with CountV 13 Clusters:\",round(accuracy_score(list(labels_true_nr3),list(labels_lda3_13_nr) )*100,2),\"%\") #,  normalize=True\n",
    "print(\"F1 Score:\",round(f1_score(list(labels_true_nr3),list(labels_lda3_13_nr),average='weighted')*100,2),\"%\") #,  "
   ]
  },
  {
   "cell_type": "code",
   "execution_count": 523,
   "metadata": {},
   "outputs": [
    {
     "name": "stdout",
     "output_type": "stream",
     "text": [
      "Accuracy with CountV 14 Clusters: 78.28 %\n",
      "F1 Score: 78.8 %\n"
     ]
    }
   ],
   "source": [
    "data_classes_true2=['Label1','Label2','Label3','Label4','Label4_2','Label6','Label7','Label8','Label8_2','Label9','Label10','Label12','Label13']\n",
    "data_classes_true_nr2=[1,       2,      3,       4,        4,         6,       7,       8,       9,         10,      11,        10,   13]\n",
    "d_true2= dict(zip(data_classes_true2, data_classes_true_nr2))\n",
    "labels_true_nr2=(UK_News_V['True Topic'].map(d_true2, na_action='ignore')).astype(int)\n",
    "data_classes_lda3_14=['Label1','Label2','Label3','Label4,Label4_2','Label6','Label7','Label8','Label8_2','Label9, Label12','Label10','Label13','Life_schoolMix']\n",
    "data_classes_lda3_14_nr=[1,       2,       3,        4,               6,         7,    8,        9,         10,              11,        13,        14]\n",
    "d_lda3_14 = dict(zip(data_classes_lda3_14, data_classes_lda3_14_nr))\n",
    "labels_lda3_14_nr=UK_News_V['LDA_skl_CountV Topic14 Label'].map(d_lda3_14, na_action='ignore')\n",
    "print(\"Accuracy with CountV 14 Clusters:\",round(accuracy_score(list(labels_true_nr2),list(labels_lda3_14_nr) )*100,2),\"%\") #,  normalize=True\n",
    "print(\"F1 Score:\",round(f1_score(list(labels_true_nr2),list(labels_lda3_14_nr),average='weighted')*100,2),\"%\") #,  "
   ]
  },
  {
   "cell_type": "code",
   "execution_count": 524,
   "metadata": {},
   "outputs": [
    {
     "name": "stdout",
     "output_type": "stream",
     "text": [
      "Accuracy with CountV 15 Clusters: 64.13 %\n",
      "F1 Score: 63.25 %\n"
     ]
    }
   ],
   "source": [
    "data_classes_lda3_15=['Label1','Label2','Label3','Label4','Label4_2','Label6','Label7','Label8_2','Label9','Label10','Label12','Label13','Label_life']\n",
    "data_classes_lda3_15_nr=[1,2,3,4,5,6,7,9,10,11,12,13,14]\n",
    "d_lda3_15 = dict(zip(data_classes_lda3_15, data_classes_lda3_15_nr))\n",
    "labels_lda3_15_nr=UK_News_V['LDA_skl_CountV Topic15 Label'].map(d_lda3_15, na_action='ignore')\n",
    "print(\"Accuracy with CountV 15 Clusters:\",round(accuracy_score(list(labels_true_nr),list(labels_lda3_15_nr) )*100,2),\"%\") #,  normalize=True\n",
    "print(\"F1 Score:\",round(f1_score(list(labels_true_nr),list(labels_lda3_15_nr),average='weighted')*100,2),\"%\") #,  "
   ]
  },
  {
   "cell_type": "code",
   "execution_count": 508,
   "metadata": {},
   "outputs": [
    {
     "name": "stdout",
     "output_type": "stream",
     "text": [
      "Accuracy with CountV 16 Clusters: 62.7 %\n",
      "F1 Score: 59.63 %\n"
     ]
    }
   ],
   "source": [
    "data_classes_true4=['Label1','Label2','Label3','Label4','Label4_2','Label6','Label7','Label8','Label8_2','Label9','Label10','Label12','Label13']\n",
    "data_classes_true_nr4=[1,       2,      3,       4,        5,         6,       7,       8,       9,         10,      11,       12,        13]\n",
    "d_true4= dict(zip(data_classes_true4, data_classes_true_nr4))\n",
    "labels_true_nr4=(UK_News_V['True Topic'].map(d_true4, na_action='ignore'))\n",
    "data_classes_lda3_16=['Label1','Label2','Label3','Label4','Label4_2','Label6','Label7','Label8_2','Label9','Label10','Label13','Life_schoolMix']\n",
    "data_classes_lda3_16_nr=[1,       2,       3,        4,      5,         6,         7,         9,       10,      11,        13,        14]\n",
    "d_lda3_16 = dict(zip(data_classes_lda3_16, data_classes_lda3_16_nr))\n",
    "labels_lda3_16_nr=UK_News_V['LDA_skl_CountV Topic16 Label'].map(d_lda3_16, na_action='ignore')\n",
    "print(\"Accuracy with CountV 16 Clusters:\",round(accuracy_score(list(labels_true_nr4),list(labels_lda3_16_nr) )*100,2),\"%\") #,  normalize=True\n",
    "print(\"F1 Score:\",round(f1_score(list(labels_true_nr4),list(labels_lda3_16_nr),average='weighted')*100,2),\"%\") #,  \n"
   ]
  },
  {
   "cell_type": "code",
   "execution_count": null,
   "metadata": {},
   "outputs": [],
   "source": [
    "#Saving dataset \n",
    "#UK_News_V.to_pickle('UK_News_Acc_LDA.df')\n",
    "#UK_News_V = pd.read_pickle(r'UK_News_Acc_LDA.df')"
   ]
  },
  {
   "cell_type": "markdown",
   "metadata": {},
   "source": [
    "## Accuracy and F1 Score - summarizing"
   ]
  },
  {
   "cell_type": "code",
   "execution_count": 672,
   "metadata": {},
   "outputs": [],
   "source": [
    "#A for lda with idf=False\n",
    "a_Acc=[round(accuracy_score(list(labels_true_nr6),list(labels_lda2_13_nr) )*100,2),\n",
    "       round(accuracy_score(list(labels_true_nr5),list(labels_lda2_14_nr) )*100,2),\n",
    "       round(accuracy_score(list(labels_true_nr),list(labels_lda2_15_nr) )*100,2),\n",
    "       round(accuracy_score(list(labels_true_nr7),list(labels_lda2_16_nr) )*100,2)]\n",
    "a_F1=[round(f1_score(list(labels_true_nr6),list(labels_lda2_13_nr),average='weighted')*100,2),\n",
    "      round(f1_score(list(labels_true_nr5),list(labels_lda2_14_nr),average='weighted')*100,2),\n",
    "      round(f1_score(list(labels_true_nr),list(labels_lda2_15_nr),average='weighted')*100,2),\n",
    "      round(f1_score(list(labels_true_nr7),list(labels_lda2_16_nr),average='weighted')*100,2)]\n",
    "#B for lda with CountV\n",
    "b_Acc=[round(accuracy_score(list(labels_true_nr3),list(labels_lda3_13_nr) )*100,2), \n",
    "      round(accuracy_score(list(labels_true_nr2),list(labels_lda3_14_nr) )*100,2),\n",
    "      round(accuracy_score(list(labels_true_nr),list(labels_lda3_15_nr) )*100,2),\n",
    "      round(accuracy_score(list(labels_true_nr4),list(labels_lda3_16_nr) )*100,2)]\n",
    "\n",
    "b_F1=[round(f1_score(list(labels_true_nr3),list(labels_lda3_13_nr),average='weighted')*100,2),\n",
    "     round(f1_score(list(labels_true_nr2),list(labels_lda3_14_nr),average='weighted')*100,2),\n",
    "     round(f1_score(list(labels_true_nr),list(labels_lda3_15_nr),average='weighted')*100,2),\n",
    "     round(f1_score(list(labels_true_nr4),list(labels_lda3_16_nr),average='weighted')*100,2)]\n",
    "#C for lda with idf=True\n",
    "c_Acc=[round(accuracy_score(list(labels_true_nr01),list(labels_lda1_13_nr),normalize=True)*100,2),\n",
    "       round(accuracy_score(list(labels_true_nr0),list(labels_lda1_14_nr),normalize=True)*100,2),\n",
    "       round(accuracy_score(list(labels_true_nr),list(labels_lda1_15_nr), normalize=True)*100,2),\n",
    "       round(accuracy_score(list(labels_true_nr00),list(labels_lda1_16_nr), normalize=True)*100,2)]\n",
    "c_F1=[round(f1_score(list(labels_true_nr01),list(labels_lda1_13_nr),average='weighted')*100,2) \n",
    "      ,round(f1_score(list(labels_true_nr0),list(labels_lda1_14_nr),  average='weighted')*100,2),\n",
    "      round(f1_score(list(labels_true_nr),list(labels_lda1_15_nr),  average='weighted')*100,2),\n",
    "      round(f1_score(list(labels_true_nr00),list(labels_lda1_16_nr),  average='weighted')*100,2)]\n",
    "topic=[13,14,15,16]\n",
    "acc_df=pd.DataFrame(columns=['Nr.Topics','A_Accuracy', 'A_F1 Score','B_Accuracy','B_F1 Score', 'C_Accuracy','C_F1 Score'])\n",
    "acc_df['Nr.Topics']=topic\n",
    "acc_df['A_Accuracy']=a_Acc\n",
    "acc_df['A_F1 Score']=a_F1\n",
    "acc_df['B_Accuracy']=b_Acc\n",
    "acc_df['B_F1 Score']=b_F1\n",
    "acc_df['C_Accuracy']=c_Acc\n",
    "acc_df['C_F1 Score']=c_F1"
   ]
  },
  {
   "cell_type": "code",
   "execution_count": 673,
   "metadata": {},
   "outputs": [
    {
     "data": {
      "text/html": [
       "<div>\n",
       "<style scoped>\n",
       "    .dataframe tbody tr th:only-of-type {\n",
       "        vertical-align: middle;\n",
       "    }\n",
       "\n",
       "    .dataframe tbody tr th {\n",
       "        vertical-align: top;\n",
       "    }\n",
       "\n",
       "    .dataframe thead th {\n",
       "        text-align: right;\n",
       "    }\n",
       "</style>\n",
       "<table border=\"1\" class=\"dataframe\">\n",
       "  <thead>\n",
       "    <tr style=\"text-align: right;\">\n",
       "      <th></th>\n",
       "      <th>Nr.Topics</th>\n",
       "      <th>A_Accuracy</th>\n",
       "      <th>A_F1 Score</th>\n",
       "      <th>B_Accuracy</th>\n",
       "      <th>B_F1 Score</th>\n",
       "      <th>C_Accuracy</th>\n",
       "      <th>C_F1 Score</th>\n",
       "    </tr>\n",
       "  </thead>\n",
       "  <tbody>\n",
       "    <tr>\n",
       "      <th>0</th>\n",
       "      <td>13</td>\n",
       "      <td>78.76</td>\n",
       "      <td>78.50</td>\n",
       "      <td>74.52</td>\n",
       "      <td>72.64</td>\n",
       "      <td>58.17</td>\n",
       "      <td>52.99</td>\n",
       "    </tr>\n",
       "    <tr>\n",
       "      <th>1</th>\n",
       "      <td>14</td>\n",
       "      <td>83.61</td>\n",
       "      <td>83.63</td>\n",
       "      <td>78.28</td>\n",
       "      <td>78.80</td>\n",
       "      <td>68.63</td>\n",
       "      <td>66.74</td>\n",
       "    </tr>\n",
       "    <tr>\n",
       "      <th>2</th>\n",
       "      <td>15</td>\n",
       "      <td>74.86</td>\n",
       "      <td>71.18</td>\n",
       "      <td>64.13</td>\n",
       "      <td>63.25</td>\n",
       "      <td>65.62</td>\n",
       "      <td>61.86</td>\n",
       "    </tr>\n",
       "    <tr>\n",
       "      <th>3</th>\n",
       "      <td>16</td>\n",
       "      <td>69.65</td>\n",
       "      <td>65.30</td>\n",
       "      <td>62.70</td>\n",
       "      <td>59.63</td>\n",
       "      <td>63.21</td>\n",
       "      <td>61.65</td>\n",
       "    </tr>\n",
       "  </tbody>\n",
       "</table>\n",
       "</div>"
      ],
      "text/plain": [
       "   Nr.Topics  A_Accuracy  A_F1 Score  B_Accuracy  B_F1 Score  C_Accuracy  \\\n",
       "0         13       78.76       78.50       74.52       72.64       58.17   \n",
       "1         14       83.61       83.63       78.28       78.80       68.63   \n",
       "2         15       74.86       71.18       64.13       63.25       65.62   \n",
       "3         16       69.65       65.30       62.70       59.63       63.21   \n",
       "\n",
       "   C_F1 Score  \n",
       "0       52.99  \n",
       "1       66.74  \n",
       "2       61.86  \n",
       "3       61.65  "
      ]
     },
     "execution_count": 673,
     "metadata": {},
     "output_type": "execute_result"
    }
   ],
   "source": [
    "acc_df"
   ]
  },
  {
   "cell_type": "markdown",
   "metadata": {},
   "source": [
    "**We can note that the highest accuracy has been got by LDA with idf=Flase and using nr of topics =14, under letter 'A'-> 'LDA best model'**"
   ]
  },
  {
   "cell_type": "markdown",
   "metadata": {},
   "source": [
    "# LDA  best model "
   ]
  },
  {
   "cell_type": "code",
   "execution_count": 680,
   "metadata": {},
   "outputs": [],
   "source": [
    "# Define and fit the best LDA model found out\n",
    "LDA_skl_A_14 = LatentDirichletAllocation(n_components=14,random_state=11,max_iter=100,max_doc_update_iter=1000,n_jobs=-1) \n",
    "LDA_skl_A_14.fit(dtm_UKNews_LDA ) \n",
    "topics_LDA_skl_A_14 = LDA_skl_A_14.transform(dtm_UKNews_LDA)"
   ]
  },
  {
   "cell_type": "code",
   "execution_count": 682,
   "metadata": {},
   "outputs": [],
   "source": [
    "# define some columns names that are useless for the saving of a new datset\n",
    "#that contains only the best LDA model labels\n",
    "to_remove=['LDA_skl_CountV Topic13 Label','LDA_skl_CountV Topic14 Label','LDA_skl_CountV Topic15 Label','LDA_skl_CountV Topic16 Label',\n",
    "'LDA_skl_False_idf Topic13 Label','LDA_skl_False_idf Topic14 Label','LDA_skl_False_idf Topic15 Label','LDA_skl_False_idf Topic16 Label',\n",
    "'LDA_skl Topic13 Label','LDA_skl Topic14 Label','LDA_skl Topic15 Label','LDA_skl Topic16 Label',\n",
    "'LDA_skl_CountV Topic13','LDA_skl_CountV Topic14','LDA_skl_CountV Topic15','LDA_skl_CountV Topic16',\n",
    "'LDA_skl_False_idf Topic13','LDA_skl_False_idf Topic14','LDA_skl_False_idf Topic15','LDA_skl_False_idf Topic16',\n",
    "'LDA_skl Topic13','LDA_skl Topic14','LDA_skl Topic15','LDA_skl Topic16',\n",
    "   'Topics_SOM_Gens',       ]"
   ]
  },
  {
   "cell_type": "code",
   "execution_count": 684,
   "metadata": {},
   "outputs": [],
   "source": [
    "#make a copy of the dataframe and remove some column defined above\n",
    "UK_News2=UK_News\n",
    "UK_News2=UK_News2.drop(to_remove,axis=1)"
   ]
  },
  {
   "cell_type": "code",
   "execution_count": 686,
   "metadata": {},
   "outputs": [
    {
     "data": {
      "text/html": [
       "\n",
       "<link rel=\"stylesheet\" type=\"text/css\" href=\"https://cdn.rawgit.com/bmabey/pyLDAvis/files/ldavis.v1.0.0.css\">\n",
       "\n",
       "\n",
       "<div id=\"ldavis_el383761406693963348488119510568\"></div>\n",
       "<script type=\"text/javascript\">\n",
       "\n",
       "var ldavis_el383761406693963348488119510568_data = {\"mdsDat\": {\"x\": [0.23015018059711215, -0.0033673063265732012, -0.22729958516227067, 0.10440285518189774, -0.2964261768735642, 0.2578232125648583, 0.28750670735155914, -0.036335915320457594, 0.3537061109816069, -0.01501024031787005, 0.09725175229588047, -0.19600062136690913, -0.229129854595305, -0.32727111900996514], \"y\": [0.294144862175602, 0.1702966211368116, 0.04883956157463211, -0.24151402151658397, -0.1452115319100433, -0.25975461477090733, -0.09201448383852273, 0.35209183824878926, 0.0785248830252394, -0.37239443958991014, 0.07083497151943563, -0.2805523316349662, 0.2492446294656488, 0.1274640561147746], \"topics\": [1, 2, 3, 4, 5, 6, 7, 8, 9, 10, 11, 12, 13, 14], \"cluster\": [1, 1, 1, 1, 1, 1, 1, 1, 1, 1, 1, 1, 1, 1], \"Freq\": [10.270370997025125, 7.017528271990672, 8.077990280723954, 7.086668823822608, 6.747023391121755, 8.289151276595138, 7.056712641131746, 6.405481018830379, 5.435193110224001, 5.324687286771764, 6.107175020522579, 5.377791235710696, 9.550750940967133, 7.253475704562455]}, \"tinfo\": {\"Term\": [\"coronavirus\", \"trump\", \"election\", \"boris\", \"biden\", \"johnson\", \"lockdown\", \"celebrity\", \"pound\", \"donald\", \"police\", \"brexit\", \"test\", \"joe\", \"tier\", \"usa\", \"vaccine\", \"football\", \"sport\", \"england\", \"restriction\", \"star\", \"european\", \"union\", \"uk\", \"christmas\", \"deal\", \"man\", \"president\", \"prince\", \"election\", \"biden\", \"donald\", \"pennsylvania\", \"obama\", \"ballot\", \"senate\", \"presidency\", \"electoral\", \"melania\", \"republicans\", \"michigan\", \"arizona\", \"giuliani\", \"wisconsin\", \"battleground\", \"barack\", \"rudy\", \"ivanka\", \"seeker\", \"clinton\", \"pardon\", \"carolina\", \"pelosi\", \"cohen\", \"joe\", \"democrat\", \"hillary\", \"elect\", \"counting\", \"trump\", \"republican\", \"voter\", \"democrats\", \"presidential\", \"voting\", \"georgia\", \"white\", \"president\", \"vote\", \"usa\", \"supporter\", \"victory\", \"rally\", \"count\", \"result\", \"poll\", \"win\", \"state\", \"house\", \"campaign\", \"debate\", \"america\", \"court\", \"lose\", \"prize\", \"nuclear\", \"conflict\", \"putin\", \"peace\", \"azerbaijan\", \"nobel\", \"armenia\", \"taiwan\", \"carbon\", \"ethiopia\", \"emission\", \"missile\", \"xi\", \"empire\", \"tigray\", \"navy\", \"ferrier\", \"vladimir\", \"fossil\", \"greta\", \"iraq\", \"thunberg\", \"amp;a\", \"topshop\", \"solar\", \"latin\", \"morris\", \"industrial\", \"ethiopian\", \"arcadia\", \"iran\", \"climate\", \"intelligence\", \"israel\", \"china\", \"military\", \"relation\", \"war\", \"beijing\", \"century\", \"korea\", \"russia\", \"south\", \"troop\", \"america\", \"world\", \"africa\", \"chinese\", \"green\", \"power\", \"podcast\", \"country\", \"science\", \"india\", \"usa\", \"australia\", \"scientist\", \"north\", \"opinion\", \"policy\", \"crisis\", \"president\", \"people\", \"uk\", \"force\", \"britain\", \"state\", \"kay\", \"burley\", \"hancock\", \"circuit\", \"breaker\", \"burnham\", \"khan\", \"freeview\", \"jenrick\", \"ripper\", \"sadiq\", \"whitty\", \"firebreak\", \"vallance\", \"tam\", \"flout\", \"tess\", \"postcode\", \"daly\", \"tiered\", \"tier\", \"fm\", \"warrington\", \"eviction\", \"lancashire\", \"reveller\", \"redknapp\", \"eustice\", \"sophyridgesky\", \"efficacy\", \"restriction\", \"pub\", \"mayor\", \"indoor\", \"local\", \"gathering\", \"lockdown\", \"gym\", \"sturgeon\", \"matt\", \"andy\", \"area\", \"rule\", \"restaurant\", \"nicola\", \"curfew\", \"scotland\", \"england\", \"measure\", \"tough\", \"secretary\", \"coronavirus\", \"household\", \"bar\", \"system\", \"wales\", \"national\", \"government\", \"pm\", \"manchester\", \"minister\", \"christmas\", \"people\", \"london\", \"uk\", \"break\", \"meghan\", \"markle\", \"amy\", \"barrett\", \"nasa\", \"coney\", \"toddler\", \"asteroid\", \"heathrow\", \"alien\", \"spacex\", \"zoo\", \"newborn\", \"astronaut\", \"ufo\", \"stranger\", \"confirmation\", \"ginsburg\", \"astronomer\", \"maya\", \"halen\", \"essay\", \"cage\", \"sixatsix\", \"bader\", \"eta\", \"schoolgirl\", \"flame\", \"stomach\", \"terminal\", \"bride\", \"mum\", \"miscarriage\", \"baby\", \"dad\", \"earthquake\", \"moon\", \"birth\", \"twin\", \"girl\", \"crash\", \"daughter\", \"boy\", \"mother\", \"earth\", \"son\", \"bear\", \"space\", \"woman\", \"old\", \"harry\", \"parent\", \"die\", \"bus\", \"car\", \"pregnant\", \"kill\", \"family\", \"husband\", \"child\", \"life\", \"man\", \"death\", \"home\", \"court\", \"wear\", \"apple\", \"shopper\", \"tesco\", \"iphone\", \"supermarket\", \"mcdonald\", \"ps\", \"item\", \"aldi\", \"asda\", \"playstation\", \"xbox\", \"chocolate\", \"adams\", \"menu\", \"coffee\", \"burger\", \"console\", \"blackfriday\", \"cake\", \"discount\", \"primark\", \"tesla\", \"advent\", \"nintendo\", \"scam\", \"amp;m\", \"dolly\", \"coronation\", \"pie\", \"amazon\", \"customer\", \"store\", \"recipe\", \"sainsbury\", \"shopping\", \"buy\", \"product\", \"sale\", \"money\", \"sell\", \"fashion\", \"delivery\", \"food\", \"friday\", \"cheap\", \"pound\", \"christmas\", \"shop\", \"festive\", \"google\", \"black\", \"launch\", \"online\", \"deal\", \"worth\", \"home\", \"technology\", \"share\", \"save\", \"uk\", \"price\", \"amp\", \"million\", \"free\", \"people\", \"princess\", \"crown\", \"diana\", \"netflix\", \"middleton\", \"corrie\", \"kate\", \"castle\", \"emily\", \"connery\", \"william\", \"duke\", \"sophie\", \"garraway\", \"ranvir\", \"extinction\", \"lily\", \"singh\", \"gemma\", \"confession\", \"stewart\", \"elizabeth\", \"giovanni\", \"collins\", \"ozark\", \"reunion\", \"coronationstreet\", \"panorama\", \"monolith\", \"windsor\", \"movie\", \"charles\", \"queen\", \"prince\", \"emmerdale\", \"emma\", \"royal\", \"star\", \"james\", \"celebrity\", \"carol\", \"actor\", \"film\", \"singer\", \"bond\", \"season\", \"sean\", \"fan\", \"series\", \"viewer\", \"age\", \"tv\", \"die\", \"harry\", \"george\", \"john\", \"love\", \"wife\", \"family\", \"interview\", \"david\", \"share\", \"life\", \"return\", \"prison\", \"terror\", \"terrorist\", \"shooting\", \"shane\", \"prisoner\", \"behead\", \"jong\", \"amanda\", \"suspicion\", \"maxwell\", \"aj\", \"pritchard\", \"isis\", \"attacker\", \"gunman\", \"strand\", \"ghislaine\", \"evacuate\", \"breonna\", \"sutcliffe\", \"custody\", \"holden\", \"callard\", \"islamist\", \"beverley\", \"paedophile\", \"religious\", \"inmate\", \"ratana\", \"suspect\", \"arrest\", \"police\", \"murder\", \"officer\", \"migrant\", \"rape\", \"protester\", \"shoot\", \"gang\", \"victim\", \"vienna\", \"killer\", \"church\", \"charge\", \"attack\", \"boat\", \"protest\", \"sentence\", \"kill\", \"french\", \"dead\", \"jail\", \"cop\", \"man\", \"teenager\", \"abuse\", \"assault\", \"injure\", \"crime\", \"woman\", \"death\", \"france\", \"sex\", \"fire\", \"people\", \"child\", \"trial\", \"die\", \"london\", \"boris\", \"johnson\", \"biontech\", \"brussels\", \"shaun\", \"brexit\", \"anton\", \"pfizer\", \"du\", \"lintern\", \"michel\", \"beke\", \"pearson\", \"negotiator\", \"allison\", \"union\", \"barnier\", \"blair\", \"icu\", \"nightingale\", \"barni\", \"ski\", \"fda\", \"peck\", \"bloc\", \"revolt\", \"european\", \"jessicaboulton\", \"remdesivir\", \"tominey\", \"eu\", \"intensive\", \"internal\", \"negotiation\", \"headline\", \"trade\", \"bbcpapers\", \"prime\", \"fishing\", \"deal\", \"minister\", \"approve\", \"tory\", \"agreement\", \"pmqs\", \"pm\", \"mps\", \"conference\", \"uk\", \"newspaper\", \"britain\", \"macron\", \"plan\", \"ready\", \"politic\", \"coronavirus\", \"warn\", \"lockdown\", \"vaccine\", \"politics\", \"government\", \"leader\", \"end\", \"rule\", \"vote\", \"kamala\", \"rashford\", \"marcus\", \"patel\", \"pence\", \"priti\", \"kardashian\", \"vp\", \"phillip\", \"schofield\", \"tyson\", \"holly\", \"kylie\", \"mike\", \"willoughby\", \"kanye\", \"hrvy\", \"fleetstreetfox\", \"adele\", \"bashir\", \"solomon\", \"swift\", \"volcano\", \"aoc\", \"marcusrashford\", \"ofcom\", \"fletcher\", \"aplaceinthesun\", \"cardi\", \"mcconnell\", \"petition\", \"harris\", \"tone\", \"maisie\", \"meal\", \"social\", \"smith\", \"medium\", \"article\", \"conspiracy\", \"school\", \"convosindy\", \"instagram\", \"kim\", \"free\", \"facebook\", \"debate\", \"theory\", \"celebrity\", \"dance\", \"twitter\", \"child\", \"question\", \"spark\", \"post\", \"kid\", \"jones\", \"fan\", \"star\", \"trump\", \"campaign\", \"football\", \"league\", \"premier\", \"maradona\", \"player\", \"arsenal\", \"diego\", \"chelsea\", \"depp\", \"outlander\", \"rugby\", \"tottenham\", \"arena\", \"villa\", \"everton\", \"utd\", \"preview\", \"fraser\", \"aston\", \"stadium\", \"sport\", \"ham\", \"klopp\", \"coach\", \"match\", \"gbbo\", \"cricket\", \"mourinho\", \"fantastic\", \"brighton\", \"cup\", \"argentina\", \"vs\", \"hamilton\", \"champion\", \"club\", \"united\", \"goal\", \"f\", \"johnny\", \"manchester\", \"liverpool\", \"game\", \"lewis\", \"win\", \"final\", \"grand\", \"play\", \"england\", \"fan\", \"team\", \"city\", \"man\", \"world\", \"keir\", \"corbyn\", \"morgan\", \"pier\", \"hong\", \"kong\", \"exam\", \"antisemitism\", \"pollution\", \"suspension\", \"southgate\", \"eamonn\", \"greg\", \"bias\", \"langsford\", \"grenfell\", \"holmes\", \"ufc\", \"gcse\", \"semitism\", \"williamson\", \"teaching\", \"assassination\", \"mccann\", \"perry\", \"khabib\", \"katy\", \"diary\", \"mitchell\", \"welfare\", \"starmer\", \"jewish\", \"cumming\", \"slavery\", \"labour\", \"jeremy\", \"independence\", \"letter\", \"dominic\", \"resign\", \"student\", \"snp\", \"party\", \"mp\", \"education\", \"university\", \"scot\", \"abortion\", \"editorial\", \"parliament\", \"anti\", \"right\", \"law\", \"suspend\", \"leader\", \"executive\", \"quit\", \"government\", \"politic\", \"tory\", \"chief\", \"report\", \"minister\", \"rule\", \"people\", \"home\", \"uk\", \"weather\", \"rain\", \"cruise\", \"tourist\", \"ancient\", \"temperature\", \"pope\", \"hurricane\", \"corridor\", \"navalny\", \"los\", \"firefighter\", \"alexei\", \"francis\", \"teigen\", \"chrissy\", \"arctic\", \"smoke\", \"forest\", \"dry\", \"nicole\", \"blaze\", \"cream\", \"poisoning\", \"gale\", \"angeles\", \"flooding\", \"boeing\", \"monty\", \"fleet\", \"flood\", \"spanish\", \"flight\", \"shed\", \"storm\", \"snow\", \"travel\", \"weight\", \"pet\", \"passenger\", \"wind\", \"dog\", \"holiday\", \"ice\", \"quarantine\", \"island\", \"jet\", \"cat\", \"airport\", \"hotel\", \"train\", \"fly\", \"sea\", \"light\", \"air\", \"list\", \"uk\", \"sky\", \"owner\", \"world\", \"hit\", \"halloween\", \"cancel\", \"warning\", \"britain\", \"test\", \"positive\", \"patient\", \"trace\", \"outbreak\", \"symptom\", \"infect\", \"flu\", \"mink\", \"immune\", \"antibody\", \"moderna\", \"astrazeneca\", \"ardern\", \"tanker\", \"jacinda\", \"isle\", \"vitamin\", \"drakeford\", \"ronaldo\", \"dose\", \"infectious\", \"cristiano\", \"wight\", \"lung\", \"herd\", \"harding\", \"infected\", \"discharge\", \"mutation\", \"toll\", \"spike\", \"mental\", \"oxford\", \"nhs\", \"testing\", \"immunity\", \"vaccine\", \"disease\", \"case\", \"jab\", \"infection\", \"coronavirus\", \"hospital\", \"negative\", \"study\", \"contact\", \"virus\", \"surge\", \"death\", \"health\", \"spread\", \"wave\", \"rise\", \"uk\", \"care\", \"people\", \"pandemic\", \"number\", \"percentage\", \"record\", \"warn\", \"risk\", \"england\", \"report\", \"million\", \"lockdown\", \"government\", \"sunak\", \"rishi\", \"bn\", \"spending\", \"debt\", \"unemployment\", \"dollars\", \"universal\", \"income\", \"karabakh\", \"nagorno\", \"taxpayer\", \"rent\", \"stimulus\", \"elvis\", \"gdp\", \"shrink\", \"mortgage\", \"salary\", \"presley\", \"cineworld\", \"schumacher\", \"tokyo\", \"inflation\", \"redundancy\", \"revenue\", \"employer\", \"reid\", \"tax\", \"equity\", \"euro\", \"billion\", \"fund\", \"credit\", \"dollar\", \"investor\", \"furlough\", \"pension\", \"asset\", \"wage\", \"scheme\", \"finance\", \"market\", \"recovery\", \"chancellor\", \"economy\", \"job\", \"pay\", \"economic\", \"bank\", \"sector\", \"cash\", \"business\", \"pound\", \"pandemic\", \"cost\", \"company\", \"cut\", \"firm\", \"percentage\", \"million\", \"crisis\", \"worker\", \"uk\", \"coronavirus\", \"government\", \"rise\", \"money\", \"plan\", \"help\"], \"Freq\": [5780.0, 2873.0, 1746.0, 1225.0, 1478.0, 1209.0, 1870.0, 1302.0, 1128.0, 818.0, 811.0, 685.0, 731.0, 783.0, 694.0, 1342.0, 894.0, 470.0, 479.0, 935.0, 609.0, 758.0, 478.0, 454.0, 1892.0, 831.0, 688.0, 913.0, 720.0, 463.0, 1746.0478626666625, 1477.1169361285663, 817.1015913518654, 128.545170036381, 118.34246120320792, 105.52419987768351, 93.5336322512756, 90.51485974997092, 86.1877278740727, 84.81532598305765, 76.49286769124419, 70.31007337085197, 63.416481634066166, 59.003776798066326, 54.86533017956253, 45.83001969631617, 43.22415257559951, 41.386504168901595, 39.43488366600696, 36.19169642158966, 35.42156363767912, 34.558104878461734, 34.46647852731478, 32.52289541414385, 29.771960875807707, 758.1192879976131, 55.63849141348246, 25.19433166420708, 103.065936087457, 24.518187023477644, 2754.743420887575, 122.66785784407311, 201.3612890256309, 107.76265645033467, 201.84375067408808, 57.05784491396643, 125.58305947116503, 333.87792458999087, 572.9642149321336, 436.6875744573037, 912.3784413693905, 118.98836609138712, 174.31935403293636, 129.51610044695, 123.59542051251655, 254.84837488263193, 175.33156348475185, 459.12741633534733, 315.37951386813336, 301.6209620060511, 227.68130916614533, 205.0596040971746, 151.24231614557763, 114.73464650801, 113.72876270073239, 102.25436856227233, 83.30437909751521, 60.97910767104457, 59.370714794840225, 51.97779986716356, 48.905092129112155, 47.679405381241445, 46.70904934785113, 45.055586422657434, 39.005047506111644, 37.24157712128622, 37.05098703431721, 31.96745214704773, 31.815933693304096, 30.233254957633953, 27.623875103895674, 27.570898797925796, 23.514405268464408, 21.865665911572734, 21.197395657248478, 21.07245750968298, 19.16861613272193, 18.959336214985527, 18.37731249682843, 18.372490494950807, 18.04060150748934, 16.78025378416742, 16.629397437759636, 16.483674788339826, 16.375063814705882, 37.25630740592481, 92.41002129372129, 202.07582012777704, 98.5441368368083, 48.69480024563445, 381.80016891086296, 105.59898386328157, 37.15757231686353, 224.89653145725117, 59.55955583791129, 52.03105867347821, 64.43048327756512, 97.30976117405561, 131.69602064563261, 39.3723712268479, 183.67266501884694, 322.07647781493034, 47.777077190093294, 101.79757362193902, 88.1930207025644, 126.82125550111186, 81.44609212000651, 160.08451089269252, 53.65676476209423, 67.61787851083513, 176.07577273587344, 75.2764886833874, 79.14062855022459, 75.10566507442232, 69.04167571925095, 65.97375489751542, 72.5182327707072, 80.60235038303365, 83.19895588089398, 81.1297587690696, 71.05123226851255, 70.88460374442326, 67.50379894463774, 256.5489013240893, 227.97774874712235, 186.02042338568168, 101.8693347728876, 95.02986533793249, 70.94036077469359, 52.62718061821471, 43.6242053748669, 37.76364925890978, 37.64476103364664, 35.391622337909496, 31.265211176584398, 26.928676487046747, 22.50636523179148, 22.318522797379575, 21.99053091398485, 21.2409473713545, 20.041195352114023, 19.67062906784643, 18.276977466091058, 660.5894265874016, 16.985085572220097, 16.08871866826202, 15.290328931166599, 26.36446538094168, 14.209542316057716, 14.10474753317626, 14.057102682397995, 14.014978276911792, 13.162228166120078, 558.6509373880057, 226.62432527395748, 133.60183274352235, 44.609797050261896, 202.1489363176203, 34.93616410477804, 1370.351623169611, 46.15195372762529, 117.96887653720809, 171.8966724720376, 80.01450331900989, 208.8465921644078, 517.1462407058112, 126.41705698223812, 116.29927141534755, 76.66079704860945, 172.62198548791778, 505.70075596543427, 142.5545887499013, 125.40040827483546, 181.14570801102883, 1281.195982341008, 67.5536260165551, 90.28905155761878, 163.24184216032, 129.81836874006072, 177.83887425790303, 288.5778392615365, 182.05577639779113, 162.14258564608764, 189.66818934290953, 209.55673233183484, 233.42942896553635, 152.9242140231983, 187.44436761125178, 160.19928582524804, 249.39605501541277, 164.84236500440528, 96.93554439926771, 95.71411611787482, 82.60719489424335, 81.47869618388498, 40.059549809766956, 37.99704308534041, 33.16390870879961, 31.274370139207274, 30.86386569784685, 30.678328056495996, 28.6388869196111, 28.395079401161208, 24.205683242047705, 24.189230222922863, 19.494537975388596, 18.723888545639348, 18.646210209576093, 17.775733692874198, 17.642824554510522, 17.043870885936364, 16.727500692462097, 16.561348857190183, 16.352795572327544, 15.8495077445897, 15.68593811032899, 15.550225307856113, 15.22732427903906, 14.921527008223874, 26.040170087681346, 369.2742168060524, 33.062500821841034, 291.8211218326204, 153.48449146225843, 38.72288367670494, 74.95032339221521, 58.307716452693796, 38.53453486127437, 195.87271670429848, 143.46768630629492, 167.31369695065902, 160.42462861747458, 124.69374647865523, 61.06923433744207, 215.03529961244342, 82.95586667993061, 93.87789758932506, 385.2138320942066, 242.5160040046917, 160.54742299629632, 107.11938001448061, 279.1907513404163, 41.52073466496208, 122.5420894825951, 57.04389056841222, 146.32702309889078, 160.25247725620684, 87.12817100075208, 147.073680679945, 151.90634052388535, 170.6648456286457, 142.89569439195097, 126.96027751531645, 95.92395951939137, 86.36298619823475, 110.90752786773591, 102.3196008435591, 94.92178072739085, 74.19026436677746, 73.12436962269179, 70.9685196995803, 70.73067255286004, 59.38004740070633, 50.81369193008131, 50.56389007333098, 39.23193448856618, 36.86158343759895, 33.23403422166989, 32.69440028083826, 30.98269822827969, 30.512758428043533, 30.38571270672399, 28.53288035334831, 28.275359971049895, 28.092542643800826, 27.702479017294127, 26.269736515711678, 24.612173138298143, 23.75369840578837, 21.851673709851866, 21.389345466623524, 21.119691364486666, 20.948118302868988, 20.20393000041942, 19.76898757565855, 134.20644701257729, 90.82983051809718, 108.61394058464583, 40.23795888226182, 39.36665807246509, 70.55088251202055, 175.595333030082, 55.14110091133838, 200.00687065372296, 329.6723136231042, 169.21989763398577, 76.11202114251184, 63.40944070929249, 161.95403960097565, 184.68638127610163, 55.80278622131029, 570.6034636233933, 444.4687473501216, 117.49041319332059, 53.727929676859354, 61.555712899493614, 203.26019383391443, 158.53396407900973, 101.58857975240062, 175.63615776035383, 75.1871477452706, 182.1653071988066, 83.11160491773839, 92.74768599091286, 85.37906881576798, 119.20405170182924, 78.76213302890952, 75.73638971509406, 80.40645301060027, 76.75599712262455, 77.40567752703285, 204.77877996174237, 202.70647945702416, 168.2475650617712, 138.04983670555777, 85.95145978140253, 65.45164719764324, 198.10191220377914, 47.75485708630317, 41.59391513224895, 40.125138791933864, 164.4674084603053, 37.02373796664223, 35.769110887343665, 35.64951621166627, 33.81977040610142, 31.42250537568277, 30.421523012947628, 29.356028592456955, 28.795830371575985, 26.220686354684762, 26.16033055513197, 25.95458020597115, 25.48250100611339, 25.364442532362624, 24.666745816365733, 24.247117646137436, 22.887818917766225, 22.454831445608406, 21.229293542777388, 21.076819123284327, 69.87173233218326, 125.42618505613258, 290.907015782324, 422.40218496607423, 42.55185177055459, 41.542330491580216, 330.1435870857852, 587.8897945049696, 145.88802682799817, 929.4478065008726, 32.14139864578209, 98.69698250840959, 183.28019854617347, 50.992543588610175, 80.19913612021061, 139.26773475059022, 48.80192763344973, 213.65394672940675, 108.08088815906792, 84.16312441287074, 140.1017880399126, 119.15804127860176, 219.40348629436357, 129.68624522571477, 80.7604269510568, 108.29193817905885, 109.77580628654661, 103.45898504991521, 127.91186357327247, 88.2654079360089, 86.74545022836234, 93.76739820464196, 93.27600239216818, 90.75499042244576, 114.89370865913398, 106.34584216661179, 60.562676733495564, 47.83074278736084, 42.065271024940564, 40.26300852196927, 39.45623376235482, 35.469802580087, 33.657714660702965, 33.04167708157632, 32.83824149213672, 32.03679166832324, 31.919646814337064, 30.99341455486391, 29.50404750508775, 29.251133371858646, 28.72253558403378, 27.44095356888052, 26.69334166461569, 25.78394847802232, 25.756683098964412, 25.623335898182344, 25.422941349618345, 24.899461740029917, 24.609053778558337, 23.057632784706975, 22.033096412725634, 22.015683953088672, 21.63542297433821, 20.99832243491327, 132.79988263181187, 254.2305977237513, 730.243978029748, 238.43649663042785, 208.8643539292315, 110.19846121011244, 98.13416449514223, 128.86392950338376, 192.25244197653487, 50.39511215583236, 134.62118198325223, 42.342271344558675, 86.73611047722078, 81.40739697133965, 185.98127240717503, 341.0096155928694, 62.98825168808331, 189.96701962481367, 51.37205872458669, 296.58979176002543, 138.71829263805037, 203.0475534842404, 139.2022180506167, 79.42050823030397, 458.87595248594613, 65.10996505417413, 107.97793099855461, 64.3607608329229, 67.23620875760467, 77.98303249779786, 212.13676005184703, 173.01301708590302, 98.91029815140915, 96.39077720671503, 103.50152461127334, 164.52465897815188, 115.98165377977202, 95.1534253632697, 113.30744527282356, 101.4000471807306, 1224.7896052976878, 1209.0632053296652, 54.846675206587435, 53.45278832863783, 36.19016759699873, 666.503373376103, 30.430144515101112, 137.89350431416722, 28.87867941415693, 28.12538505405026, 26.842177562665057, 26.724703725679625, 25.899076642132165, 24.8836618659624, 23.01125265497202, 436.2202567506923, 20.677899678127982, 19.073917316476415, 18.733561715284733, 18.000848136387024, 17.64870544708595, 16.61207516729093, 16.493548946216357, 16.484476369822964, 15.96245984498537, 45.93778864272434, 450.93753306415397, 15.056675843001388, 14.692584251013976, 14.376481677613203, 65.2683054242657, 35.31630166702995, 31.671093102349563, 39.86240654820194, 34.12932925609374, 210.7442321739053, 31.048548880269674, 212.2741939750472, 58.705207286329575, 401.02858769994003, 324.5212380323268, 64.98288872785064, 177.3665237559955, 60.82877612491143, 49.8572419000914, 230.08212825410925, 127.24217621066968, 61.36178563067989, 406.93975636893714, 43.065869034853186, 129.13472389787364, 52.22667123248927, 138.75037617366556, 63.29002941491672, 116.35590136564124, 342.0123558605721, 130.6674107107171, 166.14504014012567, 122.68212558677175, 73.92623011473911, 116.98119146691185, 68.35606150802336, 66.7795483272383, 65.40314207086625, 62.91377112125481, 134.73328092809854, 105.31729677926911, 99.3768769162753, 94.00266624124541, 89.2931328578746, 83.13364853013462, 79.22288094412855, 62.16921422150974, 53.95694714602941, 50.18257311390297, 47.25927110595314, 38.362806834286864, 35.55265204374421, 129.57155154742415, 31.19025382221532, 29.606138529615947, 26.943540225084206, 26.769880263564193, 26.472141761758333, 26.334377552985845, 26.242882497089916, 25.63229373113818, 23.198423336401312, 22.91181460873765, 22.770435897845996, 22.117182766488447, 20.859837623451867, 20.45615351541099, 19.753245826351037, 19.02949841758814, 28.660073471461136, 166.25490839161856, 25.527284527594677, 45.80935802823893, 151.53133741515043, 184.81465578383393, 89.44489408787292, 142.808292788017, 33.40607589292571, 66.32023839938688, 216.23931179428558, 53.12231629722093, 61.86100823077991, 74.24093070940938, 184.13027933708244, 81.14167886014009, 161.35846559590254, 58.180441566879274, 312.00241133131436, 64.86924123166028, 73.15340607133673, 138.7614037878893, 96.7888415837859, 72.57660755571608, 90.11799834438723, 73.76672658299803, 62.69779431517394, 82.85331314762495, 80.30371388890211, 87.43398724614029, 67.69170382208938, 469.2063297462687, 290.3941508242296, 160.75228236240736, 127.30599296995247, 120.86423399031852, 99.1827497984069, 97.35706038270345, 85.29694834282625, 60.64370187046527, 57.64271742371648, 55.99184268477428, 52.70633716884367, 42.536018583984145, 41.977087644490446, 40.763725538951235, 39.62906847593857, 38.2613983569413, 36.630130923380456, 35.81146102231611, 35.112594162386145, 466.71183518047144, 33.19917482953103, 31.72434697655383, 31.51988956765838, 119.85819751057915, 30.516085072149348, 29.576330003319462, 29.271505713909345, 26.799109147179383, 26.75420156124528, 108.57100993161716, 44.037337211344926, 100.75079595471405, 80.01913119952157, 65.50989172478565, 114.3181518791804, 167.3656617781575, 81.34054605361312, 93.25293863698754, 63.45311687453224, 206.10554454328513, 140.33603747930545, 123.77856638094053, 88.38632632723815, 215.7594234999184, 111.06747057722788, 54.85527949118134, 111.36582750052992, 196.5508682437067, 137.80697632839193, 97.82913597327503, 111.27613307776952, 116.7653010968642, 109.42403478666826, 188.7290389637479, 129.54210822669768, 117.85376975057187, 113.84630052323607, 103.49319790989891, 101.41611389010357, 48.75078930494892, 42.868040980726, 31.142253445428846, 30.44891311774515, 28.708744203483526, 28.46704876994586, 27.14169539953964, 26.45746341355347, 24.7088191140568, 24.403365213019512, 24.14310140133691, 24.089875995057632, 22.02994400673626, 21.28057686253617, 20.61464672100247, 20.502212816320046, 20.39087768832708, 19.36022507607064, 18.98222436123995, 18.895504910849944, 17.63462860772401, 17.48677044554538, 17.261713700532994, 17.018757520758157, 206.2819398697383, 27.988534000742128, 98.07359307577501, 23.567205625827874, 351.30010910595166, 125.7404628493569, 53.7762114566625, 136.5061383039924, 112.10935513241968, 59.27878969304548, 198.60434997617426, 52.34050153430867, 252.56352102472584, 144.40642075375465, 53.97162748450087, 143.71131952220924, 37.72838444074532, 45.46958016563758, 44.15484358459002, 55.756949227937184, 106.84987221974689, 146.40535298678222, 117.07654763881727, 53.842073839891874, 146.01892595679453, 58.419531270471644, 63.1231438232104, 208.83696889124028, 141.74064779510127, 93.1760596104868, 93.00246738019565, 88.03661336857684, 85.34880584394571, 79.56246423600257, 73.76811376786392, 69.16425482933255, 63.80329679826688, 118.25413777947048, 81.19358172225199, 68.61164483180698, 68.28720616579018, 61.06417355084137, 54.7634792547583, 54.76143272562547, 54.65494505551652, 39.20008968827913, 38.46892334931867, 37.33687055535149, 35.20743901566337, 33.14565232164379, 31.10235002190965, 27.688392682206963, 27.20539433484869, 27.199313762014413, 28.919822833226227, 25.78932154781578, 25.117381032933892, 23.181380697546366, 22.68896467232626, 21.252681481920597, 21.130628980051547, 20.277911466134775, 19.700033612745962, 19.664969237760232, 19.11772253764572, 18.77339246296112, 18.631170530275185, 47.182563660311246, 53.218992902241915, 151.4152057194926, 26.383518843621857, 103.92091155158697, 39.15377100289956, 340.04989171656285, 66.74964943422398, 58.47643448307569, 87.64608311163236, 66.4998625961735, 146.89980355418933, 182.84933412493916, 54.83894397308658, 124.09077760854423, 102.77747168411162, 50.1135438983129, 49.94901119189629, 62.97332980549446, 70.22618211378285, 63.82207832653717, 67.23255777433089, 66.01420071756013, 68.93231803410077, 74.84291127829182, 79.03040968445275, 170.2717030850726, 84.65138347551402, 69.80240377776933, 91.44066613528474, 84.67375436724254, 62.27791407871459, 64.32868168528867, 65.52064789953243, 68.58040216100136, 730.7499402631101, 287.0570551175411, 199.5642081378848, 149.63876165549658, 110.75739265076928, 69.53393468168099, 58.43848927417195, 52.40066154689871, 45.71339221565881, 44.73402172122288, 44.39528396104913, 39.71679199202846, 34.04988477063924, 26.052848956107063, 24.20175596399049, 23.228736248697455, 21.532436100677494, 20.392937327353053, 20.174356970840655, 19.848587303057272, 58.00920039603232, 19.429500618023653, 17.356096221291768, 17.24952095772482, 16.85827347606659, 33.011440488450724, 15.050051769955264, 14.787703233096481, 14.471949308378543, 14.372693282427843, 80.7255712265279, 53.66943912160544, 86.51922041585736, 110.48683075947665, 232.79889119081392, 141.5657523959064, 60.69633922803682, 717.7105359797515, 81.19312291425734, 547.8462143498496, 74.35767555176139, 190.6120618160355, 3624.5999916154556, 309.67799684422886, 53.77885835487681, 207.37286974711822, 85.15328998855317, 195.62456480142959, 118.05316285598245, 393.3732556391541, 255.5408553322649, 126.35058546217932, 138.6001719652469, 230.32899277535716, 503.90702458962267, 145.23614158558377, 390.8914587904965, 235.24245120389034, 157.2207065115036, 190.27659251234283, 170.3461763006968, 191.8978757181345, 138.32348936267414, 190.90885183920787, 140.88427462851251, 137.45547517765323, 152.2417925825881, 137.99760427855315, 260.82632407465434, 225.4607439446989, 214.0433573830772, 86.33077679002795, 72.02050836647729, 45.01141272832739, 43.68094580236325, 41.702250343702666, 41.658010490033604, 35.69695800437873, 34.411797043520906, 31.641499227012254, 29.925011672678654, 26.762924713438238, 26.142780720386742, 24.750588066694235, 24.513049229603933, 24.43861638103089, 23.65613112352096, 23.54083248208218, 23.420740073981587, 22.861872082170713, 22.612640895334707, 21.093401926163192, 19.986778668457447, 19.81843978308961, 19.414099023732746, 17.722939010356217, 109.64982190744122, 17.416152705045196, 68.26720412790577, 91.51434751905774, 117.09162664744619, 62.13438055965614, 258.07804541331393, 70.74139163870176, 103.12108003527185, 42.43018266004706, 33.67753770214034, 52.580812978028206, 151.4295129078036, 53.38104731304987, 161.7290405651672, 84.54445378412086, 109.16513039151592, 168.48732193590726, 290.9635586694161, 303.1631064886835, 141.9718597333608, 137.6253576846138, 68.16264139010298, 83.67759242368116, 227.2949223785758, 478.38457921764996, 312.1172679667096, 115.76752422534574, 137.6106314206437, 159.66509553032193, 112.60782868685641, 214.71755358348625, 184.71581315765954, 137.1127294543396, 131.47036971880894, 288.2279236633261, 443.49624115919704, 199.55766023437425, 153.3345750661536, 115.09788620540748, 113.30111505944357, 112.38949581339192], \"Total\": [5780.0, 2873.0, 1746.0, 1225.0, 1478.0, 1209.0, 1870.0, 1302.0, 1128.0, 818.0, 811.0, 685.0, 731.0, 783.0, 694.0, 1342.0, 894.0, 470.0, 479.0, 935.0, 609.0, 758.0, 478.0, 454.0, 1892.0, 831.0, 688.0, 913.0, 720.0, 463.0, 1746.9860525396923, 1478.055126079912, 818.039781033114, 129.48335944851812, 119.2806511577784, 106.4623893676505, 94.471822279101, 91.45304965712057, 87.12591767687383, 85.7535159650633, 77.43105743410132, 71.24826365441184, 64.35467141452725, 59.941966434369576, 55.80352126778102, 46.76820924246409, 44.16234232730166, 42.32469363642238, 40.373073544437275, 37.129897300065224, 36.35975375969839, 35.49629541088328, 35.40466880432582, 33.46108505974659, 30.71015176658399, 783.6523433836066, 57.62096556475173, 26.13252128362524, 106.96177952574998, 25.45637721853357, 2873.613301867771, 127.41673107747803, 211.62065246287494, 113.78815814332272, 221.3104787676312, 59.84050730844293, 136.64038885174068, 393.6291392077216, 720.5522148718732, 583.4190651524846, 1342.8213774218457, 137.8240837536946, 216.43922520051956, 158.02318021276466, 150.81123993748005, 381.44540341803975, 237.97554717847578, 869.2085726132775, 533.47924633921, 534.3778515087815, 379.11717694802775, 396.0193757280643, 373.75716837348915, 366.44912835174244, 461.0223898395114, 103.18519100575539, 84.23520114711506, 61.90993018265563, 60.301536895403466, 52.90862281981491, 49.83591358063843, 48.61022677085965, 47.63987162539484, 45.98640821631768, 39.935869927121516, 38.172398951647175, 37.98180943924283, 32.89827375142684, 32.746755775464514, 31.164077710797088, 28.554696391269907, 28.501722031510234, 24.445239273549635, 22.79648779034029, 22.128218563611373, 22.003279274065317, 20.099438575228344, 19.890157882663534, 19.308135293397985, 19.303313162069863, 18.97142363847911, 17.711075926533127, 17.5602204916625, 17.414498326717577, 17.305885797571886, 39.53960653500652, 99.07253602261677, 225.14118438242866, 111.04766712972777, 53.886986078536715, 508.19939992940596, 131.3654212130092, 41.99287364988011, 325.0532743303842, 72.14011946578053, 62.35024706155805, 80.09417174100042, 130.97696087019014, 218.80847719218687, 45.369782180546395, 373.75716837348915, 806.7934582729767, 59.68705152837185, 176.9813027079771, 162.80361532518347, 290.6865089246409, 159.25118758206187, 568.0432731468966, 77.60908212922831, 135.32421967807412, 1342.8213774218457, 191.90980773921456, 272.2359682603907, 277.5772993644117, 207.24980488290308, 173.4862673045481, 314.1977379351806, 720.5522148718732, 1321.5708932706616, 1892.9575976723977, 437.6937122696875, 553.0789912496243, 533.47924633921, 257.4827386697101, 228.91158568110927, 186.95426056769517, 102.8031714946259, 95.96370210077461, 71.8741974395546, 53.561018926808096, 44.55804213106002, 38.6974859040352, 38.57860177358699, 36.325459154478885, 32.199048187770195, 27.862512916632795, 23.44020193313079, 23.252359993018317, 22.92436851932666, 22.174784936367534, 20.97503214263295, 20.604466356184208, 19.210814163453144, 694.4352261879183, 17.918922691399654, 17.022555884372082, 16.224167961725737, 27.975354609252346, 15.143379574523538, 15.038589127923927, 14.990939879077759, 14.948817456139059, 14.09607376650365, 609.207739051499, 248.36971250442227, 147.8592990369365, 49.25653332626173, 236.01618410628058, 38.5941617380754, 1870.2662354952759, 52.41705573070896, 145.7909625135379, 221.0390104202297, 96.00169575404745, 275.87242863722616, 762.6356713538632, 159.9616330690039, 147.46785297319795, 94.10132999860636, 257.51821822922255, 935.4070399608578, 207.77773611054596, 179.54332084560411, 314.31484739204393, 5780.499348205798, 88.53270666072642, 134.47024164987073, 322.4815741400606, 234.89574195042678, 411.2748859189568, 1078.9381227591582, 502.89029761273497, 417.7443950072113, 646.0574255189281, 831.3452025474594, 1321.5708932706616, 430.41986982840353, 1892.9575976723977, 825.955507766461, 250.32829527658467, 165.77460479636702, 97.86778469992475, 96.64635626283716, 83.5394351159828, 82.41093582682727, 40.991790041428416, 38.92928258927826, 34.09615452343986, 32.20661043722781, 31.796105381749317, 31.610568654530574, 29.5711265830208, 29.32731904214502, 25.137923866549933, 25.121470299354318, 20.426778797153528, 19.656128381386292, 19.578450227692066, 18.707974431787488, 18.57506406440066, 17.976112480945844, 17.659741674843715, 17.493591358175056, 17.28503530232744, 16.781751692413376, 16.618179124398694, 16.48246742863691, 16.159566324688093, 15.853768038761043, 27.79891644096548, 424.16101914927776, 36.01618610064487, 353.3695460886915, 181.10557323132824, 42.65554580836382, 86.53330319937677, 66.82905758630629, 42.972807331648625, 256.1641139573334, 183.64794912557628, 231.32343338129908, 222.17169055210948, 170.966477280985, 76.62118226990937, 347.1041886366097, 112.43311022014257, 135.37208899388764, 885.0738709252138, 498.5599577953789, 316.49063180251983, 187.57134524232424, 781.6416943323999, 48.603443741617255, 289.2322853869502, 82.07088179524946, 474.3251716509873, 584.8021781693336, 185.81446077746304, 566.6151175064958, 609.4628039103418, 913.9293048386481, 813.6570096323966, 860.6360181179889, 366.44912835174244, 210.91543605889018, 111.83874135995082, 103.25081445437368, 95.85299436370346, 75.12147771175474, 74.05558362243818, 71.89973368900624, 71.66188558756211, 60.31126160219239, 51.74490493261278, 51.495103373714585, 40.16314778920046, 37.792796735126615, 34.16524757634033, 33.62561482911532, 31.913911605263692, 31.44397252329712, 31.316927020207824, 29.464093717890577, 29.206573057230905, 29.02375738608224, 28.63369337104848, 27.20094974175423, 25.543387471951807, 24.68491178781829, 22.782886859273415, 22.320559474658882, 22.050905359976312, 21.87933201449694, 21.13514482427576, 20.70020143916133, 141.37866963496967, 95.54978740800301, 116.20792919020236, 42.33153911518346, 41.869213263727495, 76.9452577286221, 200.44108078993133, 60.27068997415923, 243.89977878453476, 466.6420209406715, 223.05746959498669, 90.2900376054607, 74.16626835230399, 233.86298696178255, 277.4870583445366, 65.26806436944487, 1128.7681413947046, 831.3452025474594, 168.8609343683008, 62.35303379455778, 75.87489567612006, 510.64710456131655, 382.43861948333347, 210.30759046292272, 688.0802214526095, 117.91720884483712, 860.6360181179889, 178.11306318710345, 412.09237467843604, 290.09100407507987, 1892.9575976723977, 210.63064994190321, 187.68371024911232, 524.699784259945, 410.43309045826163, 1321.5708932706616, 205.7147038883551, 203.64240387256189, 169.18348904889496, 138.98576122355004, 86.88738355907404, 66.3875715178117, 201.62741933558416, 48.69078194263077, 42.52984003192174, 41.061062463686255, 168.4605202388318, 37.95966302894847, 36.705035938569445, 36.585440086874165, 34.75569402833206, 32.35843331727954, 31.357446772511462, 30.291952505672885, 29.73175446757769, 27.1566106177447, 27.096254868812533, 26.89050550102435, 26.418425101408364, 26.30036736057933, 25.602669467855804, 25.18304307689557, 23.823742758783364, 23.390755108129127, 22.165218055924402, 22.012743895407567, 73.03190447225666, 132.3311842929955, 310.6135064740915, 463.7321646916075, 44.74263880526413, 43.65554290340646, 374.7096392223612, 758.9611675548001, 173.2836067031431, 1302.0982839217554, 33.92490163291123, 123.97081693621838, 262.1588174507316, 58.48148641655899, 104.859430798476, 217.33447369230643, 57.62736241804794, 492.1096795756508, 190.4235924566739, 135.29220776594497, 302.75033078964634, 247.15180381155557, 781.6416943323999, 316.49063180251983, 137.98112212954194, 253.14206030706112, 261.3401077733132, 267.08341126641955, 584.8021781693336, 184.4932235943663, 201.69174999491023, 412.09237467843604, 609.4628039103418, 466.11340243024847, 115.82526604126151, 107.27739873666195, 61.494233357123534, 48.762299780183746, 42.9968281222102, 41.19456603400789, 40.38779011820184, 36.40135998728868, 34.58927253299214, 33.97323440202566, 33.769798122618205, 32.96834892396719, 32.851205565246666, 31.924971357284043, 30.435604013434336, 30.182689584259812, 29.654095046943382, 28.372509843488633, 27.624898912732526, 26.715504909384077, 26.68823953664448, 26.55489290916325, 26.35449868305102, 25.831018847927865, 25.540610283439527, 23.989189558038802, 22.964652982932822, 22.947242578085834, 22.566979756499546, 21.929878969145857, 139.3542789310588, 276.00147791106264, 811.7646990674497, 265.71325364078757, 234.55173859275848, 122.06692631867514, 108.53017313517168, 147.0174674053598, 227.65970058047947, 54.805840041105355, 157.65633921456256, 45.74084285280843, 100.77350502752849, 94.879536544022, 244.34227165639385, 488.7969243626072, 72.04871371916872, 261.6223980552039, 57.2139878204695, 474.3251716509873, 190.93861539044596, 305.10625721018033, 195.77223578658854, 98.64285323509097, 913.9293048386481, 80.30119291766232, 163.3274335581279, 79.23312579056957, 84.98701601992425, 118.8538034495308, 885.0738709252138, 813.6570096323966, 218.6983198639187, 207.92500377400455, 281.6655864905934, 1321.5708932706616, 566.6151175064958, 234.11428188200253, 781.6416943323999, 430.41986982840353, 1225.7175122490742, 1209.9911123465547, 55.774582579568325, 54.380695312456055, 37.11807566981851, 685.635395446037, 31.358051682402337, 142.2408831903072, 29.806586848892547, 29.053292200864384, 27.77008412147845, 27.652610348872958, 26.826984205971744, 25.811568787712602, 23.93915969823873, 454.82849687984384, 21.605805987871694, 20.001824175636763, 19.66147227338775, 18.928757228804223, 18.576611759429873, 17.539984169951886, 17.42145616797381, 17.41238310039346, 16.89036760237964, 48.729937279511724, 478.4348872023959, 15.98458597595316, 15.620494010125205, 15.304389022414227, 70.06548362932503, 37.81652134437472, 33.98303846732231, 44.056469564722605, 37.497585200833605, 263.86403127925036, 35.01898829207265, 297.8120131048424, 73.34595975713525, 688.0802214526095, 646.0574255189281, 89.96097467780841, 328.44717967081664, 83.43238476587625, 64.94260181754069, 502.89029761273497, 256.3942882736798, 92.45867774921267, 1892.9575976723977, 61.56399543489456, 553.0789912496243, 91.62515386353677, 667.578087391615, 134.74826229130895, 516.7378928481703, 5780.499348205798, 737.836165210828, 1870.2662354952759, 894.3546750155112, 232.07678599518871, 1078.9381227591582, 400.67437262157426, 536.9909976623043, 762.6356713538632, 583.4190651524846, 135.65680277767393, 106.24081840935523, 100.30039858089773, 94.92618907033808, 90.21665439506056, 84.05717093294344, 80.14640248236005, 63.09273585967736, 54.880469103949295, 51.10609461192246, 48.18279321096492, 39.28632859684744, 36.476174368966056, 133.2066986075365, 32.11377526822897, 30.529660009748234, 27.867061721895464, 27.693402275601468, 27.39566355712455, 27.25790304190065, 27.16640436663354, 26.555816406411974, 24.121945698959912, 23.83533689724444, 23.6939584878102, 23.040705373124183, 21.783359854478263, 21.37967534864109, 20.676767418686993, 19.95302090180393, 30.397999825292526, 189.28473904005514, 27.096605063776092, 51.29441066362227, 196.53146808699154, 249.81077941856526, 113.21544104564023, 194.14810027990828, 36.881020489367216, 88.3718167841272, 446.0051694295932, 69.55222181306839, 87.84901657706142, 113.93057270080696, 410.43309045826163, 139.45637556211963, 396.0193757280643, 86.28387802901727, 1302.0982839217554, 108.95540962151321, 142.85398885607648, 566.6151175064958, 266.03835806575995, 159.98730650275357, 303.35587655744024, 189.368326772074, 114.38565949416079, 492.1096795756508, 758.9611675548001, 2873.613301867771, 379.11717694802775, 470.1298008945712, 291.31762150165457, 161.67575322122943, 128.2294640673867, 121.78770544387271, 100.10622072217241, 98.280531132603, 86.22041951482277, 61.56717266500528, 58.566188136709805, 56.91531391528701, 53.62980778346933, 43.45948979325686, 42.90055892606694, 41.68719605614923, 40.55253932408297, 39.18486933177526, 37.55360204002771, 36.73493197454278, 36.036065449, 479.22926467099376, 34.12264543033703, 32.64781765765141, 32.443361638417436, 123.41480330175948, 31.439557432913386, 30.499801882122444, 30.194976251355886, 27.722581634520733, 27.67767248133938, 115.10656854536465, 46.88663301906754, 114.78752926031439, 89.5569073598527, 72.56858411129467, 134.277971996594, 206.56784997552603, 93.44449006597877, 116.76622467509392, 79.42237762308892, 417.7443950072113, 249.9108694772836, 232.75718066514455, 165.0104173822772, 869.2085726132775, 264.31962498632976, 70.76162528215806, 282.2503899833333, 935.4070399608578, 492.1096795756508, 231.62508441237233, 408.18749319103694, 913.9293048386481, 806.7934582729767, 189.6560068496166, 130.46907564984681, 118.78073781960424, 114.77326854467921, 104.42016570901778, 102.3430816622356, 49.6777575485469, 43.795008300901664, 32.069225168403285, 31.375882037775984, 29.635716675161742, 29.394016344851178, 28.06866407941503, 27.38443211473049, 25.635786698737142, 25.330333715915472, 25.070069333733496, 25.01684454517967, 22.956911672392, 22.207544339220952, 21.541614607910443, 21.429181377281402, 21.31784977410831, 20.287194495754292, 19.909193172595714, 19.822473093205975, 18.561597154788107, 18.41373977916782, 18.188682894421593, 17.94572817244229, 221.46210058396898, 29.653303706758177, 106.67917117972983, 24.91923612408053, 403.9915473806771, 143.7737100568951, 60.3199626711752, 187.83140058368667, 150.22182780603183, 72.53070379279565, 315.8967027841098, 64.68969158391099, 440.894076025324, 224.42404063268728, 68.21915661910468, 248.9878949883002, 45.69314754469804, 61.0392402381772, 58.50474749984599, 83.09391404714229, 223.942060235482, 369.9007040144845, 265.3353240420808, 79.59885896365185, 400.67437262157426, 94.1812221790243, 108.73513377463526, 1078.9381227591582, 516.7378928481703, 328.44717967081664, 339.54705587370586, 515.2088183834942, 646.0574255189281, 762.6356713538632, 1321.5708932706616, 860.6360181179889, 1892.9575976723977, 119.17766208647015, 82.11710556777956, 69.53516949257136, 69.21073099859242, 61.98769784074043, 55.68700346244983, 55.68495768436113, 55.57846920283116, 40.123614202075125, 39.39244745367651, 38.26039465687769, 36.13096430831491, 34.06917620392201, 32.025874596651974, 28.611917012082596, 28.128918820545977, 28.122837964006855, 29.911861107098368, 26.712846381482006, 26.040906097429016, 24.104906310645397, 23.612489411871305, 22.176205878979605, 22.054153987222197, 21.20143633751511, 20.62355774587089, 20.588493555050988, 20.04124657896835, 19.696917641052035, 19.554696044171497, 49.7437465591707, 57.39944872175455, 180.99886186438115, 28.233421240093396, 126.38732282157598, 43.584831467260805, 475.78158573905404, 80.27616807929307, 69.93468338147595, 111.78100022270489, 82.501985151253, 210.34660802747155, 276.065746993417, 66.21450164891425, 184.60875395226498, 147.8979048465931, 61.49514286972464, 62.444261048161444, 93.04869149470993, 117.62899421019173, 102.60230272467076, 115.68596931379537, 117.02329715871385, 136.2269488594031, 164.5286525819479, 210.52569207417906, 1892.9575976723977, 333.49968392152755, 163.46144268811025, 806.7934582729767, 583.0231275173445, 115.25852256345478, 144.28024046853034, 190.20813425215408, 553.0789912496243, 731.6872284078243, 287.99434249153563, 200.50149536124485, 150.57604908147758, 111.69468020300056, 70.47122168081775, 59.37577688073895, 53.337948640823875, 46.65067917768464, 45.67130908016723, 45.33257062832237, 40.654078912774466, 34.987171466049496, 26.990136616776095, 25.139044118334052, 24.166023625998307, 22.469723946102643, 21.33022433906595, 21.111659000509732, 20.785874899540058, 60.80191700048739, 20.366788166368526, 18.293383825208767, 18.186808106249302, 17.795561072053033, 35.03581864647778, 15.987340399413457, 15.724990957399044, 15.409237108444263, 15.309979942357554, 86.00849797040567, 57.1976102902464, 93.47119566919167, 120.27505698517517, 267.1951097157132, 161.3737980646251, 67.01434932772311, 894.3546750155112, 91.31627687729788, 709.6661192627723, 84.791521540836, 233.75194521538847, 5780.499348205798, 424.25741228840525, 61.06079941125503, 294.66877466513023, 108.28362803799541, 306.9232425293339, 165.48000440489392, 813.6570096323966, 460.25515287614144, 186.1487764523486, 216.4535367441774, 491.284917320319, 1892.9575976723977, 263.22090199343813, 1321.5708932706616, 723.720220154752, 344.8928718021516, 512.0068200874729, 438.76788070170323, 737.836165210828, 354.3579045161929, 935.4070399608578, 515.2088183834942, 524.699784259945, 1870.2662354952759, 1078.9381227591582, 261.75795347946087, 226.39237329035205, 214.97498684070007, 87.26240681868916, 72.95213834094109, 45.94304226161575, 44.612576030659746, 42.633880611548456, 42.589640618489675, 36.62858843122448, 35.34342822860943, 32.57312924903841, 30.85664242853909, 27.694554351865115, 27.074410857565656, 25.682217755954838, 25.444680901684627, 25.370246497115097, 24.587761241031437, 24.472462368593074, 24.35237011663014, 23.79351226868021, 23.54427228557471, 22.025031178245552, 20.918409509451507, 20.75006964649661, 20.345729308926636, 18.65457015470243, 115.5044848961133, 18.347782020307807, 72.22081239396975, 97.26088367466585, 126.28687115791718, 66.15412198663783, 286.5832550122671, 76.1215683068651, 113.90241367760892, 45.2756777623314, 35.62491241552649, 56.946237387536705, 181.61635474271213, 59.64039005043556, 206.01539611226468, 100.86199589429205, 139.17860870059138, 229.44822339197515, 433.12224949088534, 462.28144970866003, 192.26457549379745, 187.2995183515152, 81.47108667436967, 106.94343117154179, 382.5206076503257, 1128.7681413947046, 723.720220154752, 179.43060982920895, 233.88097650810488, 300.6381384072512, 178.87288655673356, 512.0068200874729, 524.699784259945, 314.1977379351806, 304.80661618900905, 1892.9575976723977, 5780.499348205798, 1078.9381227591582, 491.284917320319, 466.6420209406715, 667.578087391615, 553.1016331964989], \"Category\": [\"Default\", \"Default\", \"Default\", \"Default\", \"Default\", \"Default\", \"Default\", \"Default\", \"Default\", \"Default\", \"Default\", \"Default\", \"Default\", \"Default\", \"Default\", \"Default\", \"Default\", \"Default\", \"Default\", \"Default\", \"Default\", \"Default\", \"Default\", \"Default\", \"Default\", \"Default\", \"Default\", \"Default\", \"Default\", \"Default\", \"Topic1\", \"Topic1\", \"Topic1\", \"Topic1\", \"Topic1\", \"Topic1\", \"Topic1\", \"Topic1\", \"Topic1\", \"Topic1\", \"Topic1\", \"Topic1\", \"Topic1\", \"Topic1\", \"Topic1\", \"Topic1\", \"Topic1\", \"Topic1\", \"Topic1\", \"Topic1\", \"Topic1\", \"Topic1\", \"Topic1\", \"Topic1\", \"Topic1\", \"Topic1\", \"Topic1\", \"Topic1\", \"Topic1\", \"Topic1\", \"Topic1\", \"Topic1\", \"Topic1\", \"Topic1\", \"Topic1\", \"Topic1\", \"Topic1\", \"Topic1\", \"Topic1\", \"Topic1\", \"Topic1\", \"Topic1\", \"Topic1\", \"Topic1\", \"Topic1\", \"Topic1\", \"Topic1\", \"Topic1\", \"Topic1\", \"Topic1\", \"Topic1\", \"Topic1\", \"Topic1\", \"Topic1\", \"Topic1\", \"Topic2\", \"Topic2\", \"Topic2\", \"Topic2\", \"Topic2\", \"Topic2\", \"Topic2\", \"Topic2\", \"Topic2\", \"Topic2\", \"Topic2\", \"Topic2\", \"Topic2\", \"Topic2\", \"Topic2\", \"Topic2\", \"Topic2\", \"Topic2\", \"Topic2\", \"Topic2\", \"Topic2\", \"Topic2\", \"Topic2\", \"Topic2\", \"Topic2\", \"Topic2\", \"Topic2\", \"Topic2\", \"Topic2\", \"Topic2\", \"Topic2\", \"Topic2\", \"Topic2\", \"Topic2\", \"Topic2\", \"Topic2\", \"Topic2\", \"Topic2\", \"Topic2\", \"Topic2\", \"Topic2\", \"Topic2\", \"Topic2\", \"Topic2\", \"Topic2\", \"Topic2\", \"Topic2\", \"Topic2\", \"Topic2\", \"Topic2\", \"Topic2\", \"Topic2\", \"Topic2\", \"Topic2\", \"Topic2\", \"Topic2\", \"Topic2\", \"Topic2\", \"Topic2\", \"Topic2\", \"Topic2\", \"Topic2\", \"Topic2\", \"Topic2\", \"Topic2\", \"Topic2\", \"Topic2\", \"Topic2\", \"Topic3\", \"Topic3\", \"Topic3\", \"Topic3\", \"Topic3\", \"Topic3\", \"Topic3\", \"Topic3\", \"Topic3\", \"Topic3\", \"Topic3\", \"Topic3\", \"Topic3\", \"Topic3\", \"Topic3\", \"Topic3\", \"Topic3\", \"Topic3\", \"Topic3\", \"Topic3\", \"Topic3\", \"Topic3\", \"Topic3\", \"Topic3\", \"Topic3\", \"Topic3\", \"Topic3\", \"Topic3\", \"Topic3\", \"Topic3\", \"Topic3\", \"Topic3\", \"Topic3\", \"Topic3\", \"Topic3\", \"Topic3\", \"Topic3\", \"Topic3\", \"Topic3\", \"Topic3\", \"Topic3\", \"Topic3\", \"Topic3\", \"Topic3\", \"Topic3\", \"Topic3\", \"Topic3\", \"Topic3\", \"Topic3\", \"Topic3\", \"Topic3\", \"Topic3\", \"Topic3\", \"Topic3\", \"Topic3\", \"Topic3\", \"Topic3\", \"Topic3\", \"Topic3\", \"Topic3\", \"Topic3\", \"Topic3\", \"Topic3\", \"Topic3\", \"Topic3\", \"Topic3\", \"Topic4\", \"Topic4\", \"Topic4\", \"Topic4\", \"Topic4\", \"Topic4\", \"Topic4\", \"Topic4\", \"Topic4\", \"Topic4\", \"Topic4\", \"Topic4\", \"Topic4\", \"Topic4\", \"Topic4\", \"Topic4\", \"Topic4\", \"Topic4\", \"Topic4\", \"Topic4\", \"Topic4\", \"Topic4\", \"Topic4\", \"Topic4\", \"Topic4\", \"Topic4\", \"Topic4\", \"Topic4\", \"Topic4\", \"Topic4\", \"Topic4\", \"Topic4\", \"Topic4\", \"Topic4\", \"Topic4\", \"Topic4\", \"Topic4\", \"Topic4\", \"Topic4\", \"Topic4\", \"Topic4\", \"Topic4\", \"Topic4\", \"Topic4\", \"Topic4\", \"Topic4\", \"Topic4\", \"Topic4\", \"Topic4\", \"Topic4\", \"Topic4\", \"Topic4\", \"Topic4\", \"Topic4\", \"Topic4\", \"Topic4\", \"Topic4\", \"Topic4\", \"Topic4\", \"Topic4\", \"Topic4\", \"Topic4\", \"Topic4\", \"Topic4\", \"Topic4\", \"Topic4\", \"Topic5\", \"Topic5\", \"Topic5\", \"Topic5\", \"Topic5\", \"Topic5\", \"Topic5\", \"Topic5\", \"Topic5\", \"Topic5\", \"Topic5\", \"Topic5\", \"Topic5\", \"Topic5\", \"Topic5\", \"Topic5\", \"Topic5\", \"Topic5\", \"Topic5\", \"Topic5\", \"Topic5\", \"Topic5\", \"Topic5\", \"Topic5\", \"Topic5\", \"Topic5\", \"Topic5\", \"Topic5\", \"Topic5\", \"Topic5\", \"Topic5\", \"Topic5\", \"Topic5\", \"Topic5\", \"Topic5\", \"Topic5\", \"Topic5\", \"Topic5\", \"Topic5\", \"Topic5\", \"Topic5\", \"Topic5\", \"Topic5\", \"Topic5\", \"Topic5\", \"Topic5\", \"Topic5\", \"Topic5\", \"Topic5\", \"Topic5\", \"Topic5\", \"Topic5\", \"Topic5\", \"Topic5\", \"Topic5\", \"Topic5\", \"Topic5\", \"Topic5\", \"Topic5\", \"Topic5\", \"Topic5\", \"Topic5\", \"Topic5\", \"Topic5\", \"Topic5\", \"Topic5\", \"Topic6\", \"Topic6\", \"Topic6\", \"Topic6\", \"Topic6\", \"Topic6\", \"Topic6\", \"Topic6\", \"Topic6\", \"Topic6\", \"Topic6\", \"Topic6\", \"Topic6\", \"Topic6\", \"Topic6\", \"Topic6\", \"Topic6\", \"Topic6\", \"Topic6\", \"Topic6\", \"Topic6\", \"Topic6\", \"Topic6\", \"Topic6\", \"Topic6\", \"Topic6\", \"Topic6\", \"Topic6\", \"Topic6\", \"Topic6\", \"Topic6\", \"Topic6\", \"Topic6\", \"Topic6\", \"Topic6\", \"Topic6\", \"Topic6\", \"Topic6\", \"Topic6\", \"Topic6\", \"Topic6\", \"Topic6\", \"Topic6\", \"Topic6\", \"Topic6\", \"Topic6\", \"Topic6\", \"Topic6\", \"Topic6\", \"Topic6\", \"Topic6\", \"Topic6\", \"Topic6\", \"Topic6\", \"Topic6\", \"Topic6\", \"Topic6\", \"Topic6\", \"Topic6\", \"Topic6\", \"Topic6\", \"Topic6\", \"Topic6\", \"Topic6\", \"Topic7\", \"Topic7\", \"Topic7\", \"Topic7\", \"Topic7\", \"Topic7\", \"Topic7\", \"Topic7\", \"Topic7\", \"Topic7\", \"Topic7\", \"Topic7\", \"Topic7\", \"Topic7\", \"Topic7\", \"Topic7\", \"Topic7\", \"Topic7\", \"Topic7\", \"Topic7\", \"Topic7\", \"Topic7\", \"Topic7\", \"Topic7\", \"Topic7\", \"Topic7\", \"Topic7\", \"Topic7\", \"Topic7\", \"Topic7\", \"Topic7\", \"Topic7\", \"Topic7\", \"Topic7\", \"Topic7\", \"Topic7\", \"Topic7\", \"Topic7\", \"Topic7\", \"Topic7\", \"Topic7\", \"Topic7\", \"Topic7\", \"Topic7\", \"Topic7\", \"Topic7\", \"Topic7\", \"Topic7\", \"Topic7\", \"Topic7\", \"Topic7\", \"Topic7\", \"Topic7\", \"Topic7\", \"Topic7\", \"Topic7\", \"Topic7\", \"Topic7\", \"Topic7\", \"Topic7\", \"Topic7\", \"Topic7\", \"Topic7\", \"Topic7\", \"Topic7\", \"Topic7\", \"Topic7\", \"Topic7\", \"Topic7\", \"Topic7\", \"Topic8\", \"Topic8\", \"Topic8\", \"Topic8\", \"Topic8\", \"Topic8\", \"Topic8\", \"Topic8\", \"Topic8\", \"Topic8\", \"Topic8\", \"Topic8\", \"Topic8\", \"Topic8\", \"Topic8\", \"Topic8\", \"Topic8\", \"Topic8\", \"Topic8\", \"Topic8\", \"Topic8\", \"Topic8\", \"Topic8\", \"Topic8\", \"Topic8\", \"Topic8\", \"Topic8\", \"Topic8\", \"Topic8\", \"Topic8\", \"Topic8\", \"Topic8\", \"Topic8\", \"Topic8\", \"Topic8\", \"Topic8\", \"Topic8\", \"Topic8\", \"Topic8\", \"Topic8\", \"Topic8\", \"Topic8\", \"Topic8\", \"Topic8\", \"Topic8\", \"Topic8\", \"Topic8\", \"Topic8\", \"Topic8\", \"Topic8\", \"Topic8\", \"Topic8\", \"Topic8\", \"Topic8\", \"Topic8\", \"Topic8\", \"Topic8\", \"Topic8\", \"Topic8\", \"Topic8\", \"Topic8\", \"Topic8\", \"Topic8\", \"Topic8\", \"Topic8\", \"Topic9\", \"Topic9\", \"Topic9\", \"Topic9\", \"Topic9\", \"Topic9\", \"Topic9\", \"Topic9\", \"Topic9\", \"Topic9\", \"Topic9\", \"Topic9\", \"Topic9\", \"Topic9\", \"Topic9\", \"Topic9\", \"Topic9\", \"Topic9\", \"Topic9\", \"Topic9\", \"Topic9\", \"Topic9\", \"Topic9\", \"Topic9\", \"Topic9\", \"Topic9\", \"Topic9\", \"Topic9\", \"Topic9\", \"Topic9\", \"Topic9\", \"Topic9\", \"Topic9\", \"Topic9\", \"Topic9\", \"Topic9\", \"Topic9\", \"Topic9\", \"Topic9\", \"Topic9\", \"Topic9\", \"Topic9\", \"Topic9\", \"Topic9\", \"Topic9\", \"Topic9\", \"Topic9\", \"Topic9\", \"Topic9\", \"Topic9\", \"Topic9\", \"Topic9\", \"Topic9\", \"Topic9\", \"Topic9\", \"Topic9\", \"Topic9\", \"Topic9\", \"Topic9\", \"Topic9\", \"Topic9\", \"Topic10\", \"Topic10\", \"Topic10\", \"Topic10\", \"Topic10\", \"Topic10\", \"Topic10\", \"Topic10\", \"Topic10\", \"Topic10\", \"Topic10\", \"Topic10\", \"Topic10\", \"Topic10\", \"Topic10\", \"Topic10\", \"Topic10\", \"Topic10\", \"Topic10\", \"Topic10\", \"Topic10\", \"Topic10\", \"Topic10\", \"Topic10\", \"Topic10\", \"Topic10\", \"Topic10\", \"Topic10\", \"Topic10\", \"Topic10\", \"Topic10\", \"Topic10\", \"Topic10\", \"Topic10\", \"Topic10\", \"Topic10\", \"Topic10\", \"Topic10\", \"Topic10\", \"Topic10\", \"Topic10\", \"Topic10\", \"Topic10\", \"Topic10\", \"Topic10\", \"Topic10\", \"Topic10\", \"Topic10\", \"Topic10\", \"Topic10\", \"Topic10\", \"Topic10\", \"Topic10\", \"Topic10\", \"Topic11\", \"Topic11\", \"Topic11\", \"Topic11\", \"Topic11\", \"Topic11\", \"Topic11\", \"Topic11\", \"Topic11\", \"Topic11\", \"Topic11\", \"Topic11\", \"Topic11\", \"Topic11\", \"Topic11\", \"Topic11\", \"Topic11\", \"Topic11\", \"Topic11\", \"Topic11\", \"Topic11\", \"Topic11\", \"Topic11\", \"Topic11\", \"Topic11\", \"Topic11\", \"Topic11\", \"Topic11\", \"Topic11\", \"Topic11\", \"Topic11\", \"Topic11\", \"Topic11\", \"Topic11\", \"Topic11\", \"Topic11\", \"Topic11\", \"Topic11\", \"Topic11\", \"Topic11\", \"Topic11\", \"Topic11\", \"Topic11\", \"Topic11\", \"Topic11\", \"Topic11\", \"Topic11\", \"Topic11\", \"Topic11\", \"Topic11\", \"Topic11\", \"Topic11\", \"Topic11\", \"Topic11\", \"Topic11\", \"Topic11\", \"Topic11\", \"Topic11\", \"Topic11\", \"Topic11\", \"Topic11\", \"Topic11\", \"Topic11\", \"Topic11\", \"Topic11\", \"Topic11\", \"Topic11\", \"Topic12\", \"Topic12\", \"Topic12\", \"Topic12\", \"Topic12\", \"Topic12\", \"Topic12\", \"Topic12\", \"Topic12\", \"Topic12\", \"Topic12\", \"Topic12\", \"Topic12\", \"Topic12\", \"Topic12\", \"Topic12\", \"Topic12\", \"Topic12\", \"Topic12\", \"Topic12\", \"Topic12\", \"Topic12\", \"Topic12\", \"Topic12\", \"Topic12\", \"Topic12\", \"Topic12\", \"Topic12\", \"Topic12\", \"Topic12\", \"Topic12\", \"Topic12\", \"Topic12\", \"Topic12\", \"Topic12\", \"Topic12\", \"Topic12\", \"Topic12\", \"Topic12\", \"Topic12\", \"Topic12\", \"Topic12\", \"Topic12\", \"Topic12\", \"Topic12\", \"Topic12\", \"Topic12\", \"Topic12\", \"Topic12\", \"Topic12\", \"Topic12\", \"Topic12\", \"Topic12\", \"Topic12\", \"Topic12\", \"Topic12\", \"Topic12\", \"Topic12\", \"Topic12\", \"Topic12\", \"Topic12\", \"Topic12\", \"Topic12\", \"Topic12\", \"Topic12\", \"Topic13\", \"Topic13\", \"Topic13\", \"Topic13\", \"Topic13\", \"Topic13\", \"Topic13\", \"Topic13\", \"Topic13\", \"Topic13\", \"Topic13\", \"Topic13\", \"Topic13\", \"Topic13\", \"Topic13\", \"Topic13\", \"Topic13\", \"Topic13\", \"Topic13\", \"Topic13\", \"Topic13\", \"Topic13\", \"Topic13\", \"Topic13\", \"Topic13\", \"Topic13\", \"Topic13\", \"Topic13\", \"Topic13\", \"Topic13\", \"Topic13\", \"Topic13\", \"Topic13\", \"Topic13\", \"Topic13\", \"Topic13\", \"Topic13\", \"Topic13\", \"Topic13\", \"Topic13\", \"Topic13\", \"Topic13\", \"Topic13\", \"Topic13\", \"Topic13\", \"Topic13\", \"Topic13\", \"Topic13\", \"Topic13\", \"Topic13\", \"Topic13\", \"Topic13\", \"Topic13\", \"Topic13\", \"Topic13\", \"Topic13\", \"Topic13\", \"Topic13\", \"Topic13\", \"Topic13\", \"Topic13\", \"Topic13\", \"Topic13\", \"Topic13\", \"Topic13\", \"Topic13\", \"Topic13\", \"Topic13\", \"Topic14\", \"Topic14\", \"Topic14\", \"Topic14\", \"Topic14\", \"Topic14\", \"Topic14\", \"Topic14\", \"Topic14\", \"Topic14\", \"Topic14\", \"Topic14\", \"Topic14\", \"Topic14\", \"Topic14\", \"Topic14\", \"Topic14\", \"Topic14\", \"Topic14\", \"Topic14\", \"Topic14\", \"Topic14\", \"Topic14\", \"Topic14\", \"Topic14\", \"Topic14\", \"Topic14\", \"Topic14\", \"Topic14\", \"Topic14\", \"Topic14\", \"Topic14\", \"Topic14\", \"Topic14\", \"Topic14\", \"Topic14\", \"Topic14\", \"Topic14\", \"Topic14\", \"Topic14\", \"Topic14\", \"Topic14\", \"Topic14\", \"Topic14\", \"Topic14\", \"Topic14\", \"Topic14\", \"Topic14\", \"Topic14\", \"Topic14\", \"Topic14\", \"Topic14\", \"Topic14\", \"Topic14\", \"Topic14\", \"Topic14\", \"Topic14\", \"Topic14\", \"Topic14\", \"Topic14\", \"Topic14\", \"Topic14\", \"Topic14\", \"Topic14\", \"Topic14\", \"Topic14\", \"Topic14\", \"Topic14\", \"Topic14\", \"Topic14\"], \"logprob\": [30.0, 29.0, 28.0, 27.0, 26.0, 25.0, 24.0, 23.0, 22.0, 21.0, 20.0, 19.0, 18.0, 17.0, 16.0, 15.0, 14.0, 13.0, 12.0, 11.0, 10.0, 9.0, 8.0, 7.0, 6.0, 5.0, 4.0, 3.0, 2.0, 1.0, -2.8179, -2.9852, -3.5772, -5.4267, -5.5094, -5.6241, -5.7447, -5.7775, -5.8265, -5.8425, -5.9458, -6.0301, -6.1333, -6.2054, -6.2781, -6.4581, -6.5166, -6.5601, -6.6084, -6.6942, -6.7157, -6.7404, -6.743, -6.8011, -6.8894, -3.6522, -6.2641, -7.0564, -5.6476, -7.0836, -2.3619, -5.4735, -4.9779, -5.6031, -4.9755, -6.2389, -5.45, -4.4722, -3.9322, -4.2038, -3.467, -5.504, -5.1221, -5.4192, -5.466, -4.7423, -5.1163, -4.1537, -4.5292, -4.5738, -4.8551, -4.9597, -5.2641, -5.5404, -5.5492, -5.2747, -5.4797, -5.7916, -5.8184, -5.9513, -6.0123, -6.0377, -6.0582, -6.0943, -6.2385, -6.2847, -6.2899, -6.4374, -6.4422, -6.4932, -6.5835, -6.5854, -6.7445, -6.8172, -6.8483, -6.8542, -6.9489, -6.9599, -6.991, -6.9913, -7.0095, -7.082, -7.091, -7.0998, -7.1064, -6.2843, -5.3759, -4.5935, -5.3117, -6.0166, -3.9573, -5.2425, -6.287, -4.4865, -5.8152, -5.9503, -5.7366, -5.3243, -5.0217, -6.2291, -4.689, -4.1274, -6.0356, -5.2792, -5.4226, -5.0594, -5.5022, -4.8265, -5.9195, -5.6883, -4.7312, -5.581, -5.5309, -5.5833, -5.6674, -5.7129, -5.6183, -5.5126, -5.4809, -5.5061, -5.6388, -5.6411, -5.69, -4.4956, -4.6136, -4.817, -5.4192, -5.4887, -5.781, -6.0797, -6.2673, -6.4115, -6.4147, -6.4764, -6.6004, -6.7497, -6.9291, -6.9375, -6.9523, -6.987, -7.0451, -7.0638, -7.1372, -3.5498, -7.2106, -7.2648, -7.3157, -6.7709, -7.389, -7.3964, -7.3998, -7.4028, -7.4655, -3.7174, -4.6196, -5.148, -6.2449, -4.7339, -6.4894, -2.8201, -6.2109, -5.2725, -4.896, -5.6607, -4.7013, -3.7946, -5.2033, -5.2867, -5.7035, -4.8918, -3.8169, -5.0832, -5.2114, -4.8436, -2.8873, -5.83, -5.5399, -4.9477, -5.1768, -4.862, -4.3779, -4.8386, -4.9544, -4.7976, -4.6979, -4.59, -5.0129, -4.8094, -4.9665, -4.3929, -4.807, -5.3379, -5.3506, -5.4979, -5.5116, -6.2216, -6.2745, -6.4105, -6.4692, -6.4824, -6.4884, -6.5572, -6.5657, -6.7254, -6.7261, -6.9418, -6.9822, -6.9863, -7.0341, -7.0416, -7.0762, -7.0949, -7.1049, -7.1176, -7.1488, -7.1592, -7.1679, -7.1889, -7.2092, -6.6523, -4.0004, -6.4136, -4.2358, -4.8784, -6.2555, -5.5951, -5.8462, -6.2604, -4.6345, -4.9459, -4.7921, -4.8341, -5.0861, -5.8, -4.5412, -5.4937, -5.37, -3.9582, -4.4209, -4.8334, -5.238, -4.2801, -6.1858, -5.1035, -5.8681, -4.9261, -4.8352, -5.4446, -4.921, -4.8887, -4.7723, -4.9498, -5.0681, -5.3484, -5.4534, -5.1541, -5.2347, -5.3098, -5.5562, -5.5707, -5.6006, -5.604, -5.7789, -5.9347, -5.9396, -6.1934, -6.2557, -6.3593, -6.3756, -6.4294, -6.4447, -6.4489, -6.5118, -6.5209, -6.5273, -6.5413, -6.5944, -6.6596, -6.6951, -6.7786, -6.8, -6.8126, -6.8208, -6.857, -6.8787, -4.9635, -5.3539, -5.175, -6.168, -6.1899, -5.6065, -4.6947, -5.853, -4.5645, -4.0647, -4.7316, -5.5306, -5.7132, -4.7755, -4.6442, -5.841, -3.5162, -3.766, -5.0965, -5.8789, -5.7429, -4.5484, -4.7969, -5.2419, -4.6944, -5.5429, -4.6579, -5.4427, -5.333, -5.4157, -5.082, -5.4964, -5.5356, -5.4758, -5.5222, -5.5138, -4.7468, -4.7569, -4.9433, -5.1411, -5.6149, -5.8874, -4.7799, -6.2026, -6.3407, -6.3767, -4.966, -6.4571, -6.4916, -6.495, -6.5476, -6.6212, -6.6535, -6.6892, -6.7085, -6.8021, -6.8044, -6.8123, -6.8307, -6.8353, -6.8632, -6.8804, -6.9381, -6.9572, -7.0133, -7.0205, -5.822, -5.237, -4.3957, -4.0227, -6.318, -6.342, -4.2692, -3.6922, -5.0859, -3.2341, -6.5985, -5.4766, -4.8577, -6.137, -5.6842, -5.1323, -6.1809, -4.7043, -5.3858, -5.6359, -5.1263, -5.2882, -4.6778, -5.2036, -5.6772, -5.3839, -5.3703, -5.4295, -5.2174, -5.5883, -5.6057, -5.5279, -5.5331, -5.5605, -5.1637, -5.241, -5.804, -6.0401, -6.1685, -6.2123, -6.2325, -6.339, -6.3915, -6.41, -6.4161, -6.4408, -6.4445, -6.4739, -6.5232, -6.5318, -6.55, -6.5957, -6.6233, -6.658, -6.659, -6.6642, -6.6721, -6.6929, -6.7046, -6.7697, -6.8152, -6.816, -6.8334, -6.8633, -5.0189, -4.3695, -3.3143, -4.4336, -4.566, -5.2054, -5.3214, -5.049, -4.6489, -5.9878, -5.0053, -6.1619, -5.4449, -5.5083, -4.6821, -4.0758, -5.7648, -4.6609, -5.9686, -4.2154, -4.9753, -4.5943, -4.9718, -5.533, -3.7789, -5.7316, -5.2258, -5.7432, -5.6995, -5.5512, -4.5505, -4.7544, -5.3135, -5.3393, -5.2681, -4.8047, -5.1543, -5.3522, -5.1776, -5.2887, -2.7004, -2.7133, -5.8064, -5.8321, -6.2221, -3.3089, -6.3955, -4.8844, -6.4478, -6.4742, -6.5209, -6.5253, -6.5567, -6.5967, -6.6749, -3.7328, -6.7818, -6.8626, -6.8806, -6.9205, -6.9402, -7.0008, -7.0079, -7.0085, -7.0407, -5.9836, -3.6996, -7.0991, -7.1236, -7.1453, -5.6324, -6.2466, -6.3555, -6.1255, -6.2807, -4.4603, -6.3753, -4.453, -5.7384, -3.8169, -4.0285, -5.6368, -4.6327, -5.7028, -5.9017, -4.3725, -4.9648, -5.6941, -3.8022, -6.0482, -4.95, -5.8553, -4.8782, -5.6632, -5.0542, -3.9761, -4.9382, -4.698, -5.0013, -5.5078, -5.0489, -5.5862, -5.6095, -5.6303, -5.6691, -4.7433, -4.9897, -5.0477, -5.1033, -5.1547, -5.2262, -5.2744, -5.5168, -5.6585, -5.731, -5.791, -5.9996, -6.0756, -4.7824, -6.2065, -6.2587, -6.3529, -6.3594, -6.3705, -6.3758, -6.3792, -6.4028, -6.5026, -6.515, -6.5212, -6.5503, -6.6088, -6.6284, -6.6633, -6.7006, -6.2911, -4.5331, -6.4069, -5.8222, -4.6258, -4.4273, -5.153, -4.6851, -6.1379, -5.4521, -4.2703, -5.674, -5.5217, -5.3393, -4.431, -5.2504, -4.563, -5.5831, -3.9036, -5.4743, -5.3541, -4.7139, -5.0741, -5.362, -5.1455, -5.3457, -5.5083, -5.2296, -5.2608, -5.1758, -5.4317, -3.4751, -3.9549, -4.5462, -4.7795, -4.8314, -5.0291, -5.0477, -5.18, -5.5211, -5.5718, -5.6009, -5.6614, -5.8757, -5.889, -5.9183, -5.9465, -5.9817, -6.0252, -6.0478, -6.0675, -3.4804, -6.1236, -6.169, -6.1755, -4.8398, -6.2078, -6.2391, -6.2495, -6.3377, -6.3394, -4.9387, -5.8411, -5.0134, -5.2438, -5.4439, -4.8871, -4.5059, -5.2275, -5.0908, -5.4758, -4.2977, -4.6821, -4.8076, -5.1444, -4.2519, -4.916, -5.6214, -4.9133, -4.3452, -4.7002, -5.0429, -4.9141, -4.8659, -4.9309, -4.5229, -4.8992, -4.9938, -5.0284, -5.1237, -5.144, -5.8765, -6.0051, -6.3246, -6.3472, -6.406, -6.4145, -6.4621, -6.4877, -6.556, -6.5685, -6.5792, -6.5814, -6.6708, -6.7054, -6.7372, -6.7427, -6.7481, -6.8, -6.8197, -6.8243, -6.8933, -6.9018, -6.9147, -6.9289, -4.434, -6.4314, -5.1775, -6.6034, -3.9016, -4.929, -5.7784, -4.8468, -5.0437, -5.681, -4.4719, -5.8054, -4.2315, -4.7906, -5.7748, -4.7954, -6.1328, -5.9462, -5.9755, -5.7422, -5.0918, -4.7768, -5.0004, -5.7772, -4.7795, -5.6956, -5.6181, -4.4217, -4.8092, -5.2287, -5.2306, -5.2855, -5.3165, -5.3867, -5.4623, -5.5267, -5.6074, -4.8632, -5.2392, -5.4076, -5.4123, -5.5241, -5.633, -5.633, -5.635, -5.9673, -5.9862, -6.016, -6.0748, -6.1351, -6.1987, -6.315, -6.3326, -6.3328, -6.2715, -6.3861, -6.4125, -6.4927, -6.5141, -6.5795, -6.5853, -6.6265, -6.6554, -6.6572, -6.6854, -6.7036, -6.7112, -5.782, -5.6616, -4.616, -6.3633, -4.9924, -5.9685, -3.8069, -5.4351, -5.5674, -5.1627, -5.4388, -4.6463, -4.4274, -5.6316, -4.815, -5.0035, -5.7217, -5.725, -5.4933, -5.3843, -5.4799, -5.4279, -5.4462, -5.4029, -5.3206, -5.2662, -4.4986, -5.1975, -5.3904, -5.1203, -5.1972, -5.5044, -5.472, -5.4537, -5.408, -3.6163, -4.5507, -4.9142, -5.2021, -5.503, -5.9685, -6.1424, -6.2514, -6.388, -6.4096, -6.4172, -6.5286, -6.6825, -6.9502, -7.0239, -7.065, -7.1408, -7.1952, -7.206, -7.2222, -6.1498, -7.2436, -7.3564, -7.3626, -7.3855, -6.7135, -7.499, -7.5166, -7.5382, -7.545, -5.8193, -6.2275, -5.75, -5.5055, -4.7602, -5.2576, -6.1045, -3.6343, -5.8135, -3.9044, -5.9015, -4.9601, -2.0149, -4.4748, -6.2255, -4.8758, -5.7659, -4.9342, -5.4392, -4.2356, -4.667, -5.3713, -5.2788, -4.7709, -3.988, -5.232, -4.2419, -4.7497, -5.1527, -4.9619, -5.0725, -4.9534, -5.2808, -4.9586, -5.2624, -5.2871, -5.1849, -5.2831, -4.3714, -4.5171, -4.569, -5.477, -5.6583, -6.1283, -6.1583, -6.2047, -6.2057, -6.3602, -6.3968, -6.4808, -6.5365, -6.6482, -6.6717, -6.7264, -6.736, -6.7391, -6.7716, -6.7765, -6.7816, -6.8058, -6.8167, -6.8863, -6.9402, -6.9486, -6.9692, -7.0604, -5.2379, -7.0778, -5.7118, -5.4187, -5.1723, -5.8059, -4.382, -5.6762, -5.2993, -6.1874, -6.4184, -5.9729, -4.9151, -5.9578, -4.8493, -5.4979, -5.2424, -4.8084, -4.262, -4.221, -4.9796, -5.0107, -5.7133, -5.5083, -4.509, -3.7648, -4.1918, -5.1836, -5.0108, -4.8621, -5.2113, -4.5659, -4.7164, -5.0144, -5.0564, -4.2715, -3.8405, -4.6391, -4.9026, -5.1894, -5.2052, -5.2133], \"loglift\": [30.0, 29.0, 28.0, 27.0, 26.0, 25.0, 24.0, 23.0, 22.0, 21.0, 20.0, 19.0, 18.0, 17.0, 16.0, 15.0, 14.0, 13.0, 12.0, 11.0, 10.0, 9.0, 8.0, 7.0, 6.0, 5.0, 4.0, 3.0, 2.0, 1.0, 2.2754, 2.2753, 2.2748, 2.2686, 2.268, 2.2671, 2.2659, 2.2656, 2.2651, 2.2649, 2.2637, 2.2627, 2.2612, 2.2601, 2.259, 2.2556, 2.2544, 2.2535, 2.2524, 2.2503, 2.2498, 2.2491, 2.2491, 2.2475, 2.2449, 2.2428, 2.2409, 2.2393, 2.2388, 2.2384, 2.2337, 2.2379, 2.2262, 2.2215, 2.1838, 2.2283, 2.1915, 2.1113, 2.0467, 1.9862, 1.8894, 2.129, 2.0595, 2.077, 2.0769, 1.8726, 1.9704, 1.6377, 1.7503, 1.704, 1.766, 1.6177, 1.3712, 1.1147, 0.8763, 2.6477, 2.6456, 2.6416, 2.6412, 2.639, 2.6379, 2.6374, 2.637, 2.6363, 2.6332, 2.6321, 2.6319, 2.6281, 2.6279, 2.6264, 2.6236, 2.6236, 2.6179, 2.6151, 2.6138, 2.6135, 2.6093, 2.6088, 2.6073, 2.6073, 2.6065, 2.6028, 2.6023, 2.6018, 2.6015, 2.5973, 2.5871, 2.5487, 2.5373, 2.5554, 2.3708, 2.4384, 2.5344, 2.2884, 2.4651, 2.4758, 2.4391, 2.3596, 2.1491, 2.515, 1.9463, 1.7385, 2.4342, 2.1037, 2.0437, 1.8273, 1.9862, 1.3903, 2.2877, 1.963, 0.6251, 1.7209, 1.4213, 1.3496, 1.5575, 1.6899, 1.1906, 0.4663, -0.1086, -0.4931, 0.8386, 0.6023, 0.5895, 2.5124, 2.5119, 2.511, 2.5069, 2.5062, 2.5029, 2.4984, 2.4948, 2.4916, 2.4915, 2.49, 2.4866, 2.4819, 2.4754, 2.475, 2.4744, 2.473, 2.4705, 2.4696, 2.4662, 2.4661, 2.4625, 2.4596, 2.4567, 2.4567, 2.4524, 2.4519, 2.4517, 2.4515, 2.4475, 2.4294, 2.4244, 2.4146, 2.4169, 2.3611, 2.4164, 2.205, 2.3887, 2.3043, 2.2646, 2.3339, 2.2377, 2.1276, 2.2807, 2.2786, 2.311, 2.116, 1.901, 2.1393, 2.1571, 1.9649, 1.0093, 2.2456, 2.1177, 1.8352, 1.923, 1.6776, 1.1973, 1.5, 1.5696, 1.2904, 1.138, 0.7823, 1.4812, 0.2036, 0.8759, 2.6432, 2.6413, 2.6374, 2.6373, 2.6357, 2.6356, 2.624, 2.6227, 2.6192, 2.6176, 2.6172, 2.617, 2.6149, 2.6147, 2.6092, 2.6091, 2.6002, 2.5984, 2.5982, 2.5958, 2.5955, 2.5937, 2.5927, 2.5922, 2.5915, 2.5898, 2.5892, 2.5887, 2.5875, 2.5864, 2.5816, 2.5084, 2.5614, 2.4556, 2.4815, 2.5502, 2.5033, 2.5106, 2.5379, 2.3786, 2.4, 2.323, 2.3213, 2.3313, 2.4201, 2.1681, 2.3429, 2.2809, 1.8151, 1.9263, 1.9683, 2.0867, 1.6175, 2.4895, 1.7882, 2.2832, 1.4709, 1.3524, 1.8896, 1.2982, 1.2576, 0.9689, 0.9075, 0.7332, 1.3067, 1.7541, 2.6877, 2.687, 2.6863, 2.6836, 2.6834, 2.683, 2.683, 2.6805, 2.6779, 2.6778, 2.6726, 2.6711, 2.6684, 2.668, 2.6665, 2.666, 2.6659, 2.664, 2.6637, 2.6635, 2.663, 2.6612, 2.6589, 2.6576, 2.6543, 2.6535, 2.6529, 2.6526, 2.651, 2.65, 2.644, 2.6454, 2.6285, 2.6453, 2.6344, 2.6093, 2.5637, 2.6071, 2.4977, 2.3486, 2.4198, 2.5252, 2.5394, 2.3286, 2.289, 2.5394, 2.0139, 2.0699, 2.3333, 2.5472, 2.4869, 1.7749, 1.8155, 1.9684, 1.3306, 2.2461, 1.1433, 1.9338, 1.2047, 1.473, -0.069, 1.7124, 1.7886, 0.8203, 1.0195, -0.1414, 2.4857, 2.4856, 2.4847, 2.4835, 2.4794, 2.476, 2.4726, 2.4708, 2.468, 2.4672, 2.4662, 2.4653, 2.4644, 2.4643, 2.4629, 2.4609, 2.4599, 2.4588, 2.4582, 2.4552, 2.4551, 2.4548, 2.4542, 2.454, 2.453, 2.4523, 2.4501, 2.4494, 2.4471, 2.4468, 2.446, 2.4366, 2.4247, 2.3969, 2.44, 2.4406, 2.3636, 2.2348, 2.3181, 2.1531, 2.4362, 2.2622, 2.1323, 2.3532, 2.2221, 2.0452, 2.324, 1.6559, 1.9239, 2.0155, 1.7197, 1.7607, 1.2197, 1.598, 1.9546, 1.6411, 1.6228, 1.5418, 0.9703, 1.753, 1.6465, 1.0098, 0.6132, 0.854, 2.6431, 2.6425, 2.6359, 2.6319, 2.6293, 2.6283, 2.6279, 2.6253, 2.6239, 2.6234, 2.6232, 2.6225, 2.6224, 2.6216, 2.6201, 2.6198, 2.6193, 2.6178, 2.6169, 2.6157, 2.6157, 2.6155, 2.6152, 2.6145, 2.614, 2.6116, 2.6098, 2.6097, 2.609, 2.6078, 2.603, 2.569, 2.5454, 2.5429, 2.5352, 2.5489, 2.5505, 2.5194, 2.4821, 2.5673, 2.4932, 2.574, 2.5012, 2.498, 2.3783, 2.2912, 2.5168, 2.3311, 2.5435, 2.1816, 2.3317, 2.244, 2.3102, 2.4344, 1.9622, 2.4415, 2.2374, 2.4433, 2.4169, 2.2298, 1.2228, 1.103, 1.8577, 1.8824, 1.6501, 0.5677, 1.0649, 1.7509, 0.7199, 1.2055, 2.7473, 2.7472, 2.7312, 2.7308, 2.7227, 2.7197, 2.718, 2.717, 2.7164, 2.7156, 2.714, 2.7139, 2.7128, 2.7114, 2.7085, 2.7062, 2.7041, 2.7005, 2.6997, 2.6978, 2.6968, 2.6937, 2.6933, 2.6933, 2.6915, 2.689, 2.6888, 2.6882, 2.6868, 2.6855, 2.6771, 2.6796, 2.6776, 2.648, 2.6539, 2.5232, 2.6277, 2.4094, 2.5254, 2.2081, 2.0595, 2.4228, 2.1319, 2.432, 2.4837, 1.9661, 2.0474, 2.338, 1.2108, 2.3907, 1.2934, 2.1859, 1.177, 1.9923, 1.2571, -0.0794, 1.0169, 0.327, 0.7615, 1.604, 0.5263, 0.9796, 0.6634, 0.2918, 0.5209, 2.9054, 2.9035, 2.903, 2.9025, 2.902, 2.9012, 2.9007, 2.8975, 2.8953, 2.894, 2.8929, 2.8885, 2.8866, 2.8846, 2.8831, 2.8816, 2.8786, 2.8784, 2.878, 2.8778, 2.8777, 2.8769, 2.8732, 2.8728, 2.8725, 2.8714, 2.869, 2.8681, 2.8666, 2.8649, 2.8534, 2.7825, 2.8526, 2.7992, 2.6522, 2.6109, 2.6766, 2.6052, 2.8133, 2.6252, 2.1883, 2.6428, 2.5615, 2.484, 2.1107, 2.3707, 2.0144, 2.5182, 1.4836, 2.3937, 2.243, 1.5054, 1.9012, 2.1218, 1.6985, 1.9695, 2.311, 1.1306, 0.6661, -0.5802, 1.1894, 2.9308, 2.9296, 2.9271, 2.9256, 2.9252, 2.9235, 2.9234, 2.922, 2.9177, 2.9169, 2.9165, 2.9154, 2.9113, 2.9111, 2.9104, 2.9098, 2.909, 2.9079, 2.9074, 2.9069, 2.9063, 2.9054, 2.9041, 2.9039, 2.9036, 2.903, 2.9021, 2.9018, 2.8989, 2.8989, 2.8744, 2.8701, 2.8024, 2.8202, 2.8305, 2.7719, 2.7224, 2.7941, 2.708, 2.7083, 2.2263, 2.3558, 2.3013, 2.3085, 1.5394, 2.0658, 2.6782, 2.0028, 1.3728, 1.66, 2.0709, 1.6331, 0.8752, 0.935, 2.7908, 2.7886, 2.7879, 2.7876, 2.7868, 2.7866, 2.7769, 2.7743, 2.7664, 2.7657, 2.7639, 2.7637, 2.7621, 2.7613, 2.7589, 2.7584, 2.758, 2.7579, 2.7545, 2.7531, 2.7517, 2.7515, 2.7512, 2.7489, 2.748, 2.7478, 2.7445, 2.7441, 2.7434, 2.7427, 2.7247, 2.7379, 2.7116, 2.7399, 2.656, 2.6617, 2.6809, 2.4765, 2.5031, 2.5939, 2.3316, 2.5839, 2.2386, 2.3548, 2.5614, 2.2461, 2.6042, 2.5012, 2.5143, 2.3967, 2.0557, 1.8689, 1.9775, 2.4048, 1.7863, 2.3181, 2.2519, 1.1535, 1.5022, 1.5358, 1.5007, 1.0289, 0.7716, 0.5355, -0.0899, 0.2745, -0.5944, 2.9151, 2.9116, 2.9095, 2.9095, 2.9079, 2.9062, 2.9062, 2.9061, 2.8996, 2.8992, 2.8985, 2.897, 2.8954, 2.8936, 2.8901, 2.8895, 2.8895, 2.8892, 2.8877, 2.8868, 2.8838, 2.883, 2.8804, 2.8801, 2.8784, 2.8771, 2.877, 2.8757, 2.8749, 2.8745, 2.87, 2.8473, 2.7444, 2.8551, 2.7272, 2.8157, 2.587, 2.7384, 2.744, 2.6797, 2.7073, 2.5639, 2.5109, 2.7344, 2.5257, 2.5589, 2.7182, 2.6996, 2.5325, 2.4071, 2.4481, 2.3802, 2.3504, 2.2417, 2.1352, 1.9431, 0.5144, 1.5518, 2.072, 0.7455, 0.9935, 2.3073, 2.1151, 1.8571, 0.8354, 2.3473, 2.3453, 2.3439, 2.3423, 2.3401, 2.3352, 2.3326, 2.3308, 2.3283, 2.3278, 2.3277, 2.3252, 2.3214, 2.3132, 2.3106, 2.309, 2.3059, 2.3036, 2.3031, 2.3024, 2.3015, 2.3014, 2.296, 2.2956, 2.2944, 2.289, 2.2881, 2.2871, 2.2858, 2.2854, 2.2852, 2.2849, 2.2713, 2.2637, 2.2107, 2.2176, 2.2495, 2.1285, 2.2311, 2.0898, 2.2172, 2.1445, 1.8818, 2.0337, 2.2216, 1.9972, 2.1082, 1.8982, 2.0108, 1.6218, 1.7602, 1.9611, 1.9028, 1.591, 1.025, 1.7539, 1.1304, 1.2248, 1.563, 1.3587, 1.4024, 1.0018, 1.4078, 0.7594, 1.0519, 1.009, -0.1598, 0.2921, 2.6201, 2.6196, 2.6193, 2.613, 2.6108, 2.6032, 2.6026, 2.6016, 2.6016, 2.5979, 2.597, 2.5947, 2.593, 2.5895, 2.5887, 2.5867, 2.5864, 2.5863, 2.5851, 2.5849, 2.5847, 2.5837, 2.5833, 2.5805, 2.5781, 2.5778, 2.5768, 2.5725, 2.5717, 2.5716, 2.5674, 2.5628, 2.5481, 2.561, 2.5189, 2.5504, 2.5243, 2.5588, 2.5675, 2.5439, 2.4419, 2.5128, 2.3817, 2.4472, 2.3808, 2.3149, 2.2259, 2.2018, 2.3204, 2.3155, 2.4453, 2.3784, 2.1032, 1.7652, 1.7827, 2.1855, 2.0933, 1.9909, 2.1609, 1.7547, 1.5797, 1.7945, 1.7828, 0.7415, 0.0561, 0.9361, 1.4593, 1.2239, 0.8501, 1.0301]}, \"token.table\": {\"Topic\": [1, 4, 9, 11, 4, 6, 7, 9, 10, 11, 6, 7, 9, 10, 11, 5, 9, 5, 2, 7, 9, 12, 3, 4, 6, 7, 10, 12, 13, 14, 2, 3, 8, 2, 3, 4, 5, 6, 7, 8, 9, 10, 11, 12, 13, 3, 4, 12, 13, 7, 5, 12, 4, 8, 7, 5, 12, 1, 2, 12, 14, 1, 2, 3, 5, 6, 8, 10, 11, 12, 13, 14, 2, 5, 4, 12, 3, 10, 12, 1, 2, 7, 9, 11, 13, 13, 11, 8, 9, 9, 5, 1, 2, 3, 7, 8, 14, 2, 11, 12, 13, 2, 3, 8, 12, 13, 14, 10, 2, 10, 1, 2, 4, 7, 10, 9, 10, 5, 11, 1, 2, 7, 11, 2, 14, 4, 10, 13, 4, 4, 1, 2, 4, 7, 8, 11, 7, 1, 2, 4, 6, 7, 8, 10, 12, 13, 14, 2, 4, 5, 6, 7, 4, 1, 2, 5, 6, 11, 12, 14, 3, 4, 5, 6, 7, 11, 1, 8, 8, 4, 9, 1, 8, 13, 1, 4, 6, 7, 11, 12, 14, 7, 2, 11, 8, 7, 11, 1, 4, 14, 8, 4, 6, 1, 2, 4, 5, 6, 7, 9, 10, 11, 12, 13, 5, 8, 12, 8, 14, 4, 7, 8, 12, 6, 14, 8, 1, 4, 7, 1, 2, 3, 4, 5, 6, 7, 8, 9, 10, 11, 12, 13, 14, 3, 7, 8, 14, 1, 4, 10, 1, 2, 3, 4, 5, 6, 7, 8, 9, 10, 11, 12, 13, 14, 8, 5, 3, 3, 1, 4, 1, 2, 3, 5, 8, 9, 11, 14, 5, 14, 4, 5, 7, 1, 2, 3, 4, 5, 6, 7, 8, 9, 10, 11, 1, 5, 6, 8, 9, 10, 11, 12, 13, 14, 4, 5, 6, 7, 8, 10, 12, 14, 2, 9, 3, 4, 5, 6, 8, 11, 13, 14, 1, 6, 1, 1, 2, 3, 4, 7, 10, 11, 13, 1, 3, 5, 6, 10, 14, 6, 4, 5, 12, 4, 6, 9, 1, 2, 5, 10, 14, 6, 9, 10, 3, 8, 11, 12, 14, 1, 4, 5, 7, 11, 14, 6, 8, 11, 5, 13, 10, 1, 2, 3, 7, 8, 10, 11, 13, 14, 3, 4, 5, 6, 7, 9, 10, 11, 13, 14, 2, 4, 11, 12, 13, 14, 2, 4, 5, 7, 11, 12, 13, 14, 5, 12, 3, 5, 6, 8, 9, 11, 13, 1, 3, 7, 11, 14, 3, 1, 2, 3, 4, 7, 10, 11, 12, 13, 14, 2, 8, 14, 1, 3, 9, 10, 10, 5, 1, 6, 2, 5, 9, 11, 13, 14, 4, 1, 8, 11, 6, 4, 2, 6, 5, 1, 9, 3, 4, 6, 10, 13, 1, 4, 9, 3, 4, 7, 11, 11, 5, 6, 1, 3, 8, 13, 14, 12, 6, 2, 3, 5, 8, 10, 11, 14, 1, 2, 3, 7, 13, 14, 1, 1, 2, 3, 4, 7, 8, 10, 11, 12, 13, 14, 1, 3, 4, 6, 7, 8, 10, 11, 14, 4, 5, 10, 12, 12, 1, 6, 14, 10, 2, 3, 6, 7, 11, 1, 2, 6, 7, 8, 11, 13, 14, 13, 6, 12, 8, 11, 5, 10, 3, 8, 13, 7, 5, 12, 1, 2, 3, 4, 5, 6, 8, 10, 12, 13, 14, 4, 6, 7, 9, 3, 1, 3, 4, 6, 9, 4, 6, 7, 9, 2, 3, 6, 8, 9, 10, 11, 4, 6, 7, 10, 12, 2, 3, 5, 8, 10, 14, 3, 4, 6, 7, 10, 13, 1, 8, 9, 11, 14, 4, 5, 12, 1, 9, 1, 4, 14, 10, 6, 11, 1, 3, 4, 6, 7, 10, 12, 13, 10, 13, 5, 4, 6, 10, 13, 4, 6, 7, 12, 5, 14, 14, 5, 3, 6, 10, 11, 1, 8, 13, 13, 12, 8, 6, 11, 2, 4, 4, 9, 2, 3, 8, 14, 1, 2, 3, 8, 14, 1, 8, 11, 3, 11, 13, 14, 3, 1, 2, 1, 1, 6, 14, 6, 2, 6, 9, 4, 6, 2, 14, 1, 2, 3, 4, 5, 6, 7, 8, 9, 10, 11, 12, 13, 14, 3, 8, 10, 11, 13, 14, 14, 4, 4, 2, 2, 2, 8, 5, 14, 8, 10, 14, 3, 7, 10, 3, 11, 1, 2, 3, 5, 8, 11, 13, 6, 1, 4, 6, 10, 11, 1, 2, 5, 9, 1, 3, 4, 5, 6, 7, 9, 11, 12, 13, 14, 1, 5, 6, 9, 10, 12, 10, 5, 6, 9, 8, 2, 3, 5, 4, 5, 6, 7, 12, 1, 2, 3, 4, 6, 8, 9, 10, 11, 12, 2, 5, 11, 14, 1, 2, 3, 4, 5, 7, 8, 9, 10, 11, 12, 3, 12, 2, 5, 8, 10, 11, 13, 14, 2, 4, 8, 12, 4, 12, 9, 9, 4, 10, 12, 9, 12, 12, 3, 13, 1, 4, 8, 9, 10, 12, 3, 2, 3, 5, 8, 9, 12, 14, 10, 1, 2, 3, 4, 5, 6, 7, 8, 9, 10, 11, 12, 13, 14, 12, 2, 7, 8, 10, 12, 13, 12, 10, 2, 4, 5, 7, 8, 9, 10, 11, 12, 13, 14, 3, 7, 8, 9, 10, 1, 3, 5, 8, 11, 13, 14, 2, 11, 14, 3, 14, 12, 1, 5, 6, 8, 9, 10, 12, 4, 7, 6, 3, 13, 10, 11, 14, 6, 1, 3, 6, 7, 8, 10, 1, 9, 10, 7, 4, 6, 4, 6, 7, 1, 2, 10, 2, 4, 5, 2, 3, 5, 7, 8, 9, 10, 11, 13, 14, 2, 7, 10, 2, 4, 5, 6, 8, 11, 14, 11, 11, 2, 7, 3, 9, 4, 4, 5, 6, 9, 12, 10, 6, 9, 10, 3, 13, 1, 9, 4, 6, 10, 2, 8, 9, 1, 2, 3, 5, 6, 8, 9, 11, 13, 14, 4, 1, 2, 3, 4, 5, 6, 7, 8, 9, 10, 11, 12, 13, 14, 7, 13, 1, 1, 2, 3, 4, 5, 6, 7, 8, 9, 10, 11, 12, 13, 14, 7, 3, 4, 5, 9, 12, 9, 11, 1, 2, 3, 4, 5, 6, 7, 8, 10, 11, 12, 13, 14, 11, 1, 4, 7, 13, 3, 4, 5, 7, 12, 1, 4, 5, 7, 8, 11, 12, 14, 3, 5, 14, 9, 12, 1, 4, 6, 7, 9, 6, 9, 12, 8, 13, 3, 11, 13, 14, 3, 11, 2, 4, 7, 11, 12, 13, 14, 3, 13, 2, 13, 13, 3, 13, 13, 14, 4, 7, 10, 7, 5, 6, 9, 12, 1, 2, 11, 3, 8, 8, 11, 1, 2, 6, 8, 9, 10, 11, 2, 14, 5, 2, 7, 2, 7, 7, 2, 6, 7, 9, 12, 13, 2, 11, 13, 5, 1, 3, 8, 13, 13, 4, 5, 7, 11, 2, 6, 7, 9, 10, 3, 6, 11, 8, 2, 4, 12, 9, 11, 1, 2, 3, 4, 5, 6, 8, 9, 11, 14, 1, 9, 1, 2, 3, 5, 6, 7, 8, 9, 10, 11, 12, 14, 6, 10, 8, 3, 5, 6, 9, 10, 11, 7, 9, 9, 14, 9, 6, 11, 11, 3, 11, 11, 3, 4, 5, 6, 7, 9, 10, 13, 4, 7, 12, 13, 4, 7, 7, 9, 10, 11, 2, 7, 9, 3, 8, 11, 3, 7, 11, 2, 1, 2, 4, 5, 6, 7, 8, 9, 11, 12, 13, 14, 1, 2, 3, 4, 6, 7, 8, 10, 11, 14, 1, 2, 3, 7, 8, 11, 12, 13, 14, 10, 3, 6, 8, 9, 11, 14, 3, 5, 10, 11, 1, 2, 3, 4, 5, 6, 7, 9, 10, 11, 12, 13, 14, 3, 4, 5, 6, 8, 10, 11, 12, 13, 6, 8, 1, 2, 3, 4, 5, 6, 7, 8, 9, 10, 12, 13, 14, 3, 10, 13, 2, 3, 7, 11, 13, 3, 5, 7, 8, 11, 13, 14, 3, 4, 5, 6, 7, 8, 10, 11, 12, 13, 14, 12, 1, 2, 3, 4, 5, 6, 7, 8, 9, 10, 11, 12, 13, 14, 1, 2, 4, 5, 6, 7, 9, 10, 11, 12, 13, 7, 8, 6, 9, 1, 4, 5, 6, 7, 9, 10, 12, 3, 8, 10, 11, 13, 10, 9, 9, 2, 5, 8, 14, 4, 9, 10, 3, 6, 7, 10, 7, 4, 1, 3, 7, 11, 9, 5, 3, 5, 9, 3, 8, 12, 13, 14, 1, 2, 3, 7, 9, 11, 14, 4, 1, 3, 13, 5, 8, 1, 6, 4, 7, 8, 2, 9, 1, 2, 13, 14, 1, 2, 3, 4, 5, 6, 9, 13, 14, 3, 7, 8, 11, 13, 14, 13, 4, 12, 2, 11, 13, 2, 3, 5, 14, 6, 12, 4, 12, 11, 2, 14, 4, 6, 7, 9, 10, 6, 12, 3, 8, 9, 11, 3, 8, 9, 11, 14, 4, 5, 4, 7, 13, 14, 4, 1, 2, 3, 6, 7, 8, 10, 11, 12, 13, 14, 12, 2, 2, 9, 13, 3, 8, 8, 6, 4, 1, 2, 7, 8, 10, 11, 14, 3, 13, 14, 3, 4, 5, 12, 8, 5, 2, 1, 2, 3, 7, 8, 10, 12, 13, 2, 1, 2, 3, 5, 6, 8, 10, 11, 12, 13, 14, 1, 9, 3, 7, 1, 2, 4, 5, 6, 7, 9, 10, 12, 13, 14, 4, 5, 6, 7, 9, 10, 11, 14, 1, 2, 4, 8, 9, 11, 13, 14, 13, 10, 3, 4, 5, 10, 12, 14, 3, 4, 13, 6, 7, 1, 2, 3, 5, 8, 9, 11, 13, 14, 6, 1, 4, 5, 6, 7, 9, 13, 3, 8, 11, 1, 2, 3, 4, 5, 8, 9, 11, 4, 12, 9, 13, 4, 5, 6, 7, 10, 14, 2, 8, 8, 1, 9, 1, 3, 14, 1, 2, 3, 4, 5, 6, 7, 8, 9, 11, 12, 13, 14, 1, 5, 8, 13, 14, 11, 4, 12, 9, 10, 3, 8, 9, 5, 11, 1, 2, 3, 4, 5, 6, 7, 8, 9, 10, 11, 12, 13, 14, 1, 2, 3, 4, 5, 6, 8, 9, 10, 11, 12, 10, 5, 2, 3, 8, 9, 11, 13, 14, 8, 11, 1, 2, 3, 6, 8, 10, 12, 3, 7, 11, 1, 2, 3, 8, 9, 11, 12, 14, 1, 2, 3, 8, 9, 11, 13, 14, 1, 3, 8, 9, 11, 13, 14, 1, 3, 8, 11, 13, 14, 11, 12, 13, 1, 2, 3, 4, 5, 6, 7, 8, 9, 10, 11, 12, 13, 14, 3, 3, 5, 6, 10, 14, 1, 2, 3, 5, 6, 8, 10, 11, 12, 14, 4, 6, 7, 10, 1, 1, 2, 7, 8, 9, 1, 9, 14, 10, 4, 5, 8, 14, 5, 3, 5, 8, 11, 4, 6, 6, 7, 7, 7, 9, 2, 5, 14, 1, 7, 11, 1, 7, 11, 5, 3, 4, 5, 7, 2, 3, 12, 13, 4, 6, 1, 2, 3, 6, 7, 8, 9, 10, 11, 13, 14, 6, 7, 8, 9, 10, 11, 12, 1, 7, 11, 14, 6, 4, 7, 9, 7, 1, 2, 3, 4, 5, 6, 8, 10, 14, 5, 6, 1, 4, 5, 6, 7, 9, 10, 12, 13, 14, 1, 3, 8, 14, 3, 14, 14, 2, 8, 14, 7, 8, 14, 1, 2, 3, 4, 5, 7, 8, 9, 10, 11, 12, 13, 14, 1, 9, 1, 1, 7, 8, 10, 11, 3, 5, 9, 3, 8, 13, 1, 3, 10, 11, 13, 14, 1, 2, 3, 4, 5, 6, 7, 8, 9, 10, 11, 12, 13, 14, 6, 3, 14, 8, 11, 1, 2, 3, 4, 5, 6, 7, 8, 9, 11, 14, 3, 1, 2, 3, 6, 7, 8, 10, 12, 13, 14, 14, 2, 3, 4, 5, 7, 8, 10, 11, 12, 13, 14, 13, 4, 5, 6, 13, 1, 10, 1, 3, 5, 7, 8, 10, 11, 12, 14, 2, 4, 7, 12, 13, 3, 4, 5, 14, 5, 10, 14, 1, 2, 3, 4, 5, 6, 7, 8, 9, 10, 13, 14, 5, 3, 5, 13, 14, 9, 3, 4, 7, 9, 11, 13, 4, 14, 1, 2, 3, 8, 2, 3, 4, 11, 12, 13, 3, 11, 12, 13, 3, 8, 10, 11, 12, 13, 2, 4, 12, 1, 6, 5, 6, 10, 12, 1, 2, 3, 8, 11, 13, 3, 14, 1, 3, 5, 6, 8, 14, 11, 1, 4, 7, 1, 2, 5, 6, 9, 10, 14, 3, 4, 5, 6, 7, 9, 11, 7, 1, 3, 4, 5, 6, 8, 9, 10, 12, 13, 14, 8, 12, 14, 4, 6, 7, 10, 7, 3, 4, 5, 5, 5, 7, 14, 3, 6, 7, 6, 4, 8, 1, 2, 3, 4, 6, 7, 8, 10, 11, 12, 13, 11, 1, 6, 9, 12, 6, 12, 3, 8, 9, 11, 3, 9, 11, 13, 14, 2, 9, 1, 4, 6, 7, 9, 10, 14, 6, 3, 1, 2, 3, 7, 12, 11, 2, 4, 5, 12, 4, 11, 12, 2, 4, 5, 6, 7, 8, 9, 10, 11, 12, 13, 14, 14, 13, 14, 9, 10, 1, 3, 5, 7, 9, 13, 10, 4, 6, 7, 9, 10, 8, 11, 1, 2, 7, 8, 11, 12, 13, 14, 6, 14, 4, 5, 13, 1, 7, 12, 7, 4, 3, 4, 7, 11, 13, 2, 4, 5, 12, 13, 14, 3, 11, 14, 5, 1, 7, 11, 1, 2, 5, 12, 13, 14, 7, 13, 1, 7, 8, 11, 13, 11, 7, 7, 9, 13, 1, 2, 3, 5, 8, 11, 12, 13, 14, 2, 3, 13, 1, 14, 14, 11, 1, 2, 4, 5, 7, 8, 10, 11, 13, 2, 4, 5, 12, 13, 14, 4, 7, 12, 12, 4, 7, 7, 5, 5, 3, 13, 3, 13, 1, 2, 6, 9, 2, 3, 8, 3, 2, 4, 14, 6, 7, 13, 14, 8, 9, 11, 2, 3, 8, 9, 11, 14, 10, 1, 2, 3, 6, 8, 9, 10, 11, 14, 12, 13, 2, 8, 14, 4, 7, 10, 12, 13, 3, 5, 12, 13, 14, 3, 4, 7, 10, 11, 13, 2, 11, 13, 1, 2, 9, 1, 5, 6, 7, 8, 9, 10, 11, 4, 6, 1, 5, 9, 11, 9, 11, 4, 2, 3, 4, 5, 6, 7, 8, 11, 12, 13, 14, 14, 8, 11, 1, 2, 10, 14, 3, 11, 13, 14, 1, 2, 7, 8, 12, 13, 14, 10, 3, 8, 13, 14, 3, 4, 7, 11, 13, 1, 8, 10, 7, 10, 5, 6, 9, 10, 1, 3, 8, 11, 13, 14, 13, 2, 9, 1, 3, 8, 9, 11, 1, 8, 1, 9, 9, 2, 9, 10, 2, 14, 3, 6, 7, 10, 12, 13, 1, 2, 4, 5, 6, 7, 8, 11, 1, 2, 3, 4, 5, 6, 7, 8, 9, 11, 12, 13, 14, 1, 2, 3, 5, 6, 7, 8, 11, 12, 13, 14, 3, 1, 3, 4, 7, 8, 12, 13, 14, 1, 4, 5, 6, 7, 9, 10, 11, 12, 13, 12, 6, 12, 14, 11, 1, 4, 5, 7, 9, 3, 1, 4, 6, 7, 9, 10, 11, 13, 1, 6, 11, 9, 1, 2, 3, 5, 6, 8, 9, 10, 12, 8, 12, 14, 6, 1, 1, 2, 4, 5, 6, 7, 9, 10, 11, 12, 14, 1, 3, 4, 5, 7, 13, 14, 1, 2, 4, 5, 6, 7, 8, 10, 12, 13, 14, 1, 5, 12, 14, 5, 2, 4], \"Freq\": [0.04914871135836386, 0.16382903786121286, 0.032765807572242574, 0.7372306703754579, 0.0612267013700489, 0.03061335068502445, 0.6612483747965281, 0.05510403123304401, 0.01836801041101467, 0.16531209369913202, 0.7985750392443925, 0.08066414537822147, 0.02419924361346644, 0.08066414537822147, 0.008066414537822147, 0.9813946947202399, 0.9490553111000813, 0.9722538288284958, 0.8041945241202526, 0.03350810517167719, 0.05026215775751579, 0.11727836810087018, 0.0033030517172078964, 0.15854648242597902, 0.4624272404091055, 0.04954577575811844, 0.07597018949578162, 0.02642441373766317, 0.1684556375776027, 0.05284882747532634, 0.17978630290974235, 0.0839002746912131, 0.7311309651662855, 0.06077968696072091, 0.012155937392144182, 0.09116953044108136, 0.030389843480360456, 0.1397932800096581, 0.018233906088216272, 0.012155937392144182, 0.024311874784288364, 0.012155937392144182, 0.09724749913715346, 0.45584765220540685, 0.042545780872504636, 0.0859764911412518, 0.11821767531922123, 0.677064867737358, 0.11821767531922123, 0.9706279217621594, 0.9856042844492058, 0.9686174917314575, 0.9625353174131892, 0.9607688945611643, 0.9829637199675109, 0.9478091733779862, 0.04243921671841729, 0.40400562926222805, 0.49229825022682094, 0.01605320381174416, 0.08561708699596886, 0.021312451649057904, 0.03729679038585133, 0.06393735494717372, 0.4049365813321002, 0.07459358077170267, 0.010656225824528952, 0.06393735494717372, 0.010656225824528952, 0.1598433873679343, 0.05860924203490924, 0.09590603242076057, 0.9322495272837003, 0.9523418497870946, 0.9911330914193522, 0.9840662280557985, 0.8333186135061285, 0.1562472400323991, 0.9697647828975708, 0.02232720371841871, 0.04465440743683742, 0.37063158172575056, 0.04911984818052116, 0.4778021595741604, 0.03125808520578619, 0.9706045651095324, 0.9818470567367081, 0.9566920899245646, 0.9649538455929687, 0.9354678999497164, 0.9925004399213386, 0.06669558685295215, 0.03334779342647608, 0.04446372456863477, 0.05557965571079346, 0.722535524240315, 0.06669558685295215, 0.9357705663368685, 0.025291096387482934, 0.9600738031686586, 0.9633148719906567, 0.06162268583336792, 0.7575965493631703, 0.010874591617653162, 0.05799782196081687, 0.09424646068632742, 0.01812431936275527, 0.9894271700969635, 0.04265608066134016, 0.9384337745494836, 0.9789499132735616, 0.9865685694867878, 0.07608654909727308, 0.9202849271765411, 0.9889495306666053, 0.8947691675048386, 0.08134265159134897, 0.9903854281032999, 0.9381809240578799, 0.05048393535013212, 0.05048393535013212, 0.8077429656021139, 0.07572590302519817, 0.02807024444961632, 0.9543883112869549, 0.9761289567269293, 0.979993648142534, 0.9717847592507609, 0.9547412076692865, 0.9704547489221645, 0.08387941485815226, 0.05932934221674185, 0.07569605731101546, 0.6976312308934127, 0.016366715094273614, 0.06751269976387865, 0.9856876829767512, 0.04689702994351421, 0.39080858286261844, 0.020843124419339647, 0.015632343314504735, 0.02605390552417456, 0.041686248838679295, 0.041686248838679295, 0.177166557564387, 0.0885832787821935, 0.1354803087257077, 0.9832266829164101, 0.8263304046204126, 0.016979391875761904, 0.10470624990053175, 0.05376807427324603, 0.9256561945144302, 0.9956567819828492, 0.10144179850127359, 0.09076371444850795, 0.026695210131914105, 0.010678084052765642, 0.026695210131914105, 0.7367877996408293, 0.6692930636232446, 0.0520561271706968, 0.12642202312883508, 0.03718294797906914, 0.04461953757488297, 0.05949271676651063, 0.9736802382743389, 0.9689603374987275, 0.971960963260905, 0.9933121507335533, 0.9538518043751564, 0.9835741146623468, 0.8852340262216416, 0.08566780898919113, 0.026682531454711507, 0.7382167035803517, 0.062259240060993516, 0.026682531454711507, 0.017788354303141005, 0.08004759436413453, 0.053365062909423014, 0.9656383745151632, 0.8317147302266507, 0.16634294604533012, 0.976399683768026, 0.9587651948122056, 0.949444556347554, 0.9992861388852861, 0.051408128438610735, 0.9459095632704375, 0.9861122657715403, 0.8678859480413289, 0.11970840662639019, 0.07833198238608038, 0.058748986789560295, 0.045040889871996226, 0.39753481060935797, 0.058748986789560295, 0.15666396477216077, 0.06658218502816833, 0.05091578855095225, 0.06462388546851633, 0.009791497798260048, 0.011749797357912059, 0.9586883043461963, 0.9499133595596227, 0.9740607861717717, 0.9472854810895768, 0.9954646498412276, 0.0832769898347774, 0.8744083932651626, 0.0416384949173887, 0.9480448197238861, 0.7629261325454639, 0.22887783976363918, 0.999414618587151, 0.08101842298300455, 0.7201637598489292, 0.18904298696034394, 0.058114510465340954, 0.014528627616335239, 0.19371503488446987, 0.08111817085787175, 0.023003660392530795, 0.09806823641026287, 0.10412183125040254, 0.06416810530548064, 0.04116444491294984, 0.05206091562520127, 0.07022170014562032, 0.04600732078506159, 0.11017542609054223, 0.04237516388097778, 0.9899576394024212, 0.973217616069358, 0.9728202546574862, 0.026253020365569344, 0.03597262512456651, 0.9352882532387293, 0.9755155538531546, 0.0036161199966775245, 0.12837225988205211, 0.00904029999169381, 0.01808059998338762, 0.027120899975081433, 0.054241799950162865, 0.03435313996843648, 0.2332397397857003, 0.01627253998504886, 0.00904029999169381, 0.10667553990198697, 0.1247561398853746, 0.10125135990697068, 0.13198837987872963, 0.9746105616244336, 0.9579483957874266, 0.9960177389956174, 0.9878371172034331, 0.1234480427332854, 0.8641362991329978, 0.026142382397189225, 0.04444205007522168, 0.2117532974172327, 0.05228476479437845, 0.04444205007522168, 0.02091390591775138, 0.007842714719156768, 0.5934320804161953, 0.8780635152554063, 0.1197359338984645, 0.9626414877980057, 0.9647269175915465, 0.9678286461397348, 0.6013971770824195, 0.05539184525759127, 0.0026377069170281557, 0.026377069170281556, 0.04220331067245049, 0.015826241502168933, 0.0052754138340563115, 0.015826241502168933, 0.17936407035791457, 0.013188534585140778, 0.04220331067245049, 0.09703338415944496, 0.06930956011388925, 0.09703338415944496, 0.01386191202277785, 0.04158573606833355, 0.04158573606833355, 0.04851669207972248, 0.4435811847288912, 0.1386191202277785, 0.01386191202277785, 0.4252637282018642, 0.2178180071277841, 0.02420200079197601, 0.15558429080556008, 0.017287143422840007, 0.013829714738272006, 0.13138229001358406, 0.013829714738272006, 0.9765656807068589, 0.9672691864747024, 0.06078544628799603, 0.20894997161498635, 0.04938817510899677, 0.018995451964998758, 0.04558908471599702, 0.02279454235799851, 0.550868106984964, 0.037990903929997516, 0.029476872499753393, 0.9432599199921086, 0.9603253228524992, 0.026773153577823203, 0.008454680077207326, 0.08454680077207327, 0.01127290676960977, 0.04790985377084152, 0.014091133462012212, 0.03522783365503053, 0.7721941137182692, 0.018701475893287127, 0.009350737946643563, 0.12155959330636633, 0.028052213839930694, 0.018701475893287127, 0.7854619875180594, 0.9858128804863994, 0.16014281908608527, 0.032028563817217054, 0.8007140954304264, 0.046079470913123075, 0.7134638079715223, 0.23961324874824, 0.016038428829523412, 0.8339982991352174, 0.08019214414761705, 0.016038428829523412, 0.04811528648857023, 0.055120270692692694, 0.027560135346346347, 0.9094844664294294, 0.07185012189274392, 0.07185012189274392, 0.05029508532492074, 0.0071850121892743915, 0.7831663286309087, 0.03274095777929901, 0.03683357750171139, 0.04092619722412376, 0.7612272683687019, 0.049111436668948516, 0.07775977472583515, 0.9445997227927512, 0.015113595564684019, 0.030227191129368038, 0.8580000118130713, 0.13789285904138646, 0.9858453540160176, 0.08540789707446769, 0.07657259737710896, 0.17670599394717454, 0.05006669828503278, 0.11485889606566345, 0.035341198789434904, 0.27389429061812054, 0.13841969525862005, 0.044176498486793635, 0.019413530737421407, 0.259435365309177, 0.01588379787607206, 0.08118385581103497, 0.20472450595826214, 0.2453164338637796, 0.007059465722698694, 0.04059192790551749, 0.10059738654845639, 0.026472996460120104, 0.7516734574127079, 0.033451436586429406, 0.053128752225505525, 0.02558051033079896, 0.04722555753378269, 0.08854792037584254, 0.5763320669432643, 0.08475471572695065, 0.062153458199763804, 0.03390188629078026, 0.04520251505437368, 0.062153458199763804, 0.07345408696335723, 0.062153458199763804, 0.9658937763077335, 0.9598662562273318, 0.25260264852254516, 0.5340741711619527, 0.05653487847885535, 0.03247748338147009, 0.014434437058431152, 0.020448785832777466, 0.08901236186032543, 0.04215872195100878, 0.02107936097550439, 0.8537141195079277, 0.07377776341426537, 0.9444665915410586, 0.9921872887485005, 0.03674781871128964, 0.06369621909956871, 0.2180370576869852, 0.014699127484515856, 0.12249272903763214, 0.27193385846354334, 0.007349563742257928, 0.1151431652953742, 0.07349563742257928, 0.07839534658408456, 0.8972147879300455, 0.07994983258782583, 0.022208286829951622, 0.9626027786468246, 0.05957790306963321, 0.08936685460444982, 0.8489851187422732, 0.9863342879397419, 0.9858805205681891, 0.976875667304363, 0.9505570647454756, 0.19240555889521258, 0.11116765625056726, 0.03420543269248223, 0.017102716346241116, 0.05130814903872335, 0.5900437139453185, 0.9828792645942995, 0.2379441339154057, 0.6597541894927158, 0.09734078205630232, 0.9574096107196475, 0.9301515519739045, 0.9853023548892557, 0.974158913578414, 0.9842488378453406, 0.23763232175364635, 0.7468444397971742, 0.036940025675870854, 0.08311505777070943, 0.04617503209483857, 0.036940025675870854, 0.7849755456122557, 0.14377685916168775, 0.07188842958084388, 0.7620173535569451, 0.05068790932155754, 0.11151340050742659, 0.8008689672806092, 0.02027516372862302, 0.9964046986037847, 0.9462911262868691, 0.965423453102067, 0.015396593726392271, 0.22160715239897188, 0.05916443881377704, 0.627108452339011, 0.07663697776170535, 0.9719961866741054, 0.9790989264091486, 0.02786592546700505, 0.039012295653807066, 0.18948829317563434, 0.039012295653807066, 0.016719555280203028, 0.04458548074720808, 0.6464894708345171, 0.8222198826254936, 0.046415638535310125, 0.046415638535310125, 0.026523222020177213, 0.033154027525221515, 0.019892416515132908, 0.9820721851104051, 0.0492920193295893, 0.2816686818833674, 0.12675090684751533, 0.008802146308855232, 0.026406438926565697, 0.10034446792094964, 0.003520858523542093, 0.045771160806047206, 0.07041717047084185, 0.18836593100950197, 0.09682360939740756, 0.31382255026027867, 0.008186675224181183, 0.26197360717379786, 0.008186675224181183, 0.1910224218975609, 0.013644458706968638, 0.04366226786229964, 0.14463126229386755, 0.016373350448362366, 0.7786637459382588, 0.05445201020547264, 0.05445201020547264, 0.10345881939039803, 0.9469609055129441, 0.015116216041715215, 0.04534864812514564, 0.9372053945863433, 0.9836129466003055, 0.17668765652011537, 0.04206848964764651, 0.04206848964764651, 0.6562684385032856, 0.07572328136576373, 0.012730836403491883, 0.23233776436372686, 0.006365418201745941, 0.006365418201745941, 0.0986639821270621, 0.07320230932007833, 0.13367378223666476, 0.436031146819597, 0.9292977265678726, 0.9968454316962203, 0.9923036141785988, 0.07499120879484376, 0.9186423077368362, 0.052125609127469906, 0.9469485658157033, 0.8182668619151331, 0.10626842362534196, 0.07438789653773938, 0.9791039296953152, 0.9523830713659763, 0.041862992147955004, 0.05322012730908426, 0.023283805697724362, 0.02661006365454213, 0.04989386935226649, 0.08980896483407967, 0.07317767504999084, 0.05322012730908426, 0.013305031827271064, 0.043241353438630954, 0.03991509548181319, 0.5322012730908425, 0.8448111080743569, 0.09386790089715077, 0.03865148860470914, 0.016564923687732488, 0.9706633335833624, 0.018356133091028282, 0.027534199636542425, 0.08260259890962728, 0.2753419963654242, 0.5965743254584192, 0.7219329125412368, 0.17724101445623178, 0.012968854716309642, 0.08213607986996106, 0.014874183004885952, 0.024790305008143252, 0.4313513071416926, 0.05453867101791516, 0.14874183004885952, 0.1388257080456022, 0.18840631806188873, 0.21631808080072967, 0.0852162136487723, 0.6653419757961837, 0.0065550933575978685, 0.02294282675159254, 0.05958607546289399, 0.013079870223562096, 0.25578412881632545, 0.5827808844053778, 0.01743982696474946, 0.07121262677272697, 0.012290190930104463, 0.17574973030049382, 0.09094741288277303, 0.2126203030908072, 0.024580381860208927, 0.48300450355310537, 0.5176514397133132, 0.030301547690535408, 0.4065457648480167, 0.042927192561591825, 0.986948451922118, 0.09438252935618466, 0.8494427642056619, 0.04044965543836485, 0.9718684761897965, 0.017354794217674937, 0.9491321571790255, 0.035153042858482426, 0.017576521429241213, 0.9907877422260181, 0.9930047012533657, 0.9232236473349515, 0.0012793585695989515, 0.006396792847994758, 0.35694104091810747, 0.2801795267421704, 0.1445675183646815, 0.04605690850556225, 0.015352302835187417, 0.14584687693428047, 0.9869706531105813, 0.9085459521112826, 0.9778689614770686, 0.054754750970832114, 0.021901900388332844, 0.021901900388332844, 0.8870269657274802, 0.19967044105847784, 0.05229463932483944, 0.04278652308395954, 0.6988465437046725, 0.09770284728883225, 0.9002619500185257, 0.9862689832069156, 0.9598099240911786, 0.03994093326934665, 0.14645008865427103, 0.059911399904019974, 0.7455640876944708, 0.9987289358571281, 0.03289369971647387, 0.9539172917777423, 0.9473438349642304, 0.9600280384432636, 0.972939308583649, 0.9747188738683845, 0.9525748258252105, 0.19576831831125102, 0.7961244944657542, 0.9143008080406031, 0.0703308313877387, 0.13523031964272988, 0.05201166140104996, 0.06761515982136494, 0.7385655918949093, 0.047941099030469635, 0.11767360671115273, 0.039224535570384245, 0.056657662490555025, 0.7321913306471726, 0.03418525992279968, 0.18801892957539826, 0.752075718301593, 0.08795183490028237, 0.7915665141025413, 0.058634556600188244, 0.058634556600188244, 0.9222426198486391, 0.9629607926932796, 0.028047401728930475, 0.999435569311925, 0.9870771211724904, 0.9668840178184666, 0.9603163716758985, 0.9875419227647211, 0.9741505353815918, 0.9620771431689771, 0.022906598646880407, 0.02235004520748889, 0.9610519439220223, 0.9626468101639414, 0.9338569147120128, 0.05028017251227627, 0.06890245862793415, 0.1936717756028419, 0.005586685834697363, 0.03538234361974996, 0.05028017251227627, 0.022346743338789454, 0.12476931697490777, 0.03352011500818418, 0.06517800140480257, 0.059591315570105205, 0.03910680084288154, 0.11545817391707884, 0.13408046003273671, 0.5409409790428492, 0.007483373227865503, 0.2106035036985006, 0.007483373227865503, 0.20418918378890158, 0.028864439593195512, 0.9265425096714117, 0.9456994674471194, 0.9534165618260942, 0.9692867363894984, 0.9245409444597682, 0.0570894510792451, 0.9277035800377329, 0.04153927241409004, 0.941556841386041, 0.9426570094776765, 0.041802971595462375, 0.01463104005841183, 0.9338974149005311, 0.9773791421026882, 0.9835154166947655, 0.9245466414910362, 0.9863569214474995, 0.04247131123863102, 0.0955604502869198, 0.07432479466760429, 0.04247131123863102, 0.04247131123863102, 0.6158340129601498, 0.07432479466760429, 0.9580191876423717, 0.051384722052076344, 0.025692361026038172, 0.09420532376213997, 0.7964631918071834, 0.025692361026038172, 0.18643823127626408, 0.05019490842053263, 0.1720968288703976, 0.5808267974375919, 0.0273596792168019, 0.08036905769935558, 0.273596792168019, 0.11456865672035796, 0.2188774337344152, 0.11114869681825773, 0.04616945867835321, 0.022229739363651545, 0.018809779461551306, 0.03761955892310261, 0.049589418580453445, 0.022352740570934043, 0.08128269298521469, 0.4348624074708986, 0.16866158794432048, 0.2804252907989907, 0.012192403947782204, 0.9739352689425952, 0.8417318456782165, 0.11075419022081795, 0.04430167608832718, 0.9184077292811551, 0.9817862583152788, 0.12830169621511256, 0.8660364494520099, 0.034330334899726964, 0.041959298210777395, 0.6980501429611149, 0.09536204138813044, 0.12587789463233218, 0.2913139726343904, 0.011349895037703521, 0.022699790075407043, 0.030266386767209393, 0.10593235368523288, 0.06431607188031996, 0.011349895037703521, 0.4199461163950303, 0.015133193383604696, 0.030266386767209393, 0.050301481889421185, 0.01676716062980706, 0.01676716062980706, 0.8886595133797743, 0.10295897472362495, 0.07810680841102581, 0.039053404205512905, 0.09585835577716804, 0.06035526104488358, 0.3692321852157584, 0.024852166312599122, 0.02840247578582757, 0.014201237892913785, 0.042603713678741356, 0.1455626884023663, 0.969043965301568, 0.9686981975165652, 0.07826787094174603, 0.061496184311371875, 0.0670867465214966, 0.011181124420249431, 0.11740180641261903, 0.02795281105062358, 0.6317335297440929, 0.04090204845547957, 0.05453606460730608, 0.8044069529577648, 0.09543811306278564, 0.9707284464097492, 0.971633614610091, 0.9749614630697662, 0.9640386120547323, 0.14364731210012405, 0.01657468985770662, 0.8342593895045666, 0.04020605881828743, 0.9448423822297545, 0.9714163858818795, 0.9596774707862789, 0.9749156337107454, 0.017288181201776068, 0.12101726841243247, 0.0259322718026641, 0.1815259026186487, 0.0777968154079923, 0.5791540702594983, 0.9487177489838327, 0.05986411181127971, 0.008552015973039959, 0.6927132938162367, 0.03848407187867981, 0.1026241916764795, 0.008552015973039959, 0.08979616771691956, 0.9975968319974157, 0.034270540287674185, 0.16221389069499115, 0.14622097189407654, 0.08453399937626299, 0.022847026858449457, 0.04112464834520903, 0.12565864772147203, 0.04340935103105397, 0.04112464834520903, 0.013708216115069675, 0.04797875640274386, 0.045694053716898914, 0.08910340474795289, 0.10052691817717761, 0.973314473070299, 0.9490144875255948, 0.45267837476575523, 0.2149079152928333, 0.06401512370424821, 0.09145017672035459, 0.17375533576867372, 0.9679673198758101, 0.9852583504656188, 0.0316738593993118, 0.014618704338143907, 0.18760670567284682, 0.041419662291407734, 0.04872901446047969, 0.44830693303641317, 0.017055155061167893, 0.04385611301443172, 0.0950215781979354, 0.056038366629551646, 0.014618704338143907, 0.9874760625833013, 0.7279826540889182, 0.10998299090552001, 0.03142371168729143, 0.13093213203038095, 0.03964148838372872, 0.12973578016493034, 0.666697759180892, 0.07567920509620937, 0.028830173369984523, 0.03964148838372872, 0.02162263002748839, 0.03167391798786545, 0.03959239748483182, 0.9264621011450646, 0.08779445208513446, 0.9042828564768849, 0.9433323139815195, 0.012888968629998752, 0.23629775821664378, 0.09022278040999127, 0.02148161438333125, 0.025777937259997503, 0.5327440367066151, 0.0773338117799925, 0.07298492271991322, 0.9123115339989153, 0.9839980034274836, 0.9068729161040555, 0.07773196423749047, 0.986018968814961, 0.9583170556193418, 0.9734361820915308, 0.9753881168238603, 0.10146315513260043, 0.11595789158011477, 0.5870368261243311, 0.1304526280276291, 0.03623684111878587, 0.028989472895028692, 0.9221285233366405, 0.007318480343941592, 0.06586632309547433, 0.9516253637390625, 0.9666196532371235, 0.9463092483384732, 0.7651344951176325, 0.04684496908883465, 0.18347612893126902, 0.9842853598171336, 0.11771694609530407, 0.8668247848836027, 0.15815507742143406, 0.013179589785119504, 0.8171345666774092, 0.057463907050988236, 0.26785595383444516, 0.010195209315497913, 0.016683069788996585, 0.1084399536284778, 0.023170930262495254, 0.009268372104998103, 0.19370897699446032, 0.1279035350489738, 0.18536744209996203, 0.07065976763624036, 0.14131953527248073, 0.7772574439986439, 0.5405285369383785, 0.049138957903488954, 0.153559243448403, 0.030711848689680597, 0.030711848689680597, 0.05528132764142508, 0.14127450397253075, 0.9619267922266822, 0.9474806083948432, 0.9544031931982131, 0.9608156330482694, 0.8775769519815003, 0.09538879912842395, 0.9690410723534043, 0.05205688799886136, 0.13881836799696362, 0.11278992399753295, 0.14749451599677385, 0.5379211759882341, 0.9670996953436989, 0.06699650732568428, 0.03349825366284214, 0.8932867643424571, 0.994895753834133, 0.9382423608463556, 0.11622701392395142, 0.876985650517088, 0.5087038408784843, 0.4107546541254842, 0.07899127963951619, 0.05333676793553997, 0.9067250549041795, 0.026668383967769986, 0.004345415771017379, 0.030417910397121658, 0.26724306991756885, 0.010863539427543449, 0.036936034053647725, 0.010863539427543449, 0.019554370969578207, 0.023899786740595588, 0.5562132186902246, 0.039108741939156415, 0.967851080605401, 0.04881562154130863, 0.10486318701466299, 0.06147152342238865, 0.10305520103165156, 0.12836700479381158, 0.039775691626251476, 0.05423957949034293, 0.003615971966022862, 0.05966353743937722, 0.027119789745171465, 0.018079859830114307, 0.010847915898068584, 0.13740693470886875, 0.20249443009728027, 0.02854221875305123, 0.9418932188506906, 0.9566623797476869, 0.032588758667098955, 0.0308735608425148, 0.058316726035861285, 0.12520944119464336, 0.025727967368762334, 0.06346231950961376, 0.03601915431626727, 0.04116474779001973, 0.06860791298336621, 0.03601915431626727, 0.008575989122920777, 0.14579181508965322, 0.14579181508965322, 0.18352616723050463, 0.9486046500318324, 0.08331348691566742, 0.02897860414457997, 0.1267813931325374, 0.0978027889879574, 0.6628855698072669, 0.9672576022552878, 0.9573168578240171, 0.010457382459638292, 0.03718180430093615, 0.08017326552389357, 0.14756528581934034, 0.21147151196157435, 0.05461077506699997, 0.09527837352114887, 0.016267039381659566, 0.01742897076606382, 0.08017326552389357, 0.051124980913787206, 0.14175562889731907, 0.056934637835808474, 0.986399507227605, 0.023570595846660464, 0.17677946884995346, 0.06835472795531534, 0.7306884712464743, 0.04250652684375996, 0.04250652684375996, 0.23803655032505577, 0.06801044295001593, 0.5950913758126395, 0.5651431831377787, 0.07485340174010313, 0.11602277269715985, 0.061754056435585084, 0.029941360696041253, 0.03181269573954383, 0.03555536582654899, 0.08421007695761602, 0.7680777259029082, 0.09036208540034214, 0.14683838877555597, 0.9688857860025406, 0.9895918471464181, 0.0376719872646694, 0.46820898457517685, 0.3498113103147873, 0.06996226206295747, 0.06996226206295747, 0.12081945496498621, 0.04530729561186982, 0.8306337528842801, 0.9663569307430212, 0.985301295415271, 0.05968870906197463, 0.029844354530987317, 0.9102528131951131, 0.9861553042024569, 0.09946955757761419, 0.8952260181985278, 0.5024968934738124, 0.051727621387010106, 0.1330138835665974, 0.0221689805944329, 0.051727621387010106, 0.1625725243591746, 0.0812862621795873, 0.9135843909666231, 0.0812075014192554, 0.9187746726790611, 0.9768293241282163, 0.9538956200761493, 0.17967764914768733, 0.8171054996954352, 0.9328913250727727, 0.9534606253244268, 0.15296454221845246, 0.7883557175874089, 0.04706601299029307, 0.9748756917134094, 0.07968216688982033, 0.1138316669854576, 0.7057563353098372, 0.10244850028691184, 0.0720411351879573, 0.8915090479509715, 0.027015425695483986, 0.05288693747865055, 0.9255214058763847, 0.9416462283315491, 0.02942644463536091, 0.13550633195594183, 0.04878227950413906, 0.47698228848491525, 0.021681013112950693, 0.1626075983471302, 0.06504303933885208, 0.08672405245180277, 0.06568440602594718, 0.93271856556845, 0.9850711441532353, 0.9286125468616023, 0.06056168783880015, 0.9453000355650056, 0.9710267130099398, 0.9788333059609755, 0.06761421002124735, 0.0811370520254968, 0.05409136801699787, 0.101421315031871, 0.6964263632188475, 0.9790952506924716, 0.909310458161192, 0.03711471257800784, 0.03711471257800784, 0.9782584285694212, 0.9659903637773334, 0.03538089593728054, 0.0825554238536546, 0.8727287664529201, 0.9517494626321612, 0.22475097055112775, 0.020431906413738887, 0.7100087478774263, 0.04086381282747777, 0.02885443173263145, 0.8425494065928383, 0.03462531807915774, 0.01154177269305258, 0.08079240885136806, 0.9819759375127141, 0.11824136689018211, 0.876377189891938, 0.9384040363989191, 0.13009157515005254, 0.032522893787513135, 0.8130723446878283, 0.03372305527535853, 0.9442455477100389, 0.018470535765372526, 0.050793973354774445, 0.030014620618730354, 0.023088169706715657, 0.07619096003216166, 0.023088169706715657, 0.027705803648058788, 0.04386752244275975, 0.03232343758940192, 0.6718657384654256, 0.9672656585535794, 0.03190190166733441, 0.07900702070505397, 0.019751755176263493, 0.011851053105758097, 0.15011333933960255, 0.4266379118072915, 0.03555315931727429, 0.07110631863454858, 0.03160280828202159, 0.019751755176263493, 0.09875877588131747, 0.015801404141010795, 0.039503510352526985, 0.18886364836853414, 0.7932273231478434, 0.9991808928706652, 0.008742354631010791, 0.06993883704808633, 0.16610473798920503, 0.5507683417536798, 0.13113531946516185, 0.06993883704808633, 0.9615025376035942, 0.9951583498635866, 0.9826509692679476, 0.9828388573475949, 0.9856961454681342, 0.9820092954245139, 0.014878928718553239, 0.9697441362343521, 0.9981251610410695, 0.9965410700113666, 0.9585080484489157, 0.9895256113858713, 0.30628141985860974, 0.2006671371487443, 0.0369649989484529, 0.0369649989484529, 0.39077284602650203, 0.01584214240647981, 0.010561428270986542, 0.3078057179462281, 0.6261527276029434, 0.021082583420974525, 0.04216516684194905, 0.1290021617929114, 0.8633221596910224, 0.34231373612434907, 0.6495183711077392, 0.9801573978253464, 0.9868766736312651, 0.7990593898262166, 0.1872795444905195, 0.9869456055300804, 0.05198128558915594, 0.07673427872684925, 0.868830059133035, 0.9293894702375272, 0.03574574885528951, 0.9751992514913357, 0.9598513422062712, 0.033992382928174796, 0.07844396060348029, 0.09413275272417634, 0.41575299119844555, 0.041836778988522824, 0.07582916191669761, 0.033992382928174796, 0.05229597373565353, 0.07059956454313226, 0.03922198030174014, 0.031377584241392115, 0.033992382928174796, 0.07160750295345786, 0.05276342322886369, 0.0753763188983767, 0.0866827667331332, 0.00753763188983767, 0.08291395078821437, 0.1507526377967534, 0.01507526377967534, 0.4409514655555037, 0.018844079724594176, 0.06489059889177458, 0.14974753590409517, 0.1747054585547777, 0.0424284685061603, 0.1697138740246412, 0.3643856706999649, 0.004991584530136506, 0.012478961325341265, 0.014974753590409517, 0.9954770278060674, 0.02661961729754708, 0.06388708151411299, 0.09583062227116948, 0.02661961729754708, 0.7293775139527899, 0.05856315805460357, 0.01818067033337625, 0.3999747473342775, 0.53329966311237, 0.04242156411121125, 0.01312631377775908, 0.10665129944429252, 0.054146044333256205, 0.24939996177742252, 0.044301308999936895, 0.1525933976664493, 0.11157366711095218, 0.03609736288883747, 0.01312631377775908, 0.054146044333256205, 0.03937894133327724, 0.10829208866651241, 0.01640789222219885, 0.05872553167330076, 0.1321324462649267, 0.10276968042827633, 0.03670345729581297, 0.02936276583665038, 0.044044148754975566, 0.022022074377487783, 0.506507710682219, 0.07340691459162595, 0.9567105452698583, 0.9637462015119564, 0.01900005629047211, 0.03325009850832619, 0.11400033774283265, 0.028500084435708162, 0.1235003658880687, 0.03800011258094422, 0.023750070363090136, 0.004750014072618027, 0.04750014072618027, 0.023750070363090136, 0.37525111173682413, 0.10925032367021463, 0.057000168871416325, 0.29610556817628314, 0.560199723576752, 0.140049930894188, 0.05084397091428389, 0.8558735103904453, 0.04236997576190324, 0.008473995152380648, 0.038132978185712915, 0.7325160311399208, 0.037427826408609095, 0.01229771439140013, 0.08875741691184443, 0.01924859643871325, 0.0812718516301226, 0.02780352818925247, 0.3554668609072273, 0.032526379429419494, 0.044142943511355025, 0.011616564081935532, 0.23465459445509776, 0.04181963069496792, 0.07434601012438741, 0.004646625632774213, 0.07666932294077451, 0.037173005062193704, 0.08363926138993584, 0.9670574580272625, 0.24727649353361136, 0.04555093301934946, 0.008676368194161803, 0.17352736388323606, 0.043381840970809014, 0.052058209164970816, 0.010845460242702254, 0.03687456482518766, 0.008676368194161803, 0.06724185350475397, 0.06507276145621352, 0.06724185350475397, 0.039043656873728114, 0.13448370700950793, 0.030611451369489798, 0.015305725684744899, 0.16071011968982143, 0.11096651121440052, 0.4209074563304847, 0.061222902738979595, 0.11096651121440052, 0.026785019948303575, 0.02295858852711735, 0.042090745633048474, 0.955294409160135, 0.42564730704938525, 0.5675297427325137, 0.09747650738769427, 0.8967838679667872, 0.039390355259869586, 0.18710418748438054, 0.037202002189876834, 0.04814376753984061, 0.5022270295633372, 0.01313011841995653, 0.12801865459457618, 0.04486123793485147, 0.38779694458187397, 0.043088549397985995, 0.4931245097769509, 0.043088549397985995, 0.028725699598657332, 0.9904120002658626, 0.9870349609842388, 0.9707115850579708, 0.03397804305939089, 0.053394067664757114, 0.12620415993488046, 0.786348996517332, 0.9953273615261004, 0.02430826707769205, 0.972330683107682, 0.7781431869107681, 0.12215038399180661, 0.06786132443989257, 0.027144529775957025, 0.9772045388064486, 0.9621565426888472, 0.02705274559025717, 0.9062669772736152, 0.06763186397564291, 0.936551379934585, 0.9522367612155526, 0.9874862723011196, 0.07123541149045466, 0.15264731033668855, 0.773413039039222, 0.6882354321346458, 0.14438505569258303, 0.009625670379505536, 0.08181819822579706, 0.07700536303604429, 0.0772606066110053, 0.06695919239620458, 0.04120565685920282, 0.015452121322201058, 0.7365511163582504, 0.056657778181403884, 0.010301414214800705, 0.9946937869124342, 0.9912130020957941, 0.06419089813759186, 0.930768022995082, 0.9713632218899498, 0.9722692910071944, 0.9824800831573031, 0.9897869688011641, 0.03276890899634323, 0.9011449973994388, 0.05734559074360065, 0.022521389925283138, 0.9759268967622693, 0.06851117985916924, 0.80690945167466, 0.06089882654148377, 0.06851117985916924, 0.05717555238242199, 0.04002288666769539, 0.08957503206579445, 0.017152665714726595, 0.15246813968645864, 0.005717555238242199, 0.02477607269904953, 0.26110168921306043, 0.35258257302493556, 0.29409150409096785, 0.023217750322971145, 0.5030512569977081, 0.13156725183016982, 0.020122050279908328, 0.026313450366033966, 0.9860520963648501, 0.9162547058087622, 0.05553058823083407, 0.9726954138015256, 0.9346471153891985, 0.9839111122360482, 0.02142970317984156, 0.02571564381580987, 0.7071802049347715, 0.24644158656817794, 0.9474303364404323, 0.9646179339451809, 0.866718329556847, 0.12711868833500423, 0.9934270670991288, 0.9680971835217851, 0.9459900203464356, 0.731137483721802, 0.09943469778616507, 0.13452929700481156, 0.029245499348872078, 0.960424666626382, 0.9584852059635331, 0.02738529159895809, 0.15595477160704085, 0.15595477160704085, 0.04455850617344024, 0.6416424888975395, 0.17551093007175808, 0.4953308470914061, 0.04680291468580215, 0.19891238741465916, 0.08190510070015376, 0.8699526437862868, 0.12731014299311513, 0.09784984242881944, 0.8957024037715011, 0.9144362078010775, 0.9619893061895459, 0.9935427488199571, 0.08753269706600546, 0.08510123325861642, 0.4328005577152492, 0.03404049330344657, 0.014588782844334245, 0.05835513137733698, 0.019451710459112325, 0.11184733513989586, 0.017020246651723286, 0.046197812340391775, 0.09482708848817259, 0.964651918230926, 0.9823967818170583, 0.016377119357131688, 0.08188559678565845, 0.8843644452851112, 0.06809442585027725, 0.9079256780036967, 0.9685579441378649, 0.9929074660967284, 0.9806863434364814, 0.06497304100787446, 0.016243260251968615, 0.016243260251968615, 0.6984601908346504, 0.09745956151181169, 0.016243260251968615, 0.06497304100787446, 0.07859425280029754, 0.8720219477366346, 0.04865358506685085, 0.7866121168868093, 0.03390569469339695, 0.17630961240566417, 0.9541625967590905, 0.9509340619895047, 0.965637065043197, 0.987446535196469, 0.0900650019192645, 0.27019500575779354, 0.2990158063719582, 0.19093780406884076, 0.028820800614164643, 0.014410400307082322, 0.021615600460623483, 0.07925720168895277, 0.985336283046825, 0.10727968892678395, 0.023195608416601936, 0.09858133577055822, 0.023195608416601936, 0.040592314729053385, 0.020296157364526692, 0.020296157364526692, 0.04639121683320387, 0.03189396157282766, 0.455213815175813, 0.12757584629131064, 0.9892635465572333, 0.9548318787870916, 0.10658629157896102, 0.8910613976001142, 0.018051991258579612, 0.026075098484614992, 0.4874037639816495, 0.044127089743194604, 0.06017330419526537, 0.12034660839053074, 0.06217908100177422, 0.020057768065088456, 0.07421374184082728, 0.0702021882278096, 0.018051991258579612, 0.03803952098158056, 0.48500389251515214, 0.03328458085888299, 0.05705928147237084, 0.07607904196316112, 0.1426482036809271, 0.1283833833128344, 0.03803952098158056, 0.13027756535286053, 0.3329315559017547, 0.03377566509148236, 0.06272623516989581, 0.14475285039206726, 0.10132699527444708, 0.053076045143757994, 0.13992775537899835, 0.993780543516146, 0.9903325083171169, 0.19576482058253358, 0.05505885578883757, 0.12847066350728767, 0.0061176506432041745, 0.42823554502429223, 0.18352951929612524, 0.05819993085401576, 0.01662855167257593, 0.9145703419916762, 0.9764606785002455, 0.9579940100270731, 0.033161986264344134, 0.06356047367332626, 0.0497429793965162, 0.016580993132172067, 0.0248714896982581, 0.01243574484912905, 0.04283423225811117, 0.32471111550503634, 0.43110582143647375, 0.9405425305125874, 0.9860183885349593, 0.57044960605132, 0.06930696148287066, 0.04265043783561271, 0.06930696148287066, 0.18659566553080562, 0.05864435202396748, 0.10831118142893068, 0.20458778714353573, 0.6739362400022353, 0.15876829335302603, 0.034021777147077006, 0.07711602820004121, 0.03175365867060521, 0.038558014100020604, 0.054434843435323205, 0.03175365867060521, 0.5738339745473655, 0.20575947570854045, 0.7872536461891982, 0.9902430606410229, 0.9974987949075327, 0.08003782116569509, 0.0670587150307175, 0.09085374294484308, 0.02812139662578476, 0.07787463680986549, 0.6554448598163679, 0.9828265645297685, 0.9691734188374533, 0.918886283844654, 0.9862202597756978, 0.9865140820925058, 0.9962670149231778, 0.044173827954574904, 0.9276503870460729, 0.049183891935707005, 0.0628040466255951, 0.1763053357079959, 0.02724030937977619, 0.05826399506229907, 0.007566752605493386, 0.12485141799064087, 0.0007566752605493386, 0.04388716511186164, 0.055993969280651056, 0.019673556774282803, 0.2958600268747914, 0.07718087657603254, 0.08203015731865561, 0.10351424614020827, 0.023437187805330176, 0.3710888069177278, 0.41991628151216565, 0.9543329975899182, 0.15728962323312157, 0.8293452861382773, 0.9540101377285578, 0.03289690130098475, 0.021090982653603426, 0.9701852020657575, 0.9839566039007138, 0.9661741726900944, 0.9932626424734241, 0.06441194043383171, 0.08688122198051718, 0.11833821614587685, 0.0029959042062247306, 0.050930371505820415, 0.03595085047469677, 0.016477473134236018, 0.20821534233261876, 0.023967233649797845, 0.03894675468092149, 0.05392627571204515, 0.04793446729959569, 0.08238736567118009, 0.16926858765169728, 0.10274565077381267, 0.05314430212438587, 0.02834362779967246, 0.035429534749590576, 0.04605839517446775, 0.24092083629721592, 0.017714767374795288, 0.02834362779967246, 0.3932678357204554, 0.017714767374795288, 0.031886581274631516, 0.9935321431584427, 0.9710394266080603, 0.023862063072135353, 0.36190795659405284, 0.45735620888259426, 0.009942526280056397, 0.10936778908062036, 0.025850568328146632, 0.011931031536067676, 0.769910638019668, 0.215574978645507, 0.20721980476908627, 0.5086304298877572, 0.05023510418644516, 0.08791143232627903, 0.06279388023305645, 0.07535265627966774, 0.9522015676578228, 0.0726811600304606, 0.8992753698684108, 0.027101449502883613, 0.1325753349665679, 0.38043356990406435, 0.0576414499854643, 0.12104704496947503, 0.06916973998255715, 0.12104704496947503, 0.02305657999418572, 0.09799046497528931, 0.15481736700022863, 0.04838042718757145, 0.15481736700022863, 0.2244851821503315, 0.015481736700022864, 0.2748008264254058, 0.04644521010006859, 0.08127911767512003, 0.2068280969773302, 0.18959242222921935, 0.31885998284005074, 0.008617837374055425, 0.15081215404596995, 0.025853512122166276, 0.1034140484886651, 0.7353696716946903, 0.016808449638735776, 0.09664858542273072, 0.04202112409683944, 0.07143591096462705, 0.02941478686778761, 0.9666588399692064, 0.9876994126808235, 0.9965473540801766, 0.12526541575931766, 0.013185833237822912, 0.03626104140401301, 0.026371666475645823, 0.006592916618911456, 0.0824114577363932, 0.01977874985673437, 0.20438041518625513, 0.2966812478510155, 0.023075208166190096, 0.01977874985673437, 0.032964583094557284, 0.01977874985673437, 0.09230083266476038, 0.9535146293935282, 0.04341015502037084, 0.5058611942169745, 0.010631058372335717, 0.015946587558503575, 0.4234704918313727, 0.11008422825806424, 0.4368967808991925, 0.020640792798387046, 0.024080924931451555, 0.05160198199596761, 0.13072502105645128, 0.05848224626209663, 0.0928835675927417, 0.04128158559677409, 0.03096118919758057, 0.6945215983203844, 0.19495343110747634, 0.09747671555373817, 0.9958203180887318, 0.9950460956871404, 0.7952234247200107, 0.1124137825520434, 0.04857385665829036, 0.029144313994974216, 0.015266069235462684, 0.9127448511468517, 0.08585223847420881, 0.9806941221738515, 0.9697620701056047, 0.1424294138021921, 0.3750641230124392, 0.014242941380219209, 0.4700170655472339, 0.9558489775851194, 0.07051428107638867, 0.10745033306878272, 0.7118584565806856, 0.10745033306878272, 0.08625668660831606, 0.9100080437177345, 0.9965257520495813, 0.9928749048504881, 0.9710018541517896, 0.9740890615549538, 0.9874231916062606, 0.9885139428031947, 0.9125496990922285, 0.06636725084307116, 0.034400724352740414, 0.7262375141134088, 0.23698276776332286, 0.040811477070657645, 0.8774467570191394, 0.08162295414131529, 0.9907637709762275, 0.9139600706988709, 0.020131279090283498, 0.044288813998623694, 0.020131279090283498, 0.9784161903259438, 0.06500233462982415, 0.6716907911748495, 0.2600093385192966, 0.06116926535383871, 0.9368555904193192, 0.11276569370716283, 0.06014170331048684, 0.11276569370716283, 0.04134742102595971, 0.01879428228452714, 0.06014170331048684, 0.3646090763198265, 0.01879428228452714, 0.09773026787954113, 0.06014170331048684, 0.05262399039667599, 0.13794989236035743, 0.036786637962761985, 0.07357327592552397, 0.11035991388828595, 0.06437661643483347, 0.5793895479135012, 0.9863961891976636, 0.8226641169033945, 0.08859459720498095, 0.025312742058565985, 0.06328185514641496, 0.9782569720024571, 0.09214027501407598, 0.9029746951379447, 0.9883206998220379, 0.9575976242069486, 0.05194872186824104, 0.08905495177412749, 0.09647619775530478, 0.02968498392470916, 0.11131868971765936, 0.037106229905886454, 0.4675384968141693, 0.08163370579295019, 0.02968498392470916, 0.9449219384903682, 0.023623048462259204, 0.06381506311542395, 0.018232875175835415, 0.018232875175835415, 0.018232875175835415, 0.025070203366773697, 0.03418664095469141, 0.11623457924595078, 0.1276301262308479, 0.38744859748650257, 0.18916607994929244, 0.07931629677826685, 0.009914537097283356, 0.05948722258370013, 0.8427356532690852, 0.9309383932834858, 0.9560956338943195, 0.9649110030799918, 0.8811018819167103, 0.04762712875225461, 0.04762712875225461, 0.9587208539386587, 0.9602769278792975, 0.9722379895828592, 0.07181554096082873, 0.10481187059147978, 0.031055369064142156, 0.015527684532071078, 0.01746864509857996, 0.14557204248816635, 0.015527684532071078, 0.007763842266035539, 0.027173447931124386, 0.17080452985278186, 0.027173447931124386, 0.2736754398777527, 0.09122514662591759, 0.9653363334616365, 0.031393051494687366, 0.981518301809074, 0.0413617936008224, 0.055149058134429864, 0.055149058134429864, 0.027574529067214932, 0.8134486074828405, 0.7876888825312655, 0.19379647109896211, 0.012502998135416912, 0.9175851916627495, 0.04596133339276742, 0.0361124762371744, 0.6685098252987369, 0.0209728572642741, 0.01048642863213705, 0.03932410737051394, 0.1966205368525697, 0.06816178610889083, 0.0772344236666467, 0.04719881446295076, 0.07508902300923985, 0.04934421512035762, 0.021454006574068527, 0.1952314598240236, 0.012872403944441117, 0.01501780460184797, 0.03218100986110279, 0.14588724470366599, 0.06436201972220558, 0.0772344236666467, 0.08796142695368096, 0.09654302958330838, 0.9530222351094272, 0.924496406571813, 0.9638521865576847, 0.9439782312081999, 0.04104253179166087, 0.08921313109668423, 0.11354398503214358, 0.0648822771612249, 0.02973771036556141, 0.04055142322576556, 0.03784799501071452, 0.07839941823648008, 0.0648822771612249, 0.0432548514408166, 0.3947005193974515, 0.03784799501071452, 0.9850020024835858, 0.012212872385186589, 0.04274505334815306, 0.08345462796544169, 0.0325676596938309, 0.010177393654322157, 0.008141914923457725, 0.018319308577779882, 0.012212872385186589, 0.46816010809881925, 0.31142824582225803, 0.9938497341137622, 0.1354562700260199, 0.10723621377059908, 0.01975403937879457, 0.028220056255420813, 0.02539805062987873, 0.08183816314072036, 0.011288022502168324, 0.031042061880962892, 0.033864067506504975, 0.3894367763248072, 0.1354562700260199, 0.962191877737249, 0.06671832636033265, 0.040030995816199594, 0.880681907956391, 0.01334366527206653, 0.9687016367371312, 0.9839179677257097, 0.017046147312938888, 0.6779121662145696, 0.032781052524882476, 0.015734905211943588, 0.08523073656469443, 0.028847326221896577, 0.10489936807962393, 0.014423663110948289, 0.022291115716920083, 0.7405882634285251, 0.03817465275404769, 0.05344451385566676, 0.045809583304857224, 0.12215888881295259, 0.963511565019944, 0.0477677950957024, 0.9314720043661967, 0.9760953738215663, 0.8200089438239443, 0.036900402472077494, 0.14350156516919024, 0.034471941078916914, 0.05515510572626706, 0.09307424091307567, 0.17925409361036795, 0.2930114991707938, 0.051707911618375374, 0.06204949394205045, 0.02068316464735015, 0.013788776431566766, 0.017235970539458457, 0.06204949394205045, 0.11375740556042582, 0.940836631977879, 0.03854278437598085, 0.0440488964296924, 0.08259168080567324, 0.8314229201104439, 0.9783568942154226, 0.11434845041196526, 0.12555908280529518, 0.06950592083864555, 0.48429931939185283, 0.08520080618930745, 0.11883270336929723, 0.9628010313421711, 0.9666500573887646, 0.038655269688728504, 0.695794854397113, 0.12885089896242835, 0.14173598885867117, 0.29018942832872613, 0.10285194928106749, 0.05509925854342901, 0.011019851708685802, 0.11387180098975329, 0.42242764883295575, 0.08754047849487961, 0.8316345457013563, 0.04377023924743981, 0.04377023924743981, 0.6717971302752994, 0.03883220406215603, 0.1087301713740369, 0.10484695096782129, 0.019416102031078016, 0.05436508568701845, 0.31617635888192785, 0.1110889909585152, 0.5639902617893848, 0.13882294216357424, 0.8502905207518922, 0.0966252598735485, 0.6395671963058687, 0.17024450549149023, 0.0874228541713058, 0.09862722126305982, 0.08590112819685856, 0.5758557112456074, 0.028633709398952854, 0.19089139599301902, 0.0190891395993019, 0.1472915176394122, 0.8346519332900024, 0.9695690701502899, 0.04034834617438106, 0.7576522781633777, 0.053797794899174745, 0.0313820470245186, 0.11207873937328071, 0.9456245895189638, 0.9950056824593996, 0.08739121656209997, 0.8913904089334197, 0.01575435040005652, 0.11553190293374781, 0.16279495413391737, 0.5671566144020347, 0.03150870080011304, 0.08927465226698694, 0.02100580053340869, 0.019237705554391304, 0.13947336526933696, 0.06252254305177174, 0.16832992360092391, 0.46170493330539125, 0.07214139582896739, 0.07214139582896739, 0.9768162405055344, 0.036399605820672615, 0.002426640388044841, 0.15287834444682497, 0.2256775560881702, 0.22810419647621505, 0.009706561552179364, 0.14559842328269046, 0.002426640388044841, 0.038826246208717455, 0.038826246208717455, 0.1189053790141972, 0.9698778654431258, 0.9208944172546194, 0.03541901604825459, 0.08345789769359445, 0.04831773024365994, 0.8433640187984281, 0.021962604656209066, 0.9843670256813126, 0.2664914781405329, 0.02961016423783699, 0.6928778431653856, 0.9878856698517723, 0.9227339292358939, 0.07797751514669526, 0.982523620421776, 0.051298285728089026, 0.8720708573775134, 0.0683977143041187, 0.9573499758580786, 0.9717844467685938, 0.9692141016365942, 0.07196408619579742, 0.0509745610553565, 0.359820430978987, 0.017991021548949354, 0.032983539506407145, 0.053973064646848055, 0.005997007182983118, 0.03598204309789871, 0.04197905028088182, 0.25487280527678247, 0.07196408619579742, 0.963111384333638, 0.026498152304071477, 0.17665434869380983, 0.7861118516874538, 0.9695150661527385, 0.09177504800046413, 0.8948067180045253, 0.04637524042155322, 0.09275048084310644, 0.030916826947702147, 0.8038375006402558, 0.15211513325583878, 0.7405605171665834, 0.03602726840269865, 0.016012119290088292, 0.052039387692786945, 0.9487954274286089, 0.9570644553879148, 0.06626252506586476, 0.619410560398301, 0.17862071974276586, 0.07778644246862385, 0.014404896753448861, 0.037452731558967035, 0.008642938052069317, 0.9807918472073038, 0.9365289288652457, 0.04570206844050499, 0.603267303414666, 0.14167641216556548, 0.11425517110126249, 0.09140413688100998, 0.978548969065609, 0.19945027221393555, 0.6943824291892571, 0.0738704711903465, 0.02216114135710395, 0.9749621731280878, 0.05226531032628178, 0.9233538157643115, 0.08125644642799368, 0.031252479395382185, 0.031252479395382185, 0.10000793406522299, 0.10625842994429943, 0.043753471153535055, 0.4562861991725799, 0.012500991758152873, 0.06250495879076437, 0.031252479395382185, 0.03750297527445862, 0.012500991758152873, 0.9855332110961351, 0.9440953866075822, 0.052449743700421235, 0.025040207025416913, 0.9744813900724749, 0.03223228277052851, 0.19339369662317107, 0.026860235642107093, 0.03223228277052851, 0.037604329898949934, 0.6768779381810988, 0.9712492072569274, 0.038210123573820504, 0.7747431952209123, 0.01581108561675331, 0.10540723744502208, 0.06456193293507602, 0.06321623412350773, 0.9301817306744709, 0.5904634569415075, 0.12746512721276987, 0.04873666628723554, 0.044987691957448186, 0.03748974329787349, 0.014995897319149397, 0.06185807644149126, 0.07497948659574698, 0.9595421996833109, 0.9749209052783209, 0.9282427324230513, 0.9379738608162886, 0.06023685344691762, 0.05538530165625921, 0.11868278926341261, 0.822867338892994, 0.9779425052119133, 0.9553580946500914, 0.091802161100172, 0.03482150938282386, 0.05381505995527324, 0.6299527606529044, 0.1867699139624189, 0.10859650818572714, 0.06108553585447152, 0.033936408808039734, 0.06787281761607947, 0.7024836623264225, 0.023755486165627813, 0.8093780160690188, 0.18519666469375856, 0.9971043726871117, 0.9857460630136963, 0.863419489243004, 0.0653006336402272, 0.0653006336402272, 0.054387235680626034, 0.036258157120417356, 0.036258157120417356, 0.030215130933681132, 0.7130770900348747, 0.12690354992146075, 0.954401981914008, 0.04305572850739886, 0.05025197662477256, 0.05025197662477256, 0.05025197662477256, 0.6784016844344295, 0.1633189240305108, 0.956148418835861, 0.9713529071000778, 0.9742118795172124, 0.9790698806654737, 0.9933132749854681, 0.018605714190027094, 0.0992304756801445, 0.505455235495736, 0.015504761825022579, 0.03721142838005419, 0.0992304756801445, 0.015504761825022579, 0.17985523717026192, 0.024807618920036124, 0.9785500052172446, 0.9461405210742331, 0.9546902375057554, 0.04328836239127065, 0.9523439726079543, 0.9824048452742584, 0.9799721058063184, 0.2633566228578206, 0.05180786023432536, 0.030221251803356462, 0.09066375541006938, 0.008634643372387561, 0.030221251803356462, 0.42309752524699046, 0.017269286744775122, 0.0863464337238756, 0.15158910591323196, 0.06737293596143643, 0.46599614039993525, 0.02245764532047881, 0.23019086453490778, 0.05614411330119702, 0.1743436117363169, 0.8094524830614713, 0.9786132116969237, 0.9876631274851576, 0.9461473110573047, 0.9880925642147828, 0.991962931641845, 0.9911010149514279, 0.9787268829340479, 0.9470215860158878, 0.9990607620563233, 0.11773906438262735, 0.8799445864385833, 0.1274861567568938, 0.10430685552836765, 0.09271720491410457, 0.6721997356272582, 0.9552463138847478, 0.9518526351673432, 0.047520630802605636, 0.9369722619171128, 0.9805742500753923, 0.9758051541436453, 0.9768830278985442, 0.023253516189623173, 0.011626758094811587, 0.9417674056797385, 0.023253516189623173, 0.9147702648891198, 0.9595297986151748, 0.0369049922544298, 0.9324824111214849, 0.05480333251160916, 0.5388994363641567, 0.10351740585526174, 0.2831505513099806, 0.015223147919891433, 0.988256385590413, 0.033418118656497506, 0.016709059328248753, 0.696210805343698, 0.07240592375574459, 0.07797561019849418, 0.033418118656497506, 0.044557491541996674, 0.011139372885499169, 0.011139372885499169, 0.982506600044189, 0.996174364482323, 0.13264407365534067, 0.7996542726079109, 0.06821695216560378, 0.20467376893433545, 0.08771732954328662, 0.038985479797016276, 0.6237676767522604, 0.038985479797016276, 0.1471263329606708, 0.052545118914525284, 0.7146136172375438, 0.05885053318426831, 0.025221657078972136, 0.004271418180732846, 0.029899927265129925, 0.4057847271696204, 0.04698559998806131, 0.021357090903664232, 0.49121309078427733, 0.8596029807857967, 0.06612330621429205, 0.06612330621429205, 0.9587232903638511, 0.010787811978685802, 0.03027547232727951, 0.09710631130290735, 0.08901411869433175, 0.48148546021024896, 0.008092192608575613, 0.024276577825726838, 0.09710631130290735, 0.15375165956293665, 0.044507059347165874, 0.9075506680076093, 0.09308211979565224, 0.4130091184183994, 0.02100046364839319, 0.511011282110901, 0.04900108184625077, 0.9754519584245326, 0.9593536049942958, 0.9547327825244899, 0.042790181935188895, 0.09878721014667066, 0.01003720316998258, 0.06286458827515405, 0.004226190808413718, 0.023772323297327164, 0.2150074573780479, 0.033809526467309746, 0.0898065546787915, 0.2662500209300642, 0.15214286910289385, 0.9794736653213834, 0.9586030844395004, 0.039575356697043595, 0.0919794634172312, 0.0919794634172312, 0.8084510731935585, 0.9851319982498438, 0.04819511406594233, 0.578341368791308, 0.3293332794506059, 0.04417885456044714, 0.6791670249925551, 0.13106732061259838, 0.019362217817770214, 0.0074470068529885435, 0.023830421929563337, 0.08489587812406939, 0.05436315002681637, 0.986374729343895, 0.05031560884860309, 0.13752933085284846, 0.8028134922954894, 0.00894499712864055, 0.9812202158331835, 0.05074328149350463, 0.8562928752028905, 0.025371640746752314, 0.06342910186688078, 0.8039208227565875, 0.018480938454174423, 0.17094868070111344, 0.9182165736463086, 0.06558689811759348, 0.02956563475495932, 0.6208783298541458, 0.34000479968203223, 0.9790082239343565, 0.03909772326497271, 0.17593975469237721, 0.091228020951603, 0.019548861632486356, 0.638596146661221, 0.03258143605414393, 0.9376366456385709, 0.9650609428230523, 0.953488590308522, 0.7490327726705058, 0.03256664229002199, 0.10798412969849397, 0.027424540875807993, 0.08227362262742398, 0.9498127789548416, 0.04252893040096306, 0.9525320316253041, 0.033422176548256285, 0.9826804806482369, 0.03484699100830742, 0.07840572976869169, 0.8798865229597623, 0.07024169082109441, 0.9307024033795008, 0.5534370224022012, 0.07662974156338169, 0.017028831458529264, 0.14474506739749876, 0.017028831458529264, 0.19157435390845423, 0.046146281808421334, 0.6921942271263201, 0.021534931510596624, 0.021534931510596624, 0.04306986302119325, 0.055375538170105605, 0.027687769085052803, 0.09229256361684267, 0.04608069054230339, 0.07860823680745872, 0.14095270048233977, 0.01490845870486286, 0.05150194825316261, 0.021685030843436887, 0.02710628855429611, 0.1775461900306395, 0.01219782984943325, 0.03523817512058494, 0.02710628855429611, 0.26022037012124266, 0.10706983978946963, 0.036801790982925464, 0.07886098067769742, 0.04205918969477196, 0.11566277166062289, 0.05257398711846495, 0.026286993559232474, 0.15246456264354835, 0.047316588406618454, 0.34698831498186866, 0.09463317681323691, 0.01051479742369299, 0.9399293565949834, 0.03233950391983281, 0.1062583700223078, 0.02771957478842812, 0.02771957478842812, 0.05543914957685624, 0.03695943305123749, 0.6421701492652515, 0.0692989369710703, 0.061636076727785066, 0.40774635373765505, 0.09008349675599356, 0.11378968011283397, 0.04741236671368082, 0.09008349675599356, 0.004741236671368082, 0.009482473342736164, 0.04741236671368082, 0.12801339012693821, 0.99011843271757, 0.12456997187661555, 0.8346188115733241, 0.037370991562984665, 0.9473006520908657, 0.8485144180948078, 0.03048554795550208, 0.020323698637001383, 0.0660520205702545, 0.03302601028512725, 0.9627613778898714, 0.04118563540821089, 0.29578774520442364, 0.3856473133677929, 0.16474254163284355, 0.05990637877557947, 0.04118563540821089, 0.007488297346947434, 0.9347434635414944, 0.01780832681596142, 0.9735218659392243, 0.974857288194565, 0.9653178345141233, 0.528066582017266, 0.07363019879979307, 0.011504718562467669, 0.04141698682488361, 0.062125480237325406, 0.02185896526868857, 0.009203774849974134, 0.24850192094930162, 0.0034514155687403007, 0.12120920462297659, 0.7999807505116454, 0.060604602311488294, 0.9539928370484131, 0.9856008859382688, 0.032765626635983265, 0.02033728549819651, 0.4349919398225365, 0.06553125327196653, 0.024856682275573513, 0.23952802920098112, 0.05649245971721253, 0.047453666162458524, 0.03954472180204877, 0.023726833081229262, 0.014688039526475257, 0.03608845548542475, 0.016403843402465795, 0.08858075437331529, 0.14107305326120584, 0.07545767965134266, 0.20996919555156218, 0.4297806971446038, 0.03470528883555506, 0.3991108216088832, 0.028507915829205945, 0.04214213644317401, 0.024789492025396473, 0.006197373006349118, 0.01611316981650771, 0.1351027315384108, 0.11279218871555395, 0.10659481570920484, 0.09172112049396695, 0.016961052755511928, 0.6360394783316973, 0.008480526377755964, 0.3222600023547266, 0.979022543880968, 0.9771960379652624, 0.9806846671692803], \"Term\": [\"abortion\", \"abortion\", \"abortion\", \"abortion\", \"abuse\", \"abuse\", \"abuse\", \"abuse\", \"abuse\", \"abuse\", \"actor\", \"actor\", \"actor\", \"actor\", \"actor\", \"adams\", \"adele\", \"advent\", \"africa\", \"africa\", \"africa\", \"africa\", \"age\", \"age\", \"age\", \"age\", \"age\", \"age\", \"age\", \"age\", \"agreement\", \"agreement\", \"agreement\", \"air\", \"air\", \"air\", \"air\", \"air\", \"air\", \"air\", \"air\", \"air\", \"air\", \"air\", \"air\", \"airport\", \"airport\", \"airport\", \"airport\", \"aj\", \"aldi\", \"alexei\", \"alien\", \"allison\", \"amanda\", \"amazon\", \"amazon\", \"america\", \"america\", \"america\", \"america\", \"amp\", \"amp\", \"amp\", \"amp\", \"amp\", \"amp\", \"amp\", \"amp\", \"amp\", \"amp\", \"amp\", \"amp;a\", \"amp;m\", \"amy\", \"ancient\", \"andy\", \"andy\", \"angeles\", \"anti\", \"anti\", \"anti\", \"anti\", \"anti\", \"anti\", \"antibody\", \"antisemitism\", \"anton\", \"aoc\", \"aplaceinthesun\", \"apple\", \"approve\", \"approve\", \"approve\", \"approve\", \"approve\", \"approve\", \"arcadia\", \"arcadia\", \"arctic\", \"ardern\", \"area\", \"area\", \"area\", \"area\", \"area\", \"area\", \"arena\", \"argentina\", \"argentina\", \"arizona\", \"armenia\", \"arrest\", \"arrest\", \"arsenal\", \"article\", \"article\", \"asda\", \"assassination\", \"assault\", \"assault\", \"assault\", \"assault\", \"asset\", \"asset\", \"asteroid\", \"aston\", \"astrazeneca\", \"astronaut\", \"astronomer\", \"attack\", \"attack\", \"attack\", \"attack\", \"attack\", \"attack\", \"attacker\", \"australia\", \"australia\", \"australia\", \"australia\", \"australia\", \"australia\", \"australia\", \"australia\", \"australia\", \"australia\", \"azerbaijan\", \"baby\", \"baby\", \"baby\", \"baby\", \"bader\", \"ballot\", \"bank\", \"bank\", \"bank\", \"bank\", \"bank\", \"bank\", \"bar\", \"bar\", \"bar\", \"bar\", \"bar\", \"bar\", \"barack\", \"barni\", \"barnier\", \"barrett\", \"bashir\", \"battleground\", \"bbcpapers\", \"bbcpapers\", \"bear\", \"bear\", \"bear\", \"bear\", \"bear\", \"bear\", \"bear\", \"behead\", \"beijing\", \"beijing\", \"beke\", \"beverley\", \"bias\", \"biden\", \"billion\", \"billion\", \"biontech\", \"birth\", \"birth\", \"black\", \"black\", \"black\", \"black\", \"black\", \"black\", \"black\", \"black\", \"black\", \"black\", \"black\", \"blackfriday\", \"blair\", \"blaze\", \"bloc\", \"bn\", \"boat\", \"boat\", \"boat\", \"boeing\", \"bond\", \"bond\", \"boris\", \"boy\", \"boy\", \"boy\", \"break\", \"break\", \"break\", \"break\", \"break\", \"break\", \"break\", \"break\", \"break\", \"break\", \"break\", \"break\", \"break\", \"break\", \"breaker\", \"breonna\", \"brexit\", \"brexit\", \"bride\", \"bride\", \"brighton\", \"britain\", \"britain\", \"britain\", \"britain\", \"britain\", \"britain\", \"britain\", \"britain\", \"britain\", \"britain\", \"britain\", \"britain\", \"britain\", \"britain\", \"brussels\", \"burger\", \"burley\", \"burnham\", \"bus\", \"bus\", \"business\", \"business\", \"business\", \"business\", \"business\", \"business\", \"business\", \"business\", \"buy\", \"buy\", \"cage\", \"cake\", \"callard\", \"campaign\", \"campaign\", \"campaign\", \"campaign\", \"campaign\", \"campaign\", \"campaign\", \"campaign\", \"campaign\", \"campaign\", \"campaign\", \"cancel\", \"cancel\", \"cancel\", \"cancel\", \"cancel\", \"cancel\", \"cancel\", \"cancel\", \"cancel\", \"cancel\", \"car\", \"car\", \"car\", \"car\", \"car\", \"car\", \"car\", \"car\", \"carbon\", \"cardi\", \"care\", \"care\", \"care\", \"care\", \"care\", \"care\", \"care\", \"care\", \"carol\", \"carol\", \"carolina\", \"case\", \"case\", \"case\", \"case\", \"case\", \"case\", \"case\", \"case\", \"cash\", \"cash\", \"cash\", \"cash\", \"cash\", \"cash\", \"castle\", \"cat\", \"cat\", \"cat\", \"celebrity\", \"celebrity\", \"celebrity\", \"century\", \"century\", \"century\", \"century\", \"century\", \"champion\", \"champion\", \"champion\", \"chancellor\", \"chancellor\", \"chancellor\", \"chancellor\", \"chancellor\", \"charge\", \"charge\", \"charge\", \"charge\", \"charge\", \"charge\", \"charles\", \"charles\", \"charles\", \"cheap\", \"cheap\", \"chelsea\", \"chief\", \"chief\", \"chief\", \"chief\", \"chief\", \"chief\", \"chief\", \"chief\", \"chief\", \"child\", \"child\", \"child\", \"child\", \"child\", \"child\", \"child\", \"child\", \"child\", \"child\", \"china\", \"china\", \"china\", \"china\", \"china\", \"china\", \"chinese\", \"chinese\", \"chinese\", \"chinese\", \"chinese\", \"chinese\", \"chinese\", \"chinese\", \"chocolate\", \"chrissy\", \"christmas\", \"christmas\", \"christmas\", \"christmas\", \"christmas\", \"christmas\", \"christmas\", \"church\", \"church\", \"church\", \"church\", \"cineworld\", \"circuit\", \"city\", \"city\", \"city\", \"city\", \"city\", \"city\", \"city\", \"city\", \"city\", \"city\", \"climate\", \"climate\", \"climate\", \"clinton\", \"club\", \"club\", \"club\", \"coach\", \"coffee\", \"cohen\", \"collins\", \"company\", \"company\", \"company\", \"company\", \"company\", \"company\", \"coney\", \"conference\", \"conference\", \"conference\", \"confession\", \"confirmation\", \"conflict\", \"connery\", \"console\", \"conspiracy\", \"conspiracy\", \"contact\", \"contact\", \"contact\", \"contact\", \"contact\", \"convosindy\", \"convosindy\", \"convosindy\", \"cop\", \"cop\", \"cop\", \"cop\", \"corbyn\", \"coronation\", \"coronationstreet\", \"coronavirus\", \"coronavirus\", \"coronavirus\", \"coronavirus\", \"coronavirus\", \"corridor\", \"corrie\", \"cost\", \"cost\", \"cost\", \"cost\", \"cost\", \"cost\", \"cost\", \"count\", \"count\", \"count\", \"count\", \"count\", \"count\", \"counting\", \"country\", \"country\", \"country\", \"country\", \"country\", \"country\", \"country\", \"country\", \"country\", \"country\", \"country\", \"court\", \"court\", \"court\", \"court\", \"court\", \"court\", \"court\", \"court\", \"court\", \"crash\", \"crash\", \"crash\", \"crash\", \"cream\", \"credit\", \"credit\", \"credit\", \"cricket\", \"crime\", \"crime\", \"crime\", \"crime\", \"crime\", \"crisis\", \"crisis\", \"crisis\", \"crisis\", \"crisis\", \"crisis\", \"crisis\", \"crisis\", \"cristiano\", \"crown\", \"cruise\", \"cumming\", \"cumming\", \"cup\", \"cup\", \"curfew\", \"curfew\", \"curfew\", \"custody\", \"customer\", \"customer\", \"cut\", \"cut\", \"cut\", \"cut\", \"cut\", \"cut\", \"cut\", \"cut\", \"cut\", \"cut\", \"cut\", \"dad\", \"dad\", \"dad\", \"dad\", \"daly\", \"dance\", \"dance\", \"dance\", \"dance\", \"dance\", \"daughter\", \"daughter\", \"daughter\", \"daughter\", \"david\", \"david\", \"david\", \"david\", \"david\", \"david\", \"david\", \"dead\", \"dead\", \"dead\", \"dead\", \"dead\", \"deal\", \"deal\", \"deal\", \"deal\", \"deal\", \"deal\", \"death\", \"death\", \"death\", \"death\", \"death\", \"death\", \"debate\", \"debate\", \"debate\", \"debate\", \"debt\", \"delivery\", \"delivery\", \"delivery\", \"democrat\", \"democrat\", \"democrats\", \"democrats\", \"democrats\", \"depp\", \"diana\", \"diary\", \"die\", \"die\", \"die\", \"die\", \"die\", \"die\", \"die\", \"die\", \"diego\", \"discharge\", \"discount\", \"disease\", \"disease\", \"disease\", \"disease\", \"dog\", \"dog\", \"dog\", \"dog\", \"dollar\", \"dollar\", \"dollars\", \"dolly\", \"dominic\", \"dominic\", \"dominic\", \"dominic\", \"donald\", \"dose\", \"dose\", \"drakeford\", \"dry\", \"du\", \"duke\", \"eamonn\", \"earth\", \"earth\", \"earthquake\", \"earthquake\", \"economic\", \"economic\", \"economic\", \"economic\", \"economy\", \"economy\", \"economy\", \"economy\", \"economy\", \"editorial\", \"editorial\", \"editorial\", \"education\", \"education\", \"education\", \"education\", \"efficacy\", \"elect\", \"elect\", \"election\", \"electoral\", \"elizabeth\", \"elvis\", \"emily\", \"emission\", \"emma\", \"emma\", \"emmerdale\", \"emmerdale\", \"empire\", \"employer\", \"end\", \"end\", \"end\", \"end\", \"end\", \"end\", \"end\", \"end\", \"end\", \"end\", \"end\", \"end\", \"end\", \"end\", \"england\", \"england\", \"england\", \"england\", \"england\", \"england\", \"equity\", \"essay\", \"eta\", \"ethiopia\", \"ethiopian\", \"eu\", \"eu\", \"euro\", \"euro\", \"european\", \"european\", \"european\", \"eustice\", \"evacuate\", \"everton\", \"eviction\", \"exam\", \"executive\", \"executive\", \"executive\", \"executive\", \"executive\", \"executive\", \"executive\", \"extinction\", \"f\", \"f\", \"f\", \"f\", \"f\", \"facebook\", \"facebook\", \"facebook\", \"facebook\", \"family\", \"family\", \"family\", \"family\", \"family\", \"family\", \"family\", \"family\", \"family\", \"family\", \"family\", \"fan\", \"fan\", \"fan\", \"fan\", \"fan\", \"fan\", \"fantastic\", \"fashion\", \"fashion\", \"fashion\", \"fda\", \"ferrier\", \"festive\", \"festive\", \"film\", \"film\", \"film\", \"film\", \"film\", \"final\", \"final\", \"final\", \"final\", \"final\", \"final\", \"final\", \"final\", \"final\", \"final\", \"finance\", \"finance\", \"finance\", \"finance\", \"fire\", \"fire\", \"fire\", \"fire\", \"fire\", \"fire\", \"fire\", \"fire\", \"fire\", \"fire\", \"fire\", \"firebreak\", \"firefighter\", \"firm\", \"firm\", \"firm\", \"firm\", \"firm\", \"firm\", \"firm\", \"fishing\", \"fishing\", \"fishing\", \"fishing\", \"flame\", \"fleet\", \"fleetstreetfox\", \"fletcher\", \"flight\", \"flight\", \"flight\", \"flood\", \"flood\", \"flooding\", \"flout\", \"flu\", \"fly\", \"fly\", \"fly\", \"fly\", \"fly\", \"fly\", \"fm\", \"food\", \"food\", \"food\", \"food\", \"food\", \"food\", \"food\", \"football\", \"force\", \"force\", \"force\", \"force\", \"force\", \"force\", \"force\", \"force\", \"force\", \"force\", \"force\", \"force\", \"force\", \"force\", \"forest\", \"fossil\", \"france\", \"france\", \"france\", \"france\", \"france\", \"francis\", \"fraser\", \"free\", \"free\", \"free\", \"free\", \"free\", \"free\", \"free\", \"free\", \"free\", \"free\", \"free\", \"freeview\", \"french\", \"french\", \"french\", \"french\", \"friday\", \"friday\", \"friday\", \"friday\", \"friday\", \"friday\", \"friday\", \"fund\", \"fund\", \"fund\", \"furlough\", \"furlough\", \"gale\", \"game\", \"game\", \"game\", \"game\", \"game\", \"game\", \"game\", \"gang\", \"gang\", \"garraway\", \"gathering\", \"gathering\", \"gbbo\", \"gcse\", \"gdp\", \"gemma\", \"george\", \"george\", \"george\", \"george\", \"george\", \"george\", \"georgia\", \"georgia\", \"georgia\", \"ghislaine\", \"ginsburg\", \"giovanni\", \"girl\", \"girl\", \"girl\", \"giuliani\", \"goal\", \"goal\", \"google\", \"google\", \"google\", \"government\", \"government\", \"government\", \"government\", \"government\", \"government\", \"government\", \"government\", \"government\", \"government\", \"grand\", \"grand\", \"grand\", \"green\", \"green\", \"green\", \"green\", \"green\", \"green\", \"green\", \"greg\", \"grenfell\", \"greta\", \"gunman\", \"gym\", \"gym\", \"halen\", \"halloween\", \"halloween\", \"halloween\", \"halloween\", \"halloween\", \"ham\", \"hamilton\", \"hamilton\", \"hamilton\", \"hancock\", \"harding\", \"harris\", \"harris\", \"harry\", \"harry\", \"harry\", \"headline\", \"headline\", \"headline\", \"health\", \"health\", \"health\", \"health\", \"health\", \"health\", \"health\", \"health\", \"health\", \"health\", \"heathrow\", \"help\", \"help\", \"help\", \"help\", \"help\", \"help\", \"help\", \"help\", \"help\", \"help\", \"help\", \"help\", \"help\", \"help\", \"herd\", \"herd\", \"hillary\", \"hit\", \"hit\", \"hit\", \"hit\", \"hit\", \"hit\", \"hit\", \"hit\", \"hit\", \"hit\", \"hit\", \"hit\", \"hit\", \"hit\", \"holden\", \"holiday\", \"holiday\", \"holiday\", \"holiday\", \"holiday\", \"holly\", \"holmes\", \"home\", \"home\", \"home\", \"home\", \"home\", \"home\", \"home\", \"home\", \"home\", \"home\", \"home\", \"home\", \"home\", \"hong\", \"hospital\", \"hospital\", \"hospital\", \"hospital\", \"hotel\", \"hotel\", \"hotel\", \"hotel\", \"hotel\", \"house\", \"house\", \"house\", \"house\", \"house\", \"house\", \"house\", \"house\", \"household\", \"household\", \"household\", \"hrvy\", \"hurricane\", \"husband\", \"husband\", \"husband\", \"husband\", \"husband\", \"ice\", \"ice\", \"ice\", \"icu\", \"immune\", \"immunity\", \"immunity\", \"immunity\", \"income\", \"independence\", \"independence\", \"india\", \"india\", \"india\", \"india\", \"india\", \"india\", \"india\", \"indoor\", \"indoor\", \"industrial\", \"infect\", \"infected\", \"infection\", \"infection\", \"infectious\", \"inflation\", \"injure\", \"injure\", \"injure\", \"inmate\", \"instagram\", \"instagram\", \"instagram\", \"instagram\", \"intelligence\", \"intelligence\", \"intelligence\", \"intensive\", \"intensive\", \"internal\", \"internal\", \"interview\", \"interview\", \"interview\", \"interview\", \"interview\", \"interview\", \"interview\", \"investor\", \"investor\", \"iphone\", \"iran\", \"iran\", \"iraq\", \"isis\", \"islamist\", \"island\", \"island\", \"island\", \"island\", \"island\", \"isle\", \"israel\", \"israel\", \"israel\", \"item\", \"ivanka\", \"jab\", \"jab\", \"jab\", \"jacinda\", \"jail\", \"jail\", \"jail\", \"jail\", \"james\", \"james\", \"james\", \"james\", \"james\", \"jenrick\", \"jeremy\", \"jeremy\", \"jessicaboulton\", \"jet\", \"jet\", \"jet\", \"jewish\", \"jewish\", \"job\", \"job\", \"job\", \"job\", \"job\", \"job\", \"job\", \"job\", \"job\", \"job\", \"joe\", \"joe\", \"john\", \"john\", \"john\", \"john\", \"john\", \"john\", \"john\", \"john\", \"john\", \"john\", \"john\", \"john\", \"johnny\", \"johnny\", \"johnson\", \"jones\", \"jones\", \"jones\", \"jones\", \"jones\", \"jones\", \"jong\", \"kamala\", \"kanye\", \"karabakh\", \"kardashian\", \"kate\", \"kate\", \"katy\", \"kay\", \"keir\", \"khabib\", \"khan\", \"kid\", \"kid\", \"kid\", \"kid\", \"kid\", \"kid\", \"kid\", \"kill\", \"kill\", \"kill\", \"kill\", \"killer\", \"killer\", \"kim\", \"kim\", \"klopp\", \"kong\", \"korea\", \"korea\", \"kylie\", \"labour\", \"labour\", \"labour\", \"lancashire\", \"lancashire\", \"langsford\", \"latin\", \"launch\", \"launch\", \"launch\", \"launch\", \"launch\", \"launch\", \"launch\", \"launch\", \"launch\", \"launch\", \"launch\", \"launch\", \"law\", \"law\", \"law\", \"law\", \"law\", \"law\", \"law\", \"law\", \"law\", \"law\", \"leader\", \"leader\", \"leader\", \"leader\", \"leader\", \"leader\", \"leader\", \"leader\", \"leader\", \"league\", \"letter\", \"letter\", \"letter\", \"letter\", \"letter\", \"letter\", \"lewis\", \"lewis\", \"lewis\", \"lewis\", \"life\", \"life\", \"life\", \"life\", \"life\", \"life\", \"life\", \"life\", \"life\", \"life\", \"life\", \"life\", \"life\", \"light\", \"light\", \"light\", \"light\", \"light\", \"light\", \"light\", \"light\", \"light\", \"lily\", \"lintern\", \"list\", \"list\", \"list\", \"list\", \"list\", \"list\", \"list\", \"list\", \"list\", \"list\", \"list\", \"list\", \"list\", \"liverpool\", \"liverpool\", \"liverpool\", \"local\", \"local\", \"local\", \"local\", \"local\", \"lockdown\", \"lockdown\", \"lockdown\", \"lockdown\", \"lockdown\", \"lockdown\", \"lockdown\", \"london\", \"london\", \"london\", \"london\", \"london\", \"london\", \"london\", \"london\", \"london\", \"london\", \"london\", \"los\", \"lose\", \"lose\", \"lose\", \"lose\", \"lose\", \"lose\", \"lose\", \"lose\", \"lose\", \"lose\", \"lose\", \"lose\", \"lose\", \"lose\", \"love\", \"love\", \"love\", \"love\", \"love\", \"love\", \"love\", \"love\", \"love\", \"love\", \"lung\", \"macron\", \"macron\", \"maisie\", \"maisie\", \"man\", \"man\", \"man\", \"man\", \"man\", \"man\", \"man\", \"man\", \"manchester\", \"manchester\", \"manchester\", \"manchester\", \"manchester\", \"maradona\", \"marcus\", \"marcusrashford\", \"market\", \"market\", \"market\", \"market\", \"markle\", \"match\", \"match\", \"matt\", \"matt\", \"matt\", \"matt\", \"maxwell\", \"maya\", \"mayor\", \"mayor\", \"mayor\", \"mccann\", \"mcconnell\", \"mcdonald\", \"meal\", \"meal\", \"meal\", \"measure\", \"measure\", \"measure\", \"measure\", \"measure\", \"medium\", \"medium\", \"medium\", \"medium\", \"medium\", \"medium\", \"medium\", \"meghan\", \"melania\", \"mental\", \"mental\", \"menu\", \"michel\", \"michigan\", \"middleton\", \"migrant\", \"migrant\", \"migrant\", \"mike\", \"mike\", \"military\", \"military\", \"military\", \"military\", \"million\", \"million\", \"million\", \"million\", \"million\", \"million\", \"million\", \"million\", \"million\", \"minister\", \"minister\", \"minister\", \"minister\", \"minister\", \"minister\", \"mink\", \"miscarriage\", \"miscarriage\", \"missile\", \"mitchell\", \"moderna\", \"money\", \"money\", \"money\", \"money\", \"monolith\", \"monty\", \"moon\", \"moon\", \"morgan\", \"morris\", \"mortgage\", \"mother\", \"mother\", \"mother\", \"mother\", \"mourinho\", \"movie\", \"movie\", \"mp\", \"mp\", \"mp\", \"mp\", \"mps\", \"mps\", \"mps\", \"mps\", \"mps\", \"mum\", \"mum\", \"murder\", \"murder\", \"mutation\", \"nagorno\", \"nasa\", \"national\", \"national\", \"national\", \"national\", \"national\", \"national\", \"national\", \"national\", \"national\", \"national\", \"national\", \"navalny\", \"navy\", \"negative\", \"negative\", \"negative\", \"negotiation\", \"negotiation\", \"negotiator\", \"netflix\", \"newborn\", \"newspaper\", \"newspaper\", \"newspaper\", \"newspaper\", \"newspaper\", \"newspaper\", \"newspaper\", \"nhs\", \"nhs\", \"nhs\", \"nicola\", \"nicola\", \"nicola\", \"nicole\", \"nightingale\", \"nintendo\", \"nobel\", \"north\", \"north\", \"north\", \"north\", \"north\", \"north\", \"north\", \"north\", \"nuclear\", \"number\", \"number\", \"number\", \"number\", \"number\", \"number\", \"number\", \"number\", \"number\", \"number\", \"number\", \"obama\", \"ofcom\", \"officer\", \"officer\", \"old\", \"old\", \"old\", \"old\", \"old\", \"old\", \"old\", \"old\", \"old\", \"old\", \"old\", \"online\", \"online\", \"online\", \"online\", \"online\", \"online\", \"online\", \"online\", \"opinion\", \"opinion\", \"opinion\", \"opinion\", \"opinion\", \"opinion\", \"opinion\", \"opinion\", \"outbreak\", \"outlander\", \"owner\", \"owner\", \"owner\", \"owner\", \"owner\", \"owner\", \"oxford\", \"oxford\", \"oxford\", \"ozark\", \"paedophile\", \"pandemic\", \"pandemic\", \"pandemic\", \"pandemic\", \"pandemic\", \"pandemic\", \"pandemic\", \"pandemic\", \"pandemic\", \"panorama\", \"pardon\", \"parent\", \"parent\", \"parent\", \"parent\", \"parent\", \"parent\", \"parliament\", \"parliament\", \"parliament\", \"party\", \"party\", \"party\", \"party\", \"party\", \"party\", \"party\", \"party\", \"passenger\", \"passenger\", \"patel\", \"patient\", \"pay\", \"pay\", \"pay\", \"pay\", \"pay\", \"pay\", \"peace\", \"pearson\", \"peck\", \"pelosi\", \"pence\", \"pennsylvania\", \"pension\", \"pension\", \"people\", \"people\", \"people\", \"people\", \"people\", \"people\", \"people\", \"people\", \"people\", \"people\", \"people\", \"people\", \"people\", \"percentage\", \"percentage\", \"percentage\", \"percentage\", \"percentage\", \"perry\", \"pet\", \"pet\", \"petition\", \"petition\", \"pfizer\", \"pfizer\", \"phillip\", \"pie\", \"pier\", \"plan\", \"plan\", \"plan\", \"plan\", \"plan\", \"plan\", \"plan\", \"plan\", \"plan\", \"plan\", \"plan\", \"plan\", \"plan\", \"plan\", \"play\", \"play\", \"play\", \"play\", \"play\", \"play\", \"play\", \"play\", \"play\", \"play\", \"play\", \"player\", \"playstation\", \"pm\", \"pm\", \"pm\", \"pm\", \"pm\", \"pm\", \"pm\", \"pmqs\", \"pmqs\", \"podcast\", \"podcast\", \"podcast\", \"podcast\", \"podcast\", \"podcast\", \"poisoning\", \"police\", \"police\", \"police\", \"policy\", \"policy\", \"policy\", \"policy\", \"policy\", \"policy\", \"policy\", \"policy\", \"politic\", \"politic\", \"politic\", \"politic\", \"politic\", \"politic\", \"politic\", \"politic\", \"politics\", \"politics\", \"politics\", \"politics\", \"politics\", \"politics\", \"politics\", \"poll\", \"poll\", \"poll\", \"poll\", \"poll\", \"poll\", \"pollution\", \"pope\", \"positive\", \"post\", \"post\", \"post\", \"post\", \"post\", \"post\", \"post\", \"post\", \"post\", \"post\", \"post\", \"post\", \"post\", \"post\", \"postcode\", \"pound\", \"pound\", \"pound\", \"pound\", \"pound\", \"power\", \"power\", \"power\", \"power\", \"power\", \"power\", \"power\", \"power\", \"power\", \"power\", \"pregnant\", \"pregnant\", \"pregnant\", \"premier\", \"presidency\", \"president\", \"president\", \"president\", \"president\", \"president\", \"presidential\", \"presidential\", \"presley\", \"preview\", \"price\", \"price\", \"price\", \"price\", \"primark\", \"prime\", \"prime\", \"prime\", \"prime\", \"prince\", \"prince\", \"princess\", \"prison\", \"prisoner\", \"pritchard\", \"priti\", \"prize\", \"product\", \"product\", \"protest\", \"protest\", \"protest\", \"protester\", \"protester\", \"protester\", \"ps\", \"pub\", \"pub\", \"pub\", \"pub\", \"putin\", \"quarantine\", \"quarantine\", \"quarantine\", \"queen\", \"queen\", \"question\", \"question\", \"question\", \"question\", \"question\", \"question\", \"question\", \"question\", \"question\", \"question\", \"question\", \"quit\", \"quit\", \"quit\", \"quit\", \"quit\", \"quit\", \"rain\", \"rally\", \"rally\", \"rally\", \"rally\", \"ranvir\", \"rape\", \"rape\", \"rashford\", \"ratana\", \"ready\", \"ready\", \"ready\", \"ready\", \"ready\", \"ready\", \"ready\", \"ready\", \"ready\", \"recipe\", \"recipe\", \"record\", \"record\", \"record\", \"record\", \"record\", \"record\", \"record\", \"record\", \"record\", \"record\", \"recovery\", \"recovery\", \"recovery\", \"recovery\", \"redknapp\", \"redundancy\", \"reid\", \"relation\", \"relation\", \"relation\", \"religious\", \"remdesivir\", \"rent\", \"report\", \"report\", \"report\", \"report\", \"report\", \"report\", \"report\", \"report\", \"report\", \"report\", \"report\", \"report\", \"report\", \"republican\", \"republican\", \"republicans\", \"resign\", \"resign\", \"resign\", \"resign\", \"resign\", \"restaurant\", \"restaurant\", \"restaurant\", \"restriction\", \"restriction\", \"restriction\", \"result\", \"result\", \"result\", \"result\", \"result\", \"result\", \"return\", \"return\", \"return\", \"return\", \"return\", \"return\", \"return\", \"return\", \"return\", \"return\", \"return\", \"return\", \"return\", \"return\", \"reunion\", \"reveller\", \"revenue\", \"revolt\", \"revolt\", \"right\", \"right\", \"right\", \"right\", \"right\", \"right\", \"right\", \"right\", \"right\", \"right\", \"right\", \"ripper\", \"rise\", \"rise\", \"rise\", \"rise\", \"rise\", \"rise\", \"rise\", \"rise\", \"rise\", \"rise\", \"rishi\", \"risk\", \"risk\", \"risk\", \"risk\", \"risk\", \"risk\", \"risk\", \"risk\", \"risk\", \"risk\", \"risk\", \"ronaldo\", \"royal\", \"royal\", \"royal\", \"royal\", \"rudy\", \"rugby\", \"rule\", \"rule\", \"rule\", \"rule\", \"rule\", \"rule\", \"rule\", \"rule\", \"rule\", \"russia\", \"russia\", \"russia\", \"russia\", \"russia\", \"sadiq\", \"sainsbury\", \"sainsbury\", \"salary\", \"sale\", \"sale\", \"sale\", \"save\", \"save\", \"save\", \"save\", \"save\", \"save\", \"save\", \"save\", \"save\", \"save\", \"save\", \"save\", \"scam\", \"scheme\", \"scheme\", \"scheme\", \"scheme\", \"schofield\", \"school\", \"school\", \"school\", \"school\", \"school\", \"school\", \"schoolgirl\", \"schumacher\", \"science\", \"science\", \"science\", \"science\", \"scientist\", \"scientist\", \"scientist\", \"scientist\", \"scientist\", \"scientist\", \"scot\", \"scot\", \"scot\", \"scot\", \"scotland\", \"scotland\", \"scotland\", \"scotland\", \"scotland\", \"scotland\", \"sea\", \"sea\", \"sea\", \"sean\", \"sean\", \"season\", \"season\", \"season\", \"season\", \"secretary\", \"secretary\", \"secretary\", \"secretary\", \"secretary\", \"secretary\", \"sector\", \"sector\", \"seeker\", \"sell\", \"sell\", \"sell\", \"sell\", \"sell\", \"semitism\", \"senate\", \"sentence\", \"sentence\", \"series\", \"series\", \"series\", \"series\", \"series\", \"series\", \"series\", \"sex\", \"sex\", \"sex\", \"sex\", \"sex\", \"sex\", \"sex\", \"shane\", \"share\", \"share\", \"share\", \"share\", \"share\", \"share\", \"share\", \"share\", \"share\", \"share\", \"share\", \"shaun\", \"shed\", \"shed\", \"shoot\", \"shoot\", \"shoot\", \"shoot\", \"shooting\", \"shop\", \"shop\", \"shop\", \"shopper\", \"shopping\", \"shopping\", \"shrink\", \"singer\", \"singer\", \"singer\", \"singh\", \"sixatsix\", \"ski\", \"sky\", \"sky\", \"sky\", \"sky\", \"sky\", \"sky\", \"sky\", \"sky\", \"sky\", \"sky\", \"sky\", \"slavery\", \"smith\", \"smith\", \"smith\", \"smoke\", \"snow\", \"snow\", \"snp\", \"snp\", \"snp\", \"snp\", \"social\", \"social\", \"social\", \"social\", \"social\", \"solar\", \"solomon\", \"son\", \"son\", \"son\", \"son\", \"son\", \"son\", \"son\", \"sophie\", \"sophyridgesky\", \"south\", \"south\", \"south\", \"south\", \"south\", \"southgate\", \"space\", \"space\", \"space\", \"space\", \"spacex\", \"spanish\", \"spanish\", \"spark\", \"spark\", \"spark\", \"spark\", \"spark\", \"spark\", \"spark\", \"spark\", \"spark\", \"spark\", \"spark\", \"spark\", \"spending\", \"spike\", \"spike\", \"sport\", \"sport\", \"spread\", \"spread\", \"spread\", \"spread\", \"spread\", \"spread\", \"stadium\", \"star\", \"star\", \"star\", \"star\", \"star\", \"starmer\", \"starmer\", \"state\", \"state\", \"state\", \"state\", \"state\", \"state\", \"state\", \"state\", \"stewart\", \"stimulus\", \"stomach\", \"store\", \"store\", \"storm\", \"storm\", \"storm\", \"strand\", \"stranger\", \"student\", \"student\", \"student\", \"student\", \"student\", \"study\", \"study\", \"study\", \"study\", \"study\", \"study\", \"sturgeon\", \"sturgeon\", \"sunak\", \"supermarket\", \"supporter\", \"supporter\", \"supporter\", \"surge\", \"surge\", \"surge\", \"surge\", \"surge\", \"surge\", \"suspect\", \"suspect\", \"suspend\", \"suspend\", \"suspend\", \"suspend\", \"suspend\", \"suspension\", \"suspicion\", \"sutcliffe\", \"swift\", \"symptom\", \"system\", \"system\", \"system\", \"system\", \"system\", \"system\", \"system\", \"system\", \"system\", \"taiwan\", \"tam\", \"tanker\", \"tax\", \"tax\", \"taxpayer\", \"teaching\", \"team\", \"team\", \"team\", \"team\", \"team\", \"team\", \"team\", \"team\", \"team\", \"technology\", \"technology\", \"technology\", \"technology\", \"technology\", \"technology\", \"teenager\", \"teenager\", \"teigen\", \"temperature\", \"terminal\", \"terror\", \"terrorist\", \"tesco\", \"tesla\", \"tess\", \"test\", \"testing\", \"testing\", \"theory\", \"theory\", \"theory\", \"theory\", \"thunberg\", \"tier\", \"tier\", \"tiered\", \"tigray\", \"toddler\", \"tokyo\", \"toll\", \"toll\", \"toll\", \"toll\", \"tominey\", \"tone\", \"tone\", \"topshop\", \"tory\", \"tory\", \"tory\", \"tory\", \"tory\", \"tottenham\", \"tough\", \"tough\", \"tough\", \"tough\", \"tough\", \"tough\", \"tough\", \"tough\", \"tough\", \"tourist\", \"trace\", \"trade\", \"trade\", \"trade\", \"train\", \"train\", \"train\", \"train\", \"train\", \"travel\", \"travel\", \"travel\", \"travel\", \"travel\", \"trial\", \"trial\", \"trial\", \"trial\", \"trial\", \"trial\", \"troop\", \"troop\", \"troop\", \"trump\", \"trump\", \"trump\", \"tv\", \"tv\", \"tv\", \"tv\", \"tv\", \"tv\", \"tv\", \"tv\", \"twin\", \"twin\", \"twitter\", \"twitter\", \"twitter\", \"twitter\", \"tyson\", \"ufc\", \"ufo\", \"uk\", \"uk\", \"uk\", \"uk\", \"uk\", \"uk\", \"uk\", \"uk\", \"uk\", \"uk\", \"uk\", \"unemployment\", \"union\", \"union\", \"united\", \"united\", \"united\", \"universal\", \"university\", \"university\", \"university\", \"university\", \"usa\", \"usa\", \"usa\", \"usa\", \"usa\", \"usa\", \"usa\", \"utd\", \"vaccine\", \"vaccine\", \"vaccine\", \"vaccine\", \"vallance\", \"victim\", \"victim\", \"victim\", \"victim\", \"victory\", \"victory\", \"victory\", \"vienna\", \"vienna\", \"viewer\", \"viewer\", \"viewer\", \"villa\", \"virus\", \"virus\", \"virus\", \"virus\", \"virus\", \"virus\", \"vitamin\", \"vladimir\", \"volcano\", \"vote\", \"vote\", \"vote\", \"vote\", \"vote\", \"voter\", \"voter\", \"voting\", \"voting\", \"vp\", \"vs\", \"vs\", \"vs\", \"wage\", \"wage\", \"wales\", \"wales\", \"wales\", \"wales\", \"wales\", \"wales\", \"war\", \"war\", \"war\", \"war\", \"war\", \"war\", \"war\", \"war\", \"warn\", \"warn\", \"warn\", \"warn\", \"warn\", \"warn\", \"warn\", \"warn\", \"warn\", \"warn\", \"warn\", \"warn\", \"warn\", \"warning\", \"warning\", \"warning\", \"warning\", \"warning\", \"warning\", \"warning\", \"warning\", \"warning\", \"warning\", \"warning\", \"warrington\", \"wave\", \"wave\", \"wave\", \"wave\", \"wave\", \"wave\", \"wave\", \"wave\", \"wear\", \"wear\", \"wear\", \"wear\", \"wear\", \"wear\", \"wear\", \"wear\", \"wear\", \"wear\", \"weather\", \"weight\", \"weight\", \"weight\", \"welfare\", \"white\", \"white\", \"white\", \"white\", \"white\", \"whitty\", \"wife\", \"wife\", \"wife\", \"wife\", \"wife\", \"wife\", \"wife\", \"wight\", \"william\", \"william\", \"williamson\", \"willoughby\", \"win\", \"win\", \"win\", \"win\", \"win\", \"win\", \"win\", \"win\", \"win\", \"wind\", \"wind\", \"wind\", \"windsor\", \"wisconsin\", \"woman\", \"woman\", \"woman\", \"woman\", \"woman\", \"woman\", \"woman\", \"woman\", \"woman\", \"woman\", \"woman\", \"worker\", \"worker\", \"worker\", \"worker\", \"worker\", \"worker\", \"worker\", \"world\", \"world\", \"world\", \"world\", \"world\", \"world\", \"world\", \"world\", \"world\", \"world\", \"world\", \"worth\", \"worth\", \"worth\", \"worth\", \"xbox\", \"xi\", \"zoo\"]}, \"R\": 30, \"lambda.step\": 0.01, \"plot.opts\": {\"xlab\": \"PC1\", \"ylab\": \"PC2\"}, \"topic.order\": [1, 2, 3, 4, 5, 6, 7, 8, 9, 10, 11, 12, 13, 14]};\n",
       "\n",
       "function LDAvis_load_lib(url, callback){\n",
       "  var s = document.createElement('script');\n",
       "  s.src = url;\n",
       "  s.async = true;\n",
       "  s.onreadystatechange = s.onload = callback;\n",
       "  s.onerror = function(){console.warn(\"failed to load library \" + url);};\n",
       "  document.getElementsByTagName(\"head\")[0].appendChild(s);\n",
       "}\n",
       "\n",
       "if(typeof(LDAvis) !== \"undefined\"){\n",
       "   // already loaded: just create the visualization\n",
       "   !function(LDAvis){\n",
       "       new LDAvis(\"#\" + \"ldavis_el383761406693963348488119510568\", ldavis_el383761406693963348488119510568_data);\n",
       "   }(LDAvis);\n",
       "}else if(typeof define === \"function\" && define.amd){\n",
       "   // require.js is available: use it to load d3/LDAvis\n",
       "   require.config({paths: {d3: \"https://cdnjs.cloudflare.com/ajax/libs/d3/3.5.5/d3.min\"}});\n",
       "   require([\"d3\"], function(d3){\n",
       "      window.d3 = d3;\n",
       "      LDAvis_load_lib(\"https://cdn.rawgit.com/bmabey/pyLDAvis/files/ldavis.v1.0.0.js\", function(){\n",
       "        new LDAvis(\"#\" + \"ldavis_el383761406693963348488119510568\", ldavis_el383761406693963348488119510568_data);\n",
       "      });\n",
       "    });\n",
       "}else{\n",
       "    // require.js not available: dynamically load d3 & LDAvis\n",
       "    LDAvis_load_lib(\"https://cdnjs.cloudflare.com/ajax/libs/d3/3.5.5/d3.min.js\", function(){\n",
       "         LDAvis_load_lib(\"https://cdn.rawgit.com/bmabey/pyLDAvis/files/ldavis.v1.0.0.js\", function(){\n",
       "                 new LDAvis(\"#\" + \"ldavis_el383761406693963348488119510568\", ldavis_el383761406693963348488119510568_data);\n",
       "            })\n",
       "         });\n",
       "}\n",
       "</script>"
      ],
      "text/plain": [
       "PreparedData(topic_coordinates=              x         y  topics  cluster       Freq\n",
       "topic                                                \n",
       "0      0.230150  0.294145       1        1  10.270371\n",
       "1     -0.003367  0.170297       2        1   7.017528\n",
       "2     -0.227300  0.048840       3        1   8.077990\n",
       "3      0.104403 -0.241514       4        1   7.086669\n",
       "4     -0.296426 -0.145212       5        1   6.747023\n",
       "5      0.257823 -0.259755       6        1   8.289151\n",
       "6      0.287507 -0.092014       7        1   7.056713\n",
       "7     -0.036336  0.352092       8        1   6.405481\n",
       "8      0.353706  0.078525       9        1   5.435193\n",
       "9     -0.015010 -0.372394      10        1   5.324687\n",
       "10     0.097252  0.070835      11        1   6.107175\n",
       "11    -0.196001 -0.280552      12        1   5.377791\n",
       "12    -0.229130  0.249245      13        1   9.550751\n",
       "13    -0.327271  0.127464      14        1   7.253476, topic_info=             Term         Freq        Total Category  logprob  loglift\n",
       "852   coronavirus  5780.000000  5780.000000  Default  30.0000  30.0000\n",
       "4031        trump  2873.000000  2873.000000  Default  29.0000  29.0000\n",
       "1258     election  1746.000000  1746.000000  Default  28.0000  28.0000\n",
       "424         boris  1225.000000  1225.000000  Default  27.0000  27.0000\n",
       "356         biden  1478.000000  1478.000000  Default  26.0000  26.0000\n",
       "...           ...          ...          ...      ...      ...      ...\n",
       "1690   government   199.557660  1078.938123  Topic14  -4.6391   0.9361\n",
       "3295         rise   153.334575   491.284917  Topic14  -4.9026   1.4593\n",
       "2496        money   115.097886   466.642021  Topic14  -5.1894   1.2239\n",
       "2866         plan   113.301115   667.578087  Topic14  -5.2052   0.8501\n",
       "1806         help   112.389496   553.101633  Topic14  -5.2133   1.0301\n",
       "\n",
       "[935 rows x 6 columns], token_table=      Topic      Freq      Term\n",
       "term                           \n",
       "4         1  0.049149  abortion\n",
       "4         4  0.163829  abortion\n",
       "4         9  0.032766  abortion\n",
       "4        11  0.737231  abortion\n",
       "8         4  0.061227     abuse\n",
       "...     ...       ...       ...\n",
       "4312     12  0.008481     worth\n",
       "4312     14  0.322260     worth\n",
       "4326      5  0.979023      xbox\n",
       "4327      2  0.977196        xi\n",
       "4349      4  0.980685       zoo\n",
       "\n",
       "[2556 rows x 3 columns], R=30, lambda_step=0.01, plot_opts={'xlab': 'PC1', 'ylab': 'PC2'}, topic_order=[1, 2, 3, 4, 5, 6, 7, 8, 9, 10, 11, 12, 13, 14])"
      ]
     },
     "execution_count": 686,
     "metadata": {},
     "output_type": "execute_result"
    }
   ],
   "source": [
    "#assigning to each tweet its LDA cluster\n",
    "UK_News2['LDA_skl_A Topics14'] = topics_LDA_skl_A_14.argmax(axis=1) \n",
    "#Valisualization of the LDA best model clusters and clusters relevant words\n",
    "dash_finalConfig = pyLDAvis.sklearn.prepare(LDA_skl_A_14, dtm_UKNews_LDA, tfidf_UKNews_LDA,mds='mmds', sort_topics=False) #mds='mmds' , mds='tsne'\n",
    "dash_finalConfig "
   ]
  },
  {
   "cell_type": "markdown",
   "metadata": {},
   "source": [
    "After for each clsuter have been examined the most relevant words the\n",
    "following topics and respective labels came out:\n",
    "<br>\n",
    "Label1=['coronavirus','lockdown','restrictions','vaccine']\n",
    "<br>\n",
    "Label2=['election','US politics and public people']\n",
    "<br>\n",
    "Label3=['crime','police','jail','terror','arrest']\n",
    "<br>\n",
    "Label4=['public people','school','social media']\n",
    "<br>\n",
    "Label5=['celebrities','royals','entratainment-film-tv-netflix-music']\n",
    "<br>\n",
    "Label6=['sport']\n",
    "<br>\n",
    "Label7=['brexit','european deals/issues']\n",
    "<br>\n",
    "Label8=['people&life','space'] \n",
    "<br>\n",
    "Label9=['tech/digital companies','Christmas','shopping','sells','free-time']\n",
    "<br>\n",
    "Label10=['politics','labour party','mp','politic people']\n",
    "<br>\n",
    "Label11['financials','business','economy','market','trading','bank','companies','tax','workers','unemployment','investor']\n",
    "<br>\n",
    "Label12=['international affairs/issues politics and conflicts','climate change','war','nuclear']\n",
    "<br>\n",
    "Label13=['travel','holiday','weather','eviroment/climate condtions']"
   ]
  },
  {
   "cell_type": "code",
   "execution_count": 714,
   "metadata": {},
   "outputs": [],
   "source": [
    "# Labeling LDA best model Clusters \n",
    "UK_News2.insert(20, \"LDA_skl_A Topics14 Label\", \" \")\n",
    "labels_trueF=['Label1','Label2','Label3','Label4','Label5','Label6','Label7','Label8','Label9','Label10','Label11','Label12','Label13']\n",
    "labels_ldaF=[    2,         0,     6  ,    8,            5,     9,       7,       3,     4,     10,        13           ,1 ,    11  ]\n",
    "for i, j in zip(labels_ldaF, labels_trueF):\n",
    "    UK_News2.loc[UK_News2['LDA_skl_A Topics14'] == i, ['LDA_skl_A Topics14 Label']] =j\n",
    "labels_trueFF=['Label1']\n",
    "labels_ldaFF=[12]\n",
    "for i, j in zip(labels_ldaFF, labels_trueFF):\n",
    "    UK_News2.loc[UK_News2['LDA_skl_A Topics14'] == i, ['LDA_skl_A Topics14 Label']] =j"
   ]
  },
  {
   "cell_type": "code",
   "execution_count": 726,
   "metadata": {},
   "outputs": [],
   "source": [
    "# Save the dataset with labels for the best LDA model found out\n",
    "#UK_News2.to_pickle('UK_News_LDA_final_bestModel.df')"
   ]
  },
  {
   "cell_type": "markdown",
   "metadata": {},
   "source": [
    "# Guided and GSDMM models\n",
    "The code for these 2 models are reported just to indicate that there are other clustering models (linked to LDA) that one could perform. Such models were not validated as previously because after LDA have been performed another clustering models reported in another Jupyter Notebook."
   ]
  },
  {
   "cell_type": "markdown",
   "metadata": {},
   "source": [
    "## Guided LDA"
   ]
  },
  {
   "cell_type": "code",
   "execution_count": 19,
   "metadata": {},
   "outputs": [],
   "source": [
    "from lda import guidedlda as glda"
   ]
  },
  {
   "cell_type": "code",
   "execution_count": 21,
   "metadata": {},
   "outputs": [],
   "source": [
    "countV_UKNews_GLDA = CountVectorizer(tokenizer=lambda x: x,preprocessor=lambda x: x,min_df=0,max_df=1.0, ) #min_df=0.0001 \n",
    "countV_Fit_UKNews_GLDA = countV_UKNews_GLDA.fit_transform(UK_News['Tweets_C_tok12'])"
   ]
  },
  {
   "cell_type": "code",
   "execution_count": 22,
   "metadata": {},
   "outputs": [],
   "source": [
    "seed_topic_list = [['coronavirus', 'lockdown', 'restriction', 'infection', 'vaccine'],\n",
    "                   ['nasa','mars','meteor'],\n",
    "                   ['prince', 'crown', 'queen','royal'],\n",
    "                   ['celebrity', 'netflix', 'season','series','movie'],\n",
    "                  ['brexit','european','brussels'],\n",
    "                  ['vote','election','senator','campaign','republican','elect','poll'],\n",
    "                  ['money','company','economy','deal','company','economic','pound'],\n",
    "                  ['sport','football','league'],\n",
    "                  ['police','arrest','kill','attack','murder','terrorist','shoot'],\n",
    "                  ['court','judge','politic'],\n",
    "                  ['technology','tech','friday','amazon','apple','iphone'],\n",
    "                  ['iran','china','russia'],['climate','weather']]"
   ]
  },
  {
   "cell_type": "code",
   "execution_count": 23,
   "metadata": {},
   "outputs": [],
   "source": [
    "#Define GLDA model\n",
    "model_glda = glda.GuidedLDA(n_topics=14, n_iter=1000, random_state=11, refresh=20)"
   ]
  },
  {
   "cell_type": "code",
   "execution_count": 24,
   "metadata": {
    "scrolled": true
   },
   "outputs": [],
   "source": [
    "seed_topics = {}\n",
    "for t_id, st in enumerate(seed_topic_list):\n",
    "    for word in st:\n",
    "        seed_topics[countV_UKNews_GLDA.vocabulary_[word]] = t_id"
   ]
  },
  {
   "cell_type": "code",
   "execution_count": 26,
   "metadata": {
    "scrolled": true
   },
   "outputs": [
    {
     "name": "stderr",
     "output_type": "stream",
     "text": [
      "INFO:lda:n_documents: 105622\n",
      "INFO:lda:vocab_size: 4352\n",
      "INFO:lda:n_words: 814470\n",
      "INFO:lda:n_topics: 14\n",
      "INFO:lda:n_iter: 1000\n",
      "INFO:lda:<0> log likelihood: -10731805\n",
      "INFO:lda:<20> log likelihood: -6519524\n",
      "INFO:lda:<40> log likelihood: -6290184\n",
      "INFO:lda:<60> log likelihood: -6179220\n",
      "INFO:lda:<80> log likelihood: -6123404\n",
      "INFO:lda:<100> log likelihood: -6092707\n",
      "INFO:lda:<120> log likelihood: -6070776\n",
      "INFO:lda:<140> log likelihood: -6056995\n",
      "INFO:lda:<160> log likelihood: -6045387\n",
      "INFO:lda:<180> log likelihood: -6039550\n",
      "INFO:lda:<200> log likelihood: -6033076\n",
      "INFO:lda:<220> log likelihood: -6028644\n",
      "INFO:lda:<240> log likelihood: -6025494\n",
      "INFO:lda:<260> log likelihood: -6022488\n",
      "INFO:lda:<280> log likelihood: -6020210\n",
      "INFO:lda:<300> log likelihood: -6017622\n",
      "INFO:lda:<320> log likelihood: -6016684\n",
      "INFO:lda:<340> log likelihood: -6014525\n",
      "INFO:lda:<360> log likelihood: -6013491\n",
      "INFO:lda:<380> log likelihood: -6012318\n",
      "INFO:lda:<400> log likelihood: -6011853\n",
      "INFO:lda:<420> log likelihood: -6010988\n",
      "INFO:lda:<440> log likelihood: -6008895\n",
      "INFO:lda:<460> log likelihood: -6008510\n",
      "INFO:lda:<480> log likelihood: -6008695\n",
      "INFO:lda:<500> log likelihood: -6008415\n",
      "INFO:lda:<520> log likelihood: -6006415\n",
      "INFO:lda:<540> log likelihood: -6006984\n",
      "INFO:lda:<560> log likelihood: -6006527\n",
      "INFO:lda:<580> log likelihood: -6006595\n",
      "INFO:lda:<600> log likelihood: -6005924\n",
      "INFO:lda:<620> log likelihood: -6005353\n",
      "INFO:lda:<640> log likelihood: -6004553\n",
      "INFO:lda:<660> log likelihood: -6004524\n",
      "INFO:lda:<680> log likelihood: -6003095\n",
      "INFO:lda:<700> log likelihood: -6003677\n",
      "INFO:lda:<720> log likelihood: -6004108\n",
      "INFO:lda:<740> log likelihood: -6003677\n",
      "INFO:lda:<760> log likelihood: -6002600\n",
      "INFO:lda:<780> log likelihood: -6002539\n",
      "INFO:lda:<800> log likelihood: -6002473\n",
      "INFO:lda:<820> log likelihood: -6000786\n",
      "INFO:lda:<840> log likelihood: -6000513\n",
      "INFO:lda:<860> log likelihood: -6000780\n",
      "INFO:lda:<880> log likelihood: -6000563\n",
      "INFO:lda:<900> log likelihood: -5999728\n",
      "INFO:lda:<920> log likelihood: -5999034\n",
      "INFO:lda:<940> log likelihood: -5999186\n",
      "INFO:lda:<960> log likelihood: -5998562\n",
      "INFO:lda:<980> log likelihood: -5998147\n",
      "INFO:lda:<999> log likelihood: -5997935\n"
     ]
    },
    {
     "data": {
      "text/plain": [
       "<lda.guidedlda.GuidedLDA at 0x7fb07c5ff580>"
      ]
     },
     "execution_count": 26,
     "metadata": {},
     "output_type": "execute_result"
    }
   ],
   "source": [
    "model_glda.fit(countV_Fit_UKNews_GLDA, seed_topics=seed_topics, seed_confidence=0.25)"
   ]
  },
  {
   "cell_type": "code",
   "execution_count": 29,
   "metadata": {},
   "outputs": [
    {
     "name": "stdout",
     "output_type": "stream",
     "text": [
      "Topic 0: coronavirus lockdown tier restriction vaccine england boris johnson uk rule christmas government people pm area pub minister case national warn\n",
      "Topic 1: uk world space sky weather man people hit dog water storm old nasa rescue life moon home britain sea migrant\n",
      "Topic 2: prince royal harry queen meghan princess crown kate diana william markle family charles middleton morgan pier netflix celebrity interview duchess\n",
      "Topic 3: celebrity star fan die wife son share break james host baby death daughter viewer age husband love ex mum smith\n",
      "Topic 4: boris johnson brexit european union deal uk labour coronavirus tory minister starmer trade keir pm lockdown government leader politic prime\n",
      "Topic 5: trump election biden usa donald joe president win vote state debate house white result presidential campaign voter coronavirus america victory\n",
      "Topic 6: pound coronavirus uk pandemic job sunak bn dollar pay rishi government business percentage million money market economy rise company cut\n",
      "Topic 7: football sport league england win premier united manchester liverpool maradona man fan club cup player world vs diego city match\n",
      "Topic 8: police man woman kill attack die murder arrest death mum dead officer shoot old jail girl baby charge car boy\n",
      "Topic 9: coronavirus kay burley government secretary health people student minister home test lockdown school university child uk matt politic mp sky\n",
      "Topic 10: pound christmas travel money lockdown coronavirus holiday black friday deal sale launch uk home food flight buy rule sell amazon\n",
      "Topic 11: china usa trump war president government country world protest state uk right hong kong law chinese leader iran force attack\n",
      "Topic 12: coronavirus test case vaccine uk death people hospital patient rise positive study record percentage pandemic infection virus trump health england\n",
      "Topic 13: woman people black film life world story star book trump review work british man podcast prize listen die win history\n"
     ]
    }
   ],
   "source": [
    "vocab=countV_UKNews_GLDA.get_feature_names()\n",
    "n_top_words = 20\n",
    "topic_word = model_glda.topic_word_\n",
    "for i, topic_dist in enumerate(topic_word):\n",
    "    topic_words = np.array(vocab)[np.argsort(topic_dist)][:-(n_top_words+1):-1]\n",
    "    print('Topic {}: {}'.format(i, ' '.join(topic_words)))\n"
   ]
  },
  {
   "cell_type": "markdown",
   "metadata": {},
   "source": [
    "## GSDMM"
   ]
  },
  {
   "cell_type": "code",
   "execution_count": null,
   "metadata": {},
   "outputs": [],
   "source": [
    "#pip install GPyM-TM"
   ]
  },
  {
   "cell_type": "code",
   "execution_count": null,
   "metadata": {},
   "outputs": [],
   "source": [
    "from GPyM_TM import GSDMM\n",
    "from GPyM_TM import GPM\n",
    "nTopics = 13\n",
    "corpus = UK_News['Tweets_C_tok12']\n",
    "data_dmm = GSDMM.DMM(corpus, nTopics,nTopWords = 20) # Initialize the object, with default parameters.\n",
    "data_dmm.topicAssigmentInitialise() # Performs the inital document assignments and counts\n",
    "data_dmm.inference()\n",
    "psi, theta, selected_psi, selected_theta = data_dmm.worddist() # Determines and stores the psi, theta and selected_psi and selected_theta values\n",
    "finalAssignments = data_dmm.writeTopicAssignments() # Records the final topic assignments for the documents\n",
    "coherence_topwords = data_dmm.writeTopTopicalWords(finalAssignments) # Record the top words for each document\n",
    "score = data_dmm.coherence(coherence_topwords, len(finalAssignments)) #Calculates and stores the coherence\n",
    "print(\"Final number of topics found: \" + str(len(finalAssignments)))"
   ]
  },
  {
   "cell_type": "code",
   "execution_count": null,
   "metadata": {},
   "outputs": [],
   "source": []
  }
 ],
 "metadata": {
  "kernelspec": {
   "display_name": "bert1",
   "language": "python",
   "name": "bert1"
  },
  "language_info": {
   "codemirror_mode": {
    "name": "ipython",
    "version": 3
   },
   "file_extension": ".py",
   "mimetype": "text/x-python",
   "name": "python",
   "nbconvert_exporter": "python",
   "pygments_lexer": "ipython3",
   "version": "3.8.5"
  }
 },
 "nbformat": 4,
 "nbformat_minor": 4
}
